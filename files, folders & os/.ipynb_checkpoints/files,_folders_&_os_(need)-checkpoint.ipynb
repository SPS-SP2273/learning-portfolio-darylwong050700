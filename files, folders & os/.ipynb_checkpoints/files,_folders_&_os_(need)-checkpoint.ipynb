{
 "cells": [
  {
   "attachments": {},
   "cell_type": "markdown",
   "id": "123456",
   "metadata": {},
   "source": [
    "<div style=\"text-align:left;font-size:2em\"><span style=\"font-weight:bolder;font-size:1.25em\">SP2273 | Learning Portfolio</span><br><br><span style=\"font-weight:bold;color:darkred\">Files, Folders & OS (Need)</span></div>"
   ]
  },
  {
   "attachments": {},
   "cell_type": "markdown",
   "id": "52305e76",
   "metadata": {},
   "source": [
    "# What to expect in this chapter"
   ]
  },
  {
   "cell_type": "markdown",
   "id": "252281e2-97c6-4996-b2d3-2beee9f160dc",
   "metadata": {},
   "source": [
    "important to ensure code works regardless of OS  \n",
    "also important if the code is intended to write to a file"
   ]
  },
  {
   "attachments": {},
   "cell_type": "markdown",
   "id": "60b3f7b4",
   "metadata": {},
   "source": [
    "# 1 Important concepts"
   ]
  },
  {
   "attachments": {},
   "cell_type": "markdown",
   "id": "c0025d57",
   "metadata": {},
   "source": [
    "## 1.1 Path"
   ]
  },
  {
   "cell_type": "markdown",
   "id": "e0b75c96-da70-4b66-a1c4-624b156f3396",
   "metadata": {},
   "source": [
    "can be thought of as a directory, or a guide to a specific location  \n",
    "there is an **absolute path** to every file in the computer  \n",
    "a more convenient and equally clear way to define a path is using **relative path**, if the two files are located in the same directory\n",
    "- however, moving them out of the directory requires redefining the relative path, otherwise it will not work"
   ]
  },
  {
   "attachments": {},
   "cell_type": "markdown",
   "id": "c9deadad",
   "metadata": {},
   "source": [
    "## 1.2 More about relative paths"
   ]
  },
  {
   "cell_type": "markdown",
   "id": "d351cf36-2b69-45f0-8245-938230c020cb",
   "metadata": {},
   "source": [
    "`.` refers to this folder, `..` refers to one folder above (up)  \n",
    "two folders up: `../../filename`  \n",
    "three folders up: `../../../filename`  \n",
    "this works only if the file structure is consistent (i.e. it will not work in a different computer with a different file structure, unless the entire folder/directory is shared"
   ]
  },
  {
   "attachments": {},
   "cell_type": "markdown",
   "id": "b45806e7",
   "metadata": {},
   "source": [
    "### macOS or Linux"
   ]
  },
  {
   "cell_type": "markdown",
   "id": "92407889-f375-4d81-87e3-5a02bbae5f14",
   "metadata": {},
   "source": [
    "`~` returns to the desktop directory in all OSes"
   ]
  },
  {
   "attachments": {},
   "cell_type": "markdown",
   "id": "155840d0",
   "metadata": {},
   "source": [
    "## 1.3 Path separator"
   ]
  },
  {
   "cell_type": "markdown",
   "id": "0042ea26-a4ee-4c65-ac2c-44b7887afd5b",
   "metadata": {},
   "source": [
    "there are different path separators for Windows (\\) and MacOS/Linux (/)  \n",
    "try to write code in a way that can work in both systems (not hardcoding)"
   ]
  },
  {
   "attachments": {},
   "cell_type": "markdown",
   "id": "c3af9f23",
   "metadata": {},
   "source": [
    "## 1.4 Text files vs. Binary files"
   ]
  },
  {
   "cell_type": "markdown",
   "id": "aea94250-2ab1-4519-953f-6f66146e6932",
   "metadata": {},
   "source": [
    "text file: when opened in almost any software, they are readable (e.g. .txt, .csv)\n",
    "- note that Jupyter Notebooks are text files, but they are run by a software (Jupyter Notebook) to make it more readable\n",
    "\n",
    "binary file: below the graphical interface, it is stored as a series of 1s and 0s (binary). when run in the appropriate program that is able to make sense of the format of the binary file, then it will show its intended content\n",
    "- e.g. can be used as proprietary content\n",
    "- text files can be clunky/big (each letter is a number), while binary files can be compressed as patterns to store more data in less space. binary files generally parse faster as well"
   ]
  },
  {
   "attachments": {},
   "cell_type": "markdown",
   "id": "f6910e36",
   "metadata": {},
   "source": [
    "## 1.5 Extensions"
   ]
  },
  {
   "cell_type": "markdown",
   "id": "2ca51770-d2ed-40d2-831a-b837d439bc5c",
   "metadata": {},
   "source": [
    "file extensions (usually preceded by `.`) tell the OS how to handle the file (e.g. what associated program to open it with)\n",
    "- this underpins default programs for certain file extensions (e.g. Excel for .xlsx files)\n",
    "- they help to identify the correct decompression algorithm (reading method) to open the file with"
   ]
  },
  {
   "attachments": {},
   "cell_type": "markdown",
   "id": "5583ffdb",
   "metadata": {},
   "source": [
    "# 2 Opening and closing files"
   ]
  },
  {
   "attachments": {},
   "cell_type": "markdown",
   "id": "0e20f292",
   "metadata": {},
   "source": [
    "## 2.1 Reading data"
   ]
  },
  {
   "cell_type": "markdown",
   "id": "6ea1be7c-82af-4558-8517-a5284d0b70d6",
   "metadata": {},
   "source": [
    "```\n",
    "with open(filename.ext, 'r') as file:  \n",
    "    print(file.read())\n",
    "```\n",
    "opens a file and prints its contents using a file manager\n",
    "- `'r'` reads the entire file (as text file by default, doesn't really work with binary files unless `'rb'` is used)\n",
    "- `filename.ext` should be replaced with the actual file and its extension\n",
    "- by default, this would reference the same directory as the code file"
   ]
  },
  {
   "attachments": {},
   "cell_type": "markdown",
   "id": "b55c93c5",
   "metadata": {},
   "source": [
    "## 2.2 Writing data"
   ]
  },
  {
   "attachments": {},
   "cell_type": "markdown",
   "id": "0f11bea6",
   "metadata": {},
   "source": [
    "### Writing to a file in one go"
   ]
  },
  {
   "cell_type": "markdown",
   "id": "98c9ea03-d8d6-46e4-87cb-3311dc2c5fac",
   "metadata": {},
   "source": [
    "```\n",
    "with open(filename.txt, 'w') as file:  \n",
    "    file.write()\n",
    "```\n",
    "this creates a new text file `filename.txt` and writes the argument in `.write()` into the file\n",
    "- the `'w'` represents writing"
   ]
  },
  {
   "attachments": {},
   "cell_type": "markdown",
   "id": "fd064a7d",
   "metadata": {},
   "source": [
    "### Writing to a file, line by line"
   ]
  },
  {
   "cell_type": "markdown",
   "id": "2b524e84-8147-44d1-861d-32afdb5b8e08",
   "metadata": {},
   "source": [
    "using `.splitlines()` can split a file by a delineator into separate entiries in a list"
   ]
  },
  {
   "attachments": {},
   "cell_type": "markdown",
   "id": "854d30b6",
   "metadata": {},
   "source": [
    "# 3 Some useful packages"
   ]
  },
  {
   "attachments": {},
   "cell_type": "markdown",
   "id": "7a946543",
   "metadata": {},
   "source": [
    "# 4 OS safe paths"
   ]
  },
  {
   "attachments": {},
   "cell_type": "markdown",
   "id": "d3fb835d",
   "metadata": {},
   "source": [
    "# 5 Folders"
   ]
  },
  {
   "attachments": {},
   "cell_type": "markdown",
   "id": "746efeb6",
   "metadata": {},
   "source": [
    "## 5.1 Creating folders"
   ]
  },
  {
   "attachments": {},
   "cell_type": "markdown",
   "id": "9d3b1967",
   "metadata": {},
   "source": [
    "## 5.2 Checking for existence"
   ]
  },
  {
   "attachments": {},
   "cell_type": "markdown",
   "id": "4d8cfb54",
   "metadata": {},
   "source": [
    "### Using try-except"
   ]
  },
  {
   "cell_type": "code",
   "execution_count": null,
   "id": "5e438233",
   "metadata": {},
   "outputs": [],
   "source": [
    "\n",
    "# Your code here\n"
   ]
  },
  {
   "attachments": {},
   "cell_type": "markdown",
   "id": "56b40036",
   "metadata": {},
   "source": [
    "### Using os.path.exists()"
   ]
  },
  {
   "cell_type": "code",
   "execution_count": null,
   "id": "0ba29252",
   "metadata": {},
   "outputs": [],
   "source": [
    "\n",
    "# Your code here\n"
   ]
  },
  {
   "attachments": {},
   "cell_type": "markdown",
   "id": "8edbd67d",
   "metadata": {},
   "source": [
    "## 5.3 Copying files"
   ]
  },
  {
   "attachments": {},
   "cell_type": "markdown",
   "id": "b1469d0c",
   "metadata": {},
   "source": [
    "# 6 Listing and looking for files"
   ]
  },
  {
   "attachments": {},
   "cell_type": "markdown",
   "id": "3f490078",
   "metadata": {},
   "source": [
    "# 7 Extracting file info"
   ]
  },
  {
   "attachments": {},
   "cell_type": "markdown",
   "id": "bb30bd9c",
   "metadata": {},
   "source": [
    "# 8 Deleting stuff"
   ]
  }
 ],
 "metadata": {
  "kernelspec": {
   "display_name": "Python 3 (ipykernel)",
   "language": "python",
   "name": "python3"
  },
  "language_info": {
   "codemirror_mode": {
    "name": "ipython",
    "version": 3
   },
   "file_extension": ".py",
   "mimetype": "text/x-python",
   "name": "python",
   "nbconvert_exporter": "python",
   "pygments_lexer": "ipython3",
   "version": "3.11.5"
  },
  "toc": {
   "base_numbering": 1,
   "nav_menu": {},
   "number_sections": true,
   "sideBar": true,
   "skip_h1_title": false,
   "title_cell": "Table of Contents",
   "title_sidebar": "Contents",
   "toc_cell": false,
   "toc_position": {},
   "toc_section_display": true,
   "toc_window_display": false
  },
  "vscode": {
   "interpreter": {
    "hash": "31f2aee4e71d21fbe5cf8b01ff0e069b9275f58929596ceb00d14d90e3e16cd6"
   }
  }
 },
 "nbformat": 4,
 "nbformat_minor": 5
}
