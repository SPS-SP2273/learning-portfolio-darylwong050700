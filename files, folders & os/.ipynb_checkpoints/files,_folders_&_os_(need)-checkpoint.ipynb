{
 "cells": [
  {
   "attachments": {},
   "cell_type": "markdown",
   "id": "123456",
   "metadata": {},
   "source": [
    "<div style=\"text-align:left;font-size:2em\"><span style=\"font-weight:bolder;font-size:1.25em\">SP2273 | Learning Portfolio</span><br><br><span style=\"font-weight:bold;color:darkred\">Files, Folders & OS (Need)</span></div>"
   ]
  },
  {
   "attachments": {},
   "cell_type": "markdown",
   "id": "52305e76",
   "metadata": {},
   "source": [
    "# What to expect in this chapter"
   ]
  },
  {
   "cell_type": "markdown",
   "id": "252281e2-97c6-4996-b2d3-2beee9f160dc",
   "metadata": {},
   "source": [
    "important to ensure code works regardless of OS  \n",
    "also important if the code is intended to write to a file"
   ]
  },
  {
   "attachments": {},
   "cell_type": "markdown",
   "id": "60b3f7b4",
   "metadata": {},
   "source": [
    "# 1 Important concepts"
   ]
  },
  {
   "attachments": {},
   "cell_type": "markdown",
   "id": "c0025d57",
   "metadata": {},
   "source": [
    "## 1.1 Path"
   ]
  },
  {
   "cell_type": "code",
   "execution_count": 11,
   "id": "c0b35f3a-fb18-4e6d-a581-845b6bf716e9",
   "metadata": {},
   "outputs": [
    {
     "data": {
      "text/plain": [
       "'C:\\\\Users\\\\Daryl\\\\OneDrive\\\\Uni Official Stuff\\\\SP2273 Working on Interdisciplinary Science Pythonically\\\\Learning Portfolio\\\\learning-portfolio-darylwong050700\\\\files, folders & os  exercises\\\\files,_folders_&_os_(need)_exercises.ipynb'"
      ]
     },
     "execution_count": 11,
     "metadata": {},
     "output_type": "execute_result"
    }
   ],
   "source": [
    "# absolute path to the exercise file for this topic\n",
    "\"C:\\\\Users\\\\Daryl\\\\OneDrive\\\\Uni Official Stuff\\\\SP2273 Working on Interdisciplinary Science Pythonically\\\\Learning Portfolio\\\\learning-portfolio-darylwong050700\\\\files, folders & os  exercises\\\\files,_folders_&_os_(need)_exercises.ipynb\""
   ]
  },
  {
   "cell_type": "code",
   "execution_count": 37,
   "id": "8e09e798-0ea9-4db6-9e0c-b211ba3a6fd2",
   "metadata": {},
   "outputs": [
    {
     "data": {
      "text/plain": [
       "'..\\\\files, folders & os  exercises\\\\files,_folders_&_os_(need)_exercises.ipynb'"
      ]
     },
     "execution_count": 37,
     "metadata": {},
     "output_type": "execute_result"
    }
   ],
   "source": [
    "# relative path to the exercise file for this topic\n",
    "'..\\\\files, folders & os  exercises\\\\files,_folders_&_os_(need)_exercises.ipynb'"
   ]
  },
  {
   "cell_type": "markdown",
   "id": "e0b75c96-da70-4b66-a1c4-624b156f3396",
   "metadata": {},
   "source": [
    "can be thought of as a directory, or a guide to a specific location  \n",
    "there is an **absolute path** to every file in the computer  \n",
    "- to find the absolute path for the current file, `!dir` can be used (assuming administrative access)\n",
    "\n",
    "a more convenient and equally clear way to define a path is using **relative path**, if the two files are located in the same directory\n",
    "- however, moving them out of the directory requires redefining the relative path, otherwise it will not work\n",
    "- relative paths are more flexible and can work for different paths on different machines\n",
    "\n",
    "for Windows, since the file path separator `\\` is also used for escape sequences in Python, it needs to be escaped each time when used to write Windows file paths (`\\\\`)"
   ]
  },
  {
   "attachments": {},
   "cell_type": "markdown",
   "id": "c9deadad",
   "metadata": {},
   "source": [
    "## 1.2 More about relative paths"
   ]
  },
  {
   "cell_type": "code",
   "execution_count": 23,
   "id": "10118ea1-61a8-4ac3-8d8b-f70eda8d250b",
   "metadata": {},
   "outputs": [
    {
     "name": "stdout",
     "output_type": "stream",
     "text": [
      " Volume in drive C is OS\n",
      " Volume Serial Number is 1E90-B7B5\n",
      "\n",
      " Directory of C:\\Users\\Daryl\\OneDrive\\Uni Official Stuff\\SP2273 Working on Interdisciplinary Science Pythonically\\Learning Portfolio\\learning-portfolio-darylwong050700\\files, folders & os\n",
      "\n",
      "18/02/2024  02:04 pm    <DIR>          .\n",
      "20/01/2024  03:27 pm    <DIR>          ..\n",
      "07/02/2024  09:12 am    <DIR>          .ipynb_checkpoints\n",
      "18/02/2024  02:04 pm            19,089 files,_folders_&_os_(need).ipynb\n",
      "07/02/2024  09:35 am            10,713 spectrum-01.txt\n",
      "               2 File(s)         29,802 bytes\n",
      "               3 Dir(s)  390,134,800,384 bytes free\n"
     ]
    }
   ],
   "source": [
    "!dir"
   ]
  },
  {
   "cell_type": "code",
   "execution_count": 2,
   "id": "593815ac-f8e0-47de-a6e1-54f8ffcfd45f",
   "metadata": {},
   "outputs": [
    {
     "name": "stderr",
     "output_type": "stream",
     "text": [
      "The system cannot find the path specified.\n"
     ]
    }
   ],
   "source": [
    "#path = '..\\\\files, folders & os  exercises\\\\files,_folders_&_os_(need)_exercises.ipynb'\n",
    "path = '..'\n",
    "!cd path\n",
    "# !cd may be failing here due to an issue with processing whitespace (the ' ' after !cd)\n",
    "# Miniconda cd works fine"
   ]
  },
  {
   "cell_type": "markdown",
   "id": "d351cf36-2b69-45f0-8245-938230c020cb",
   "metadata": {},
   "source": [
    "`.` refers to this folder, `..` refers to one folder above (up)  \n",
    "two folders up: `../../filename`  \n",
    "three folders up: `../../../filename`  \n",
    "this works only if the file structure is consistent (i.e. it will not work in a different computer with a different file structure, unless the entire folder/directory is shared)  \n",
    "\n",
    "`!dir` can show the current folder in the kernel  \n",
    "to go 1 folder up from the current folder: `!cd ..`\n",
    "- 2 folders `!cd ../..`"
   ]
  },
  {
   "attachments": {},
   "cell_type": "markdown",
   "id": "b45806e7",
   "metadata": {},
   "source": [
    "### macOS or Linux"
   ]
  },
  {
   "cell_type": "markdown",
   "id": "92407889-f375-4d81-87e3-5a02bbae5f14",
   "metadata": {},
   "source": [
    "`~` returns to the desktop directory (home folder) in all OSes"
   ]
  },
  {
   "attachments": {},
   "cell_type": "markdown",
   "id": "155840d0",
   "metadata": {},
   "source": [
    "## 1.3 Path separator"
   ]
  },
  {
   "cell_type": "code",
   "execution_count": 13,
   "id": "504142bd-da8b-4598-aac5-3f8cf6bd1892",
   "metadata": {},
   "outputs": [
    {
     "name": "stderr",
     "output_type": "stream",
     "text": [
      "The directory name is invalid.\n"
     ]
    },
    {
     "name": "stdout",
     "output_type": "stream",
     "text": [
      " Volume in drive C is OS\n",
      " Volume Serial Number is 1E90-B7B5\n",
      "\n",
      " Directory of C:\\Users\\Daryl\\OneDrive\\Uni Official Stuff\\SP2273 Working on Interdisciplinary Science Pythonically\\Learning Portfolio\\learning-portfolio-darylwong050700\\files, folders & os\n",
      "\n",
      "18/02/2024  02:28 pm    <DIR>          .\n",
      "20/01/2024  03:27 pm    <DIR>          ..\n",
      "07/02/2024  09:12 am    <DIR>          .ipynb_checkpoints\n",
      "18/02/2024  02:28 pm            20,436 files,_folders_&_os_(need).ipynb\n",
      "07/02/2024  09:35 am            10,713 spectrum-01.txt\n",
      "               2 File(s)         31,149 bytes\n",
      "               3 Dir(s)  390,136,545,280 bytes free\n"
     ]
    }
   ],
   "source": [
    "!cd \"C:\\\\Users\\\\Daryl\\\\Pictures\\\\Image1.png\"\n",
    "!dir"
   ]
  },
  {
   "cell_type": "markdown",
   "id": "0042ea26-a4ee-4c65-ac2c-44b7887afd5b",
   "metadata": {},
   "source": [
    "there are different path separators for Windows (\\\\) and MacOS/Linux (/)  \n",
    "try to write code in a way that can work in both systems (not hardcoding)\n",
    "\n",
    "remember for Windows, the backslash needs to be escaped (or the filepath could be mistaken for an escape itself e.g. `\\n` or `\\t`)"
   ]
  },
  {
   "attachments": {},
   "cell_type": "markdown",
   "id": "c3af9f23",
   "metadata": {},
   "source": [
    "## 1.4 Text files vs. Binary files"
   ]
  },
  {
   "cell_type": "markdown",
   "id": "aea94250-2ab1-4519-953f-6f66146e6932",
   "metadata": {},
   "source": [
    "text file: when opened in almost any software, they are readable (e.g. .txt, .csv)\n",
    "- note that Jupyter Notebooks are text files, but they are run by a software (Jupyter Notebook) to make it more readable\n",
    "\n",
    "binary file: below the graphical interface, it is stored as a series of 1s and 0s (binary). when run in the appropriate program that is able to make sense of the format of the binary file, then it will show its intended content\n",
    "- e.g. can be used as proprietary content\n",
    "- text files can be clunky/big (each letter is a number), while binary files can be compressed as patterns to store more data in less space. binary files generally parse faster as well"
   ]
  },
  {
   "attachments": {},
   "cell_type": "markdown",
   "id": "f6910e36",
   "metadata": {},
   "source": [
    "## 1.5 Extensions"
   ]
  },
  {
   "cell_type": "markdown",
   "id": "2ca51770-d2ed-40d2-831a-b837d439bc5c",
   "metadata": {},
   "source": [
    "file extensions (usually preceded by `.`) tell the OS how to handle the file (e.g. what associated program to open it with)\n",
    "- this underpins default programs for certain file extensions (e.g. Excel for .xlsx files)\n",
    "- they help to identify the correct decompression algorithm (reading method) to open the file with"
   ]
  },
  {
   "attachments": {},
   "cell_type": "markdown",
   "id": "5583ffdb",
   "metadata": {},
   "source": [
    "# 2 Opening and closing files"
   ]
  },
  {
   "attachments": {},
   "cell_type": "markdown",
   "id": "0e20f292",
   "metadata": {},
   "source": [
    "## 2.1 Reading data"
   ]
  },
  {
   "cell_type": "code",
   "execution_count": 14,
   "id": "65a2b317-dcc8-425d-a35c-a6c4e0948a75",
   "metadata": {},
   "outputs": [
    {
     "name": "stdout",
     "output_type": "stream",
     "text": [
      "Light Intensity, Ch A vs Actual Angular Position, Run #4\n",
      "Actual Angular Position (  )\tLight Intensity, Ch A ( % max )\n",
      "0.000\t-0.2\n",
      "0.000\t-0.1\n",
      "0.000\t-0.1\n",
      "0.000\t-0.1\n",
      "0.000\t-0.1\n",
      "0.000\t-0.2\n",
      "0.000\t-0.1\n",
      "0.000\t-0.1\n",
      "0.000\t-0.1\n",
      "0.000\t-0.2\n",
      "0.000\t-0.1\n",
      "0.000\t-0.1\n",
      "0.000\t-0.2\n",
      "0.000\t-0.3\n",
      "0.000\t-0.2\n",
      "0.000\t-0.2\n",
      "0.001\t-0.1\n",
      "0.001\t-0.1\n",
      "0.001\t-0.1\n",
      "0.001\t-0.1\n",
      "0.001\t-0.1\n",
      "0.001\t-0.1\n",
      "0.004\t-0.1\n",
      "0.010\t-0.2\n",
      "0.018\t-0.2\n",
      "0.024\t-0.3\n",
      "0.029\t-0.3\n",
      "0.033\t-0.3\n",
      "0.036\t-0.2\n",
      "0.039\t-0.1\n",
      "0.043\t-0.1\n",
      "0.047\t-0.1\n",
      "0.053\t-0.1\n",
      "0.060\t-0.1\n",
      "0.066\t-0.1\n",
      "0.069\t-0.1\n",
      "0.073\t-0.1\n",
      "0.076\t-0.1\n",
      "0.079\t-0.1\n",
      "0.081\t-0.1\n",
      "0.082\t-0.1\n",
      "0.083\t-0.2\n",
      "0.083\t-0.2\n",
      "0.086\t-0.2\n",
      "0.090\t-0.2\n",
      "0.095\t-0.2\n",
      "0.100\t-0.3\n",
      "0.103\t-0.3\n",
      "0.104\t-0.2\n",
      "0.105\t-0.3\n",
      "0.107\t-0.2\n",
      "0.110\t-0.2\n",
      "0.115\t-0.1\n",
      "0.122\t-0.2\n",
      "0.128\t-0.1\n",
      "0.134\t-0.2\n",
      "0.139\t-0.1\n",
      "0.144\t-0.2\n",
      "0.150\t-0.2\n",
      "0.157\t-0.2\n",
      "0.164\t-0.2\n",
      "0.170\t-0.3\n",
      "0.175\t-0.3\n",
      "0.180\t-0.2\n",
      "0.185\t-0.2\n",
      "0.191\t-0.1\n",
      "0.195\t-0.1\n",
      "0.198\t-0.2\n",
      "0.201\t-0.1\n",
      "0.204\t-0.2\n",
      "0.206\t-0.2\n",
      "0.208\t-0.3\n",
      "0.210\t-0.3\n",
      "0.213\t-0.1\n",
      "0.217\t0.3\n",
      "0.222\t0.6\n",
      "0.226\t0.2\n",
      "0.230\t0.0\n",
      "0.233\t-0.1\n",
      "0.235\t-0.1\n",
      "0.237\t-0.1\n",
      "0.237\t-0.1\n",
      "0.238\t-0.1\n",
      "0.241\t-0.1\n",
      "0.245\t-0.1\n",
      "0.249\t-0.1\n",
      "0.252\t-0.1\n",
      "0.254\t-0.2\n",
      "0.257\t-0.2\n",
      "0.260\t-0.2\n",
      "0.263\t-0.3\n",
      "0.266\t-0.3\n",
      "0.269\t-0.2\n",
      "0.271\t-0.1\n",
      "0.274\t-0.1\n",
      "0.277\t-0.2\n",
      "0.279\t-0.1\n",
      "0.282\t-0.2\n",
      "0.285\t-0.1\n",
      "0.289\t-0.2\n",
      "0.292\t-0.2\n",
      "0.297\t-0.3\n",
      "0.300\t-0.2\n",
      "0.304\t-0.1\n",
      "0.307\t-0.1\n",
      "0.310\t-0.2\n",
      "0.312\t-0.1\n",
      "0.316\t-0.1\n",
      "0.320\t-0.2\n",
      "0.325\t-0.3\n",
      "0.330\t-0.2\n",
      "0.334\t-0.1\n",
      "0.336\t-0.1\n",
      "0.338\t-0.1\n",
      "0.340\t-0.1\n",
      "0.343\t-0.1\n",
      "0.346\t-0.2\n",
      "0.349\t-0.3\n",
      "0.353\t-0.1\n",
      "0.357\t-0.1\n",
      "0.362\t-0.1\n",
      "0.367\t-0.2\n",
      "0.369\t-0.1\n",
      "0.371\t-0.2\n",
      "0.371\t-0.1\n",
      "0.372\t-0.2\n",
      "0.372\t-0.2\n",
      "0.372\t-0.1\n",
      "0.373\t-0.2\n",
      "0.374\t-0.1\n",
      "0.376\t-0.2\n",
      "0.378\t-0.1\n",
      "0.380\t-0.2\n",
      "0.382\t-0.2\n",
      "0.384\t-0.2\n",
      "0.385\t-0.2\n",
      "0.386\t-0.2\n",
      "0.387\t-0.2\n",
      "0.389\t-0.3\n",
      "0.391\t-0.3\n",
      "0.394\t-0.2\n",
      "0.398\t-0.1\n",
      "0.401\t-0.1\n",
      "0.404\t-0.1\n",
      "0.405\t-0.1\n",
      "0.406\t-0.1\n",
      "0.408\t-0.1\n",
      "0.411\t-0.1\n",
      "0.414\t-0.2\n",
      "0.417\t-0.1\n",
      "0.420\t-0.2\n",
      "0.423\t-0.1\n",
      "0.425\t-0.2\n",
      "0.427\t-0.1\n",
      "0.430\t-0.1\n",
      "0.433\t-0.1\n",
      "0.437\t-0.2\n",
      "0.440\t-0.2\n",
      "0.443\t-0.1\n",
      "0.446\t-0.1\n",
      "0.449\t-0.1\n",
      "0.453\t-0.1\n",
      "0.458\t-0.1\n",
      "0.462\t-0.2\n",
      "0.466\t-0.2\n",
      "0.469\t-0.2\n",
      "0.472\t-0.3\n",
      "0.474\t-0.3\n",
      "0.477\t-0.2\n",
      "0.481\t-0.1\n",
      "0.486\t-0.1\n",
      "0.490\t-0.1\n",
      "0.493\t-0.1\n",
      "0.496\t0.0\n",
      "0.498\t0.0\n",
      "0.501\t-0.1\n",
      "0.503\t-0.1\n",
      "0.505\t-0.2\n",
      "0.507\t-0.3\n",
      "0.510\t-0.1\n",
      "0.513\t-0.1\n",
      "0.516\t-0.1\n",
      "0.519\t-0.1\n",
      "0.523\t-0.1\n",
      "0.526\t-0.1\n",
      "0.529\t-0.1\n",
      "0.533\t-0.1\n",
      "0.537\t-0.1\n",
      "0.541\t-0.2\n",
      "0.544\t-0.1\n",
      "0.547\t-0.1\n",
      "0.549\t-0.1\n",
      "0.551\t-0.1\n",
      "0.554\t-0.1\n",
      "0.557\t-0.1\n",
      "0.561\t-0.1\n",
      "0.564\t-0.1\n",
      "0.568\t-0.2\n",
      "0.572\t-0.2\n",
      "0.577\t-0.2\n",
      "0.581\t-0.1\n",
      "0.586\t0.0\n",
      "0.588\t0.0\n",
      "0.590\t-0.1\n",
      "0.592\t-0.1\n",
      "0.593\t-0.2\n",
      "0.596\t-0.2\n",
      "0.599\t-0.2\n",
      "0.602\t-0.2\n",
      "0.605\t-0.2\n",
      "0.606\t-0.2\n",
      "0.607\t-0.2\n",
      "0.609\t-0.1\n",
      "0.610\t-0.1\n",
      "0.613\t0.0\n",
      "0.615\t0.0\n",
      "0.617\t-0.1\n",
      "0.619\t-0.1\n",
      "0.622\t-0.2\n",
      "0.624\t-0.1\n",
      "0.626\t0.0\n",
      "0.629\t0.1\n",
      "0.632\t0.1\n",
      "0.634\t0.0\n",
      "0.637\t0.0\n",
      "0.639\t0.0\n",
      "0.641\t0.0\n",
      "0.643\t0.0\n",
      "0.645\t0.0\n",
      "0.648\t0.0\n",
      "0.650\t0.0\n",
      "0.653\t0.0\n",
      "0.656\t0.0\n",
      "0.658\t-0.1\n",
      "0.661\t-0.2\n",
      "0.663\t0.0\n",
      "0.666\t0.0\n",
      "0.670\t0.0\n",
      "0.676\t0.0\n",
      "0.680\t0.0\n",
      "0.684\t0.0\n",
      "0.686\t0.1\n",
      "0.686\t0.1\n",
      "0.687\t0.0\n",
      "0.689\t0.0\n",
      "0.693\t0.1\n",
      "0.697\t0.3\n",
      "0.701\t0.5\n",
      "0.703\t1.2\n",
      "0.705\t7.1\n",
      "0.707\t23.7\n",
      "0.709\t51.4\n",
      "0.710\t61.3\n",
      "0.712\t48.9\n",
      "0.714\t25.8\n",
      "0.715\t12.1\n",
      "0.717\t4.6\n",
      "0.718\t1.8\n",
      "0.721\t0.7\n",
      "0.723\t0.5\n",
      "0.724\t0.4\n",
      "0.726\t0.4\n",
      "0.727\t0.4\n",
      "0.728\t0.3\n",
      "0.730\t0.2\n",
      "0.732\t0.2\n",
      "0.735\t0.1\n",
      "0.737\t0.2\n",
      "0.740\t0.2\n",
      "0.742\t0.2\n",
      "0.744\t0.1\n",
      "0.746\t0.1\n",
      "0.748\t0.1\n",
      "0.749\t0.1\n",
      "0.750\t0.0\n",
      "0.752\t0.0\n",
      "0.754\t0.1\n",
      "0.756\t0.1\n",
      "0.758\t0.1\n",
      "0.761\t0.1\n",
      "0.764\t0.0\n",
      "0.766\t-0.1\n",
      "0.768\t-0.1\n",
      "0.770\t-0.1\n",
      "0.772\t0.0\n",
      "0.774\t0.0\n",
      "0.777\t0.0\n",
      "0.779\t0.0\n",
      "0.780\t0.0\n",
      "0.782\t0.0\n",
      "0.784\t-0.1\n",
      "0.785\t0.0\n",
      "0.787\t0.0\n",
      "0.789\t0.0\n",
      "0.791\t0.0\n",
      "0.793\t0.0\n",
      "0.795\t0.0\n",
      "0.797\t-0.1\n",
      "0.800\t0.0\n",
      "0.804\t0.0\n",
      "0.806\t0.0\n",
      "0.809\t0.0\n",
      "0.811\t0.1\n",
      "0.813\t0.9\n",
      "0.815\t3.0\n",
      "0.817\t5.9\n",
      "0.819\t6.6\n",
      "0.821\t4.0\n",
      "0.823\t1.3\n",
      "0.826\t0.2\n",
      "0.828\t0.1\n",
      "0.831\t0.1\n",
      "0.833\t0.1\n",
      "0.836\t0.1\n",
      "0.838\t0.1\n",
      "0.840\t0.1\n",
      "0.843\t0.1\n",
      "0.847\t0.2\n",
      "0.850\t1.0\n",
      "0.854\t0.8\n",
      "0.856\t0.3\n",
      "0.858\t0.1\n",
      "0.860\t0.0\n",
      "0.862\t0.1\n",
      "0.864\t0.1\n",
      "0.866\t0.2\n",
      "0.869\t0.2\n",
      "0.872\t0.1\n",
      "0.875\t0.1\n",
      "0.878\t0.1\n",
      "0.881\t0.1\n",
      "0.884\t0.1\n",
      "0.887\t0.1\n",
      "0.890\t0.0\n",
      "0.893\t0.1\n",
      "0.896\t0.0\n",
      "0.898\t0.1\n",
      "0.901\t0.0\n",
      "0.903\t0.0\n",
      "0.907\t0.0\n",
      "0.910\t0.0\n",
      "0.913\t0.0\n",
      "0.916\t0.0\n",
      "0.919\t0.0\n",
      "0.922\t0.0\n",
      "0.925\t0.0\n",
      "0.929\t0.0\n",
      "0.932\t0.0\n",
      "0.935\t0.0\n",
      "0.938\t0.0\n",
      "0.940\t0.0\n",
      "0.941\t0.0\n",
      "0.942\t0.0\n",
      "0.944\t0.0\n",
      "0.947\t0.0\n",
      "0.950\t0.0\n",
      "0.951\t0.0\n",
      "0.952\t0.0\n",
      "0.953\t0.0\n",
      "0.955\t0.0\n",
      "0.957\t0.0\n",
      "0.959\t0.0\n",
      "0.961\t0.0\n",
      "0.963\t0.0\n",
      "0.965\t0.0\n",
      "0.968\t0.0\n",
      "0.971\t0.0\n",
      "0.973\t0.1\n",
      "0.976\t0.1\n",
      "0.978\t0.0\n",
      "0.980\t0.1\n",
      "0.982\t0.1\n",
      "0.983\t0.0\n",
      "0.984\t0.0\n",
      "0.986\t0.1\n",
      "0.987\t0.0\n",
      "0.989\t0.1\n",
      "0.991\t0.1\n",
      "0.993\t0.1\n",
      "0.995\t0.1\n",
      "0.998\t0.1\n",
      "1.001\t0.1\n",
      "1.004\t0.2\n",
      "1.007\t0.2\n",
      "1.010\t0.1\n",
      "1.013\t0.1\n",
      "1.015\t0.1\n",
      "1.018\t0.1\n",
      "1.021\t0.1\n",
      "1.023\t0.1\n",
      "1.026\t0.1\n",
      "1.028\t0.2\n",
      "1.030\t0.3\n",
      "1.032\t0.3\n",
      "1.034\t0.3\n",
      "1.036\t0.4\n",
      "1.038\t0.4\n",
      "1.040\t0.4\n",
      "1.042\t0.5\n",
      "1.044\t0.5\n",
      "1.047\t0.5\n",
      "1.050\t0.6\n",
      "1.053\t0.7\n",
      "1.055\t0.7\n",
      "1.057\t0.8\n",
      "1.058\t0.9\n",
      "1.060\t1.0\n",
      "1.062\t1.2\n",
      "1.065\t1.3\n",
      "1.068\t1.4\n",
      "1.070\t1.3\n",
      "1.072\t1.3\n",
      "1.074\t1.3\n",
      "1.077\t1.4\n",
      "1.079\t1.6\n",
      "1.081\t1.8\n",
      "1.084\t2.1\n",
      "1.086\t2.4\n",
      "1.088\t2.7\n",
      "1.089\t3.2\n",
      "1.091\t3.8\n",
      "1.093\t4.5\n",
      "1.096\t5.4\n",
      "1.098\t6.7\n",
      "1.101\t8.8\n",
      "1.104\t13.1\n",
      "1.107\t97.1\n",
      "1.112\t97.0\n",
      "1.117\t97.0\n",
      "1.122\t45.6\n",
      "1.125\t11.9\n",
      "1.129\t9.1\n",
      "1.131\t7.6\n",
      "1.133\t7.0\n",
      "1.134\t6.3\n",
      "1.136\t5.9\n",
      "1.138\t5.3\n",
      "1.140\t4.8\n",
      "1.142\t4.2\n",
      "1.144\t3.5\n",
      "1.147\t3.0\n",
      "1.149\t2.6\n",
      "1.152\t2.2\n",
      "1.156\t2.1\n",
      "1.159\t1.8\n",
      "1.162\t1.7\n",
      "1.165\t1.5\n",
      "1.167\t1.4\n",
      "1.170\t1.2\n",
      "1.172\t1.2\n",
      "1.174\t0.9\n",
      "1.177\t0.8\n",
      "1.179\t0.6\n",
      "1.182\t0.4\n",
      "1.184\t0.3\n",
      "1.187\t0.3\n",
      "1.190\t0.2\n",
      "1.192\t0.2\n",
      "1.193\t0.2\n",
      "1.194\t0.2\n",
      "1.194\t0.2\n",
      "1.196\t0.2\n",
      "1.198\t0.2\n",
      "1.201\t0.1\n",
      "1.204\t0.1\n",
      "1.207\t0.1\n",
      "1.211\t0.1\n",
      "1.215\t0.1\n",
      "1.218\t0.0\n",
      "1.222\t0.1\n",
      "1.226\t0.0\n",
      "1.229\t0.0\n",
      "1.231\t-0.1\n",
      "1.234\t0.0\n",
      "1.237\t-0.1\n",
      "1.240\t0.0\n",
      "1.244\t0.0\n",
      "1.247\t0.0\n",
      "1.250\t0.0\n",
      "1.253\t0.0\n",
      "1.255\t0.0\n",
      "1.257\t0.0\n",
      "1.260\t0.0\n",
      "1.263\t0.0\n",
      "1.265\t0.0\n",
      "1.266\t0.0\n",
      "1.268\t0.0\n",
      "1.269\t0.0\n",
      "1.270\t0.0\n",
      "1.271\t0.0\n",
      "1.273\t0.0\n",
      "1.275\t0.0\n",
      "1.277\t0.0\n",
      "1.278\t0.0\n",
      "1.280\t0.0\n",
      "1.281\t0.0\n",
      "1.283\t0.0\n",
      "1.285\t0.0\n",
      "1.286\t0.0\n",
      "1.287\t0.0\n",
      "1.287\t0.0\n",
      "1.288\t-0.1\n",
      "1.289\t-0.1\n",
      "1.290\t-0.1\n",
      "1.291\t-0.2\n",
      "1.292\t-0.2\n",
      "1.292\t-0.2\n",
      "1.293\t-0.1\n",
      "1.294\t0.0\n",
      "1.295\t0.0\n",
      "1.296\t-0.1\n",
      "1.297\t-0.1\n",
      "1.298\t-0.1\n",
      "1.299\t0.0\n",
      "1.300\t0.0\n",
      "1.301\t0.0\n",
      "1.302\t-0.1\n",
      "1.303\t-0.1\n",
      "1.304\t0.0\n",
      "1.306\t-0.1\n",
      "1.306\t-0.1\n",
      "1.308\t-0.1\n",
      "1.309\t-0.1\n",
      "1.311\t-0.2\n",
      "1.312\t-0.2\n",
      "1.313\t-0.2\n",
      "1.314\t-0.1\n",
      "1.316\t0.0\n",
      "1.317\t0.0\n",
      "1.318\t-0.1\n",
      "1.319\t-0.1\n",
      "1.319\t0.0\n",
      "1.320\t0.0\n",
      "1.322\t-0.1\n",
      "1.323\t-0.1\n",
      "1.325\t-0.1\n",
      "1.327\t-0.1\n",
      "1.329\t0.0\n",
      "1.332\t-0.1\n",
      "1.334\t-0.1\n",
      "1.335\t-0.1\n",
      "1.336\t-0.1\n",
      "1.338\t-0.1\n",
      "1.340\t0.0\n",
      "1.341\t-0.1\n",
      "1.343\t0.0\n",
      "1.344\t-0.1\n",
      "1.345\t-0.2\n",
      "1.347\t0.0\n",
      "1.348\t0.0\n",
      "1.349\t0.0\n",
      "1.351\t0.0\n",
      "1.352\t0.0\n",
      "1.353\t0.0\n",
      "1.354\t0.0\n",
      "1.356\t0.0\n",
      "1.358\t0.0\n",
      "1.359\t0.0\n",
      "1.361\t0.0\n",
      "1.363\t0.0\n",
      "1.366\t0.1\n",
      "1.368\t0.1\n",
      "1.369\t0.0\n",
      "1.370\t0.0\n",
      "1.371\t0.0\n",
      "1.372\t0.0\n",
      "1.373\t0.0\n",
      "1.374\t0.0\n",
      "1.376\t0.0\n",
      "1.378\t0.1\n",
      "1.380\t0.3\n",
      "1.380\t0.5\n",
      "1.380\t0.5\n",
      "1.382\t0.4\n",
      "1.384\t0.3\n",
      "1.386\t0.1\n",
      "1.386\t0.0\n",
      "1.386\t0.0\n",
      "1.388\t0.0\n",
      "1.389\t-0.1\n",
      "1.389\t0.0\n",
      "1.389\t-0.1\n",
      "1.389\t-0.1\n",
      "1.389\t-0.2\n",
      "1.390\t0.0\n",
      "1.391\t0.0\n",
      "1.393\t0.0\n",
      "1.396\t0.0\n",
      "1.398\t0.0\n",
      "1.400\t0.0\n",
      "1.401\t0.0\n",
      "1.402\t0.0\n",
      "1.404\t0.0\n",
      "1.405\t0.0\n",
      "1.406\t0.1\n",
      "1.408\t0.7\n",
      "1.409\t2.0\n",
      "1.411\t3.2\n",
      "1.413\t3.8\n",
      "1.415\t2.4\n",
      "1.418\t0.7\n",
      "1.420\t0.1\n",
      "1.423\t0.0\n",
      "1.425\t0.0\n",
      "1.428\t0.0\n",
      "1.430\t0.0\n",
      "1.432\t0.0\n",
      "1.433\t0.0\n",
      "1.435\t0.0\n",
      "1.436\t-0.1\n",
      "1.437\t-0.1\n",
      "1.439\t-0.2\n",
      "1.441\t0.0\n",
      "1.443\t0.0\n",
      "1.445\t0.0\n",
      "1.448\t0.0\n",
      "1.449\t0.0\n",
      "1.451\t0.0\n",
      "1.453\t0.0\n",
      "1.454\t0.0\n",
      "1.456\t0.0\n",
      "1.457\t0.0\n",
      "1.459\t0.0\n",
      "1.461\t0.0\n",
      "1.463\t0.0\n",
      "1.465\t-0.1\n",
      "1.467\t-0.1\n",
      "1.468\t-0.1\n",
      "1.470\t0.0\n",
      "1.472\t0.0\n",
      "1.473\t0.0\n",
      "1.476\t0.0\n",
      "1.478\t0.0\n",
      "1.480\t0.0\n",
      "1.483\t0.0\n",
      "1.486\t0.0\n",
      "1.489\t0.0\n",
      "1.492\t0.0\n",
      "1.495\t0.0\n",
      "1.499\t0.0\n",
      "1.502\t0.1\n",
      "1.507\t0.1\n",
      "1.510\t0.2\n",
      "1.513\t0.3\n",
      "1.515\t0.5\n",
      "1.518\t5.8\n",
      "1.521\t28.1\n",
      "1.525\t36.1\n",
      "1.528\t10.0\n",
      "1.531\t1.3\n",
      "1.533\t0.4\n",
      "1.535\t0.3\n",
      "1.537\t0.2\n",
      "1.540\t0.2\n",
      "1.543\t0.1\n",
      "1.546\t0.1\n",
      "1.550\t0.0\n",
      "1.553\t0.0\n",
      "1.556\t-0.1\n",
      "1.559\t-0.1\n",
      "1.562\t0.0\n",
      "1.565\t0.0\n",
      "1.569\t0.0\n",
      "1.572\t0.0\n",
      "1.575\t0.0\n",
      "1.577\t0.0\n",
      "1.581\t-0.2\n",
      "1.585\t-0.2\n",
      "1.589\t-0.1\n",
      "1.593\t0.0\n",
      "1.596\t-0.1\n",
      "1.597\t-0.1\n",
      "1.598\t-0.1\n",
      "1.599\t-0.1\n",
      "1.601\t-0.1\n",
      "1.602\t0.0\n",
      "1.603\t0.0\n",
      "1.606\t0.0\n",
      "1.611\t-0.2\n",
      "1.616\t-0.3\n",
      "1.623\t-0.2\n",
      "1.628\t-0.1\n",
      "1.633\t-0.1\n",
      "1.639\t-0.1\n",
      "1.644\t-0.1\n",
      "1.649\t-0.1\n",
      "1.654\t0.0\n",
      "1.658\t-0.1\n",
      "1.663\t-0.1\n",
      "1.667\t-0.1\n",
      "1.671\t-0.1\n",
      "1.675\t-0.1\n",
      "1.679\t-0.3\n",
      "1.684\t-0.2\n",
      "1.688\t-0.1\n",
      "1.693\t-0.1\n",
      "1.696\t-0.1\n",
      "1.700\t-0.1\n",
      "1.704\t-0.1\n",
      "1.707\t-0.1\n",
      "1.710\t-0.1\n",
      "1.712\t-0.1\n",
      "1.714\t-0.1\n",
      "1.717\t-0.1\n",
      "1.721\t-0.1\n",
      "1.726\t-0.1\n",
      "1.731\t-0.1\n",
      "1.734\t-0.1\n",
      "1.737\t-0.1\n",
      "1.739\t-0.1\n",
      "1.742\t-0.1\n",
      "1.745\t0.0\n",
      "1.749\t0.2\n",
      "1.752\t0.1\n",
      "1.756\t-0.1\n",
      "1.759\t-0.1\n",
      "1.762\t-0.1\n",
      "1.767\t-0.1\n",
      "1.772\t-0.3\n",
      "1.777\t-0.3\n",
      "1.783\t-0.2\n",
      "1.787\t-0.1\n",
      "1.792\t-0.2\n",
      "1.796\t-0.3\n",
      "1.800\t-0.2\n",
      "1.803\t-0.2\n",
      "1.808\t-0.2\n",
      "1.812\t-0.2\n",
      "1.818\t-0.1\n",
      "1.823\t-0.1\n",
      "1.828\t-0.1\n",
      "1.835\t-0.1\n",
      "1.844\t-0.1\n",
      "1.852\t-0.2\n",
      "1.859\t-0.1\n",
      "1.865\t-0.2\n",
      "1.870\t-0.1\n",
      "1.873\t-0.2\n",
      "1.874\t-0.2\n",
      "1.875\t-0.2\n",
      "1.877\t-0.2\n",
      "1.880\t-0.2\n",
      "1.883\t-0.2\n",
      "1.887\t-0.2\n",
      "1.892\t-0.3\n",
      "1.895\t-0.3\n",
      "1.898\t-0.2\n",
      "1.903\t-0.2\n",
      "1.907\t-0.2\n",
      "1.912\t-0.1\n",
      "1.918\t-0.1\n",
      "1.923\t-0.2\n",
      "1.929\t-0.2\n",
      "1.934\t-0.1\n",
      "1.940\t-0.1\n",
      "1.944\t-0.2\n",
      "1.948\t-0.2\n",
      "1.952\t-0.2\n",
      "1.955\t-0.2\n",
      "1.960\t-0.2\n",
      "1.966\t-0.2\n",
      "1.971\t-0.2\n",
      "1.975\t-0.1\n",
      "1.979\t-0.2\n",
      "1.985\t-0.3\n",
      "1.990\t-0.2\n",
      "1.997\t-0.1\n",
      "2.002\t-0.1\n",
      "2.007\t-0.2\n",
      "2.012\t-0.1\n",
      "2.017\t-0.2\n",
      "2.022\t-0.1\n",
      "2.027\t-0.2\n",
      "2.034\t-0.1\n",
      "2.041\t-0.1\n",
      "2.048\t1.1\n",
      "2.053\t1.6\n",
      "2.057\t0.7\n",
      "2.060\t0.1\n",
      "2.064\t0.0\n",
      "2.068\t-0.1\n",
      "2.073\t-0.1\n",
      "2.079\t-0.1\n",
      "2.086\t-0.1\n",
      "2.094\t-0.1\n",
      "2.100\t-0.2\n",
      "2.105\t-0.1\n",
      "2.109\t-0.1\n",
      "2.111\t-0.1\n",
      "2.115\t-0.2\n",
      "2.120\t-0.2\n",
      "2.124\t-0.1\n",
      "2.128\t-0.2\n",
      "2.131\t-0.1\n",
      "2.134\t-0.2\n",
      "2.135\t-0.1\n",
      "2.138\t-0.1\n",
      "2.140\t-0.1\n",
      "2.144\t-0.1\n",
      "2.148\t-0.1\n",
      "2.153\t-0.2\n",
      "2.158\t-0.2\n",
      "2.162\t-0.2\n",
      "2.166\t-0.2\n",
      "2.170\t-0.2\n",
      "2.175\t-0.2\n",
      "2.179\t-0.2\n",
      "2.183\t-0.1\n",
      "2.187\t-0.2\n",
      "2.191\t-0.2\n",
      "2.194\t-0.2\n",
      "2.197\t-0.2\n",
      "2.200\t-0.2\n",
      "2.203\t-0.2\n",
      "2.207\t-0.2\n",
      "2.211\t-0.1\n",
      "2.215\t-0.2\n",
      "2.219\t-0.2\n",
      "2.222\t-0.1\n",
      "2.224\t-0.2\n",
      "2.225\t-0.2\n",
      "2.225\t-0.2\n",
      "2.225\t-0.2\n",
      "2.225\t-0.3\n",
      "2.225\t-0.2\n",
      "2.225\t-0.3\n",
      "2.225\t-0.3\n",
      "2.225\t-0.3\n",
      "2.225\t-0.2\n",
      "2.225\t-0.1\n",
      "2.225\t-0.1\n",
      "2.225\t-0.1\n",
      "2.225\t-0.1\n",
      "2.225\t-0.1\n",
      "2.225\t-0.1\n",
      "2.225\t-0.2\n",
      "2.225\t-0.1\n",
      "2.225\t-0.1\n",
      "2.225\t-0.2\n",
      "2.225\t-0.1\n",
      "2.225\t-0.1\n",
      "2.225\t-0.1\n",
      "2.225\t-0.2\n",
      "2.225\t-0.2\n",
      "2.225\t-0.2\n",
      "2.225\t-0.1\n",
      "2.225\t-0.1\n",
      "2.225\t-0.2\n",
      "2.224\t-0.2\n",
      "2.224\t-0.2\n",
      "2.224\t-0.2\n",
      "2.224\t-0.2\n",
      "2.224\t-0.2\n",
      "2.224\t-0.2\n",
      "2.224\t-0.2\n",
      "2.224\t-0.3\n",
      "2.224\t-0.3\n",
      "2.224\t-0.2\n",
      "2.224\t-0.3\n",
      "2.224\t-0.3\n",
      "2.224\t-0.2\n",
      "2.224\t-0.3\n",
      "2.224\t-0.3\n",
      "2.224\t-0.3\n",
      "2.224\t-0.1\n",
      "2.224\t-0.2\n",
      "2.224\t-0.2\n",
      "2.224\t-0.2\n",
      "2.224\t-0.1\n",
      "2.224\t-0.1\n",
      "2.224\t-0.2\n",
      "2.224\t-0.2\n",
      "2.224\t-0.2\n",
      "2.224\t-0.2\n",
      "2.224\t-0.1\n",
      "2.224\t-0.1\n",
      "2.224\t-0.2\n",
      "2.224\t-0.2\n",
      "2.224\t-0.2\n",
      "2.224\t-0.2\n",
      "2.224\t-0.3\n",
      "2.224\t-0.2\n",
      "2.224\t-0.1\n",
      "2.224\t-0.1\n",
      "2.224\t-0.2\n",
      "2.224\t-0.2\n",
      "2.224\t-0.2\n",
      "2.224\t-0.2\n",
      "2.224\t-0.1\n",
      "2.224\t-0.2\n",
      "2.224\t-0.2\n",
      "2.224\t-0.2\n",
      "2.224\t-0.1\n",
      "2.224\t-0.2\n",
      "2.224\t-0.1\n",
      "2.224\t-0.2\n",
      "2.224\t-0.2\n",
      "2.224\t-0.2\n",
      "2.224\t-0.2\n",
      "2.224\t-0.2\n",
      "2.224\t-0.2\n",
      "2.224\t-0.2\n",
      "2.224\t-0.2\n",
      "2.224\t-0.2\n",
      "2.224\t-0.2\n",
      "2.224\t-0.2\n",
      "2.224\t-0.2\n",
      "2.224\t-0.2\n",
      "2.224\t-0.2\n",
      "2.224\t-0.2\n",
      "2.224\t-0.2\n",
      "2.224\t-0.3\n",
      "2.224\t-0.3\n",
      "2.224\t-0.3\n",
      "2.224\t-0.3\n",
      "2.224\t-0.3\n",
      "\n"
     ]
    }
   ],
   "source": [
    "with open('spectrum-01.txt', 'r') as file:\n",
    "    file_content = file.read()\n",
    "\n",
    "print(file_content)"
   ]
  },
  {
   "cell_type": "markdown",
   "id": "6ea1be7c-82af-4558-8517-a5284d0b70d6",
   "metadata": {},
   "source": [
    "```\n",
    "with open(filename.ext, 'r') as file:  \n",
    "    print(file.read())\n",
    "```\n",
    "opens a file and prints its contents using a file manager\n",
    "- `'r'` reads the entire file (as text file by default, doesn't really work with binary files unless `'rb'` is used)\n",
    "    - there are other options, deal with them as you encounter them\n",
    "- `filename.ext` should be replaced with the actual file and its extension\n",
    "- by default, this would reference the same directory as the script file\n",
    "\n",
    "normally, opening a file opens a stream to the file to read/write data  \n",
    "the stream has to be closed to prevent file corruption using `file.close()`  \n",
    "however, this is not required when using `with` to open files as it does resource handling for you"
   ]
  },
  {
   "attachments": {},
   "cell_type": "markdown",
   "id": "b55c93c5",
   "metadata": {},
   "source": [
    "## 2.2 Writing data"
   ]
  },
  {
   "attachments": {},
   "cell_type": "markdown",
   "id": "0f11bea6",
   "metadata": {},
   "source": [
    "### Writing to a file in one go"
   ]
  },
  {
   "cell_type": "code",
   "execution_count": 34,
   "id": "d6a76cb8-8e68-4fe9-9530-0577bd5febe5",
   "metadata": {},
   "outputs": [
    {
     "name": "stdout",
     "output_type": "stream",
     "text": [
      "reed the flame shadow\n",
      " and mountain\n",
      " are the current banner operators\n"
     ]
    }
   ],
   "source": [
    "text = 'reed the flame shadow\\n and mountain\\n are the current banner operators'\n",
    "print(text)\n",
    "with open('ch1.txt', 'w') as file:\n",
    "    file.write(text)"
   ]
  },
  {
   "cell_type": "markdown",
   "id": "98c9ea03-d8d6-46e4-87cb-3311dc2c5fac",
   "metadata": {},
   "source": [
    "```\n",
    "with open(filename.txt, 'w') as file:  \n",
    "    file.write()\n",
    "```\n",
    "this creates a new text file `filename.txt` and writes the argument in `.write()` into the file\n",
    "- the `'w'` represents writing\n",
    "- if the file doesn't exist, this creates a new file named `filename.txt`\n",
    "- if the file exists, this **overwrites** the existing content in the file\n",
    "    - use case: continual updating of a file\n",
    "    - file writing tends to be the slowest part in a code\n",
    "- if there are line breaks, they are written as-is into the file\n",
    "\n",
    "on the other hand, `'a'` instead **appends** the argument in `.write()` to the end of the contents in the file"
   ]
  },
  {
   "attachments": {},
   "cell_type": "markdown",
   "id": "fd064a7d",
   "metadata": {},
   "source": [
    "### Writing to a file, line by line"
   ]
  },
  {
   "cell_type": "code",
   "execution_count": 33,
   "id": "68e797ab-34e0-4b42-a93e-7e83960d28eb",
   "metadata": {},
   "outputs": [
    {
     "name": "stdout",
     "output_type": "stream",
     "text": [
      "['reed the flame shadow', ' and mountain', ' are the current banner operators']\n",
      "['reed the flame shadow', ' and mountain', ' are the current banner operators']\n",
      "['reed the flame shadow', ' and mountain', ' are the current banner operators']\n"
     ]
    }
   ],
   "source": [
    "with open('ch1_linesplit.txt', 'w') as file:\n",
    "    for line in text.splitlines():\n",
    "        print(text.splitlines())\n",
    "        file.writelines(line)"
   ]
  },
  {
   "cell_type": "code",
   "execution_count": 32,
   "id": "a42fb246-34a4-4386-aab9-abd238edc0aa",
   "metadata": {},
   "outputs": [
    {
     "name": "stdout",
     "output_type": "stream",
     "text": [
      "['reed the flame shadow', ' and mountain', ' are the current banner operators']\n",
      "['reed the flame shadow', ' and mountain', ' are the current banner operators']\n",
      "['reed the flame shadow', ' and mountain', ' are the current banner operators']\n"
     ]
    }
   ],
   "source": [
    "with open('../ch2_linesplit.txt', 'w') as file:\n",
    "    for line in text.splitlines():\n",
    "        print(text.splitlines())\n",
    "        file.writelines(line)"
   ]
  },
  {
   "cell_type": "markdown",
   "id": "2b524e84-8147-44d1-861d-32afdb5b8e08",
   "metadata": {},
   "source": [
    "using `.splitlines()` can split a file by a delineator (usually an escaped line/tab break) into separate entries in a list  \n",
    "this is usually followed by `.writelines()` to write the separate entries together into a file (thus removing the `\\n` line breaks)"
   ]
  },
  {
   "attachments": {},
   "cell_type": "markdown",
   "id": "854d30b6",
   "metadata": {},
   "source": [
    "# 3 Some useful packages"
   ]
  },
  {
   "cell_type": "markdown",
   "id": "e651697a-105a-457d-9c41-cb9b888a24bb",
   "metadata": {},
   "source": [
    "importing can be done once per kernel (at the top of the file)\n",
    "- backend, if Python already has the package it will not import it (code clutter)"
   ]
  },
  {
   "cell_type": "code",
   "execution_count": 35,
   "id": "dbba8f3f-025e-45b3-888e-994585fe0313",
   "metadata": {},
   "outputs": [],
   "source": [
    "import os\n",
    "import glob\n",
    "import shutil"
   ]
  },
  {
   "attachments": {},
   "cell_type": "markdown",
   "id": "7a946543",
   "metadata": {},
   "source": [
    "# 4 OS safe paths"
   ]
  },
  {
   "cell_type": "code",
   "execution_count": 36,
   "id": "793a8b97-44ec-4088-969c-6ca614ca0a44",
   "metadata": {},
   "outputs": [
    {
     "name": "stdout",
     "output_type": "stream",
     "text": [
      "..\\Testing\\my-new-file\n"
     ]
    }
   ],
   "source": [
    "path = os.path.join('..', 'Testing', 'my-new-file')\n",
    "print(path)"
   ]
  },
  {
   "cell_type": "markdown",
   "id": "fcb96879-9f98-47bd-a931-a4242c138a42",
   "metadata": {},
   "source": [
    "`os.path.join` writes the file path in a manner that is agnostic to whichever OS the code is run in (Windows/MacOS/Linux etc.)"
   ]
  },
  {
   "attachments": {},
   "cell_type": "markdown",
   "id": "d3fb835d",
   "metadata": {},
   "source": [
    "# 5 Folders"
   ]
  },
  {
   "attachments": {},
   "cell_type": "markdown",
   "id": "746efeb6",
   "metadata": {},
   "source": [
    "## 5.1 Creating folders"
   ]
  },
  {
   "cell_type": "code",
   "execution_count": 60,
   "id": "3a5319d3-c9a6-4765-9adc-9b2692b45e46",
   "metadata": {},
   "outputs": [
    {
     "name": "stdout",
     "output_type": "stream",
     "text": [
      "Creating ..\\Testing\\operators\\joklumarkar\\typhon.\n",
      "Creating ..\\Testing\\operators\\joklumarkar\\magallan.\n",
      "Creating ..\\Testing\\operators\\joklumarkar\\santalla.\n"
     ]
    }
   ],
   "source": [
    "path=os.path.join('..', 'Testing', 'operators')\n",
    "os.mkdir(path)\n",
    "path2=os.path.join('..', 'Testing', 'operators', 'joklumarkar')\n",
    "os.mkdir(path2)\n",
    "\n",
    "for operator in ['typhon', 'magallan', 'santalla']:\n",
    "    path=os.path.join('..', 'Testing', 'operators', 'joklumarkar', operator)\n",
    "    print(f\"Creating {path}.\") # progress check\n",
    "    os.mkdir(path)"
   ]
  },
  {
   "cell_type": "markdown",
   "id": "2223e738-40dc-4aee-9612-c7d442d8d39b",
   "metadata": {},
   "source": [
    "`os.mkdir()` makes a new folder (directory) in the same directory as the code file with the name specified in the argument (as a string)\n",
    "- the argument specified is case-sensitive\n",
    "- however, using identical strings with different capitalistion is not possible as the underlying OSes do not accept folders with the same name but different capitalisations\n",
    "- the intended filepath can also be specified manually, or using `os.path.join` to produce the relative filepath\n",
    "\n",
    "To create a subfolder (nested folder) within a newly created folder, multiple `os.mkdir()` have to be used to sequentially create them (folders are not automatically created based on path if they do not already exist"
   ]
  },
  {
   "attachments": {},
   "cell_type": "markdown",
   "id": "9d3b1967",
   "metadata": {},
   "source": [
    "## 5.2 Checking for existence"
   ]
  },
  {
   "cell_type": "markdown",
   "id": "5e9a1f41-bcbf-4275-bea0-67c8f6da1606",
   "metadata": {},
   "source": [
    "good practice to use one of these blocks (`try-except` or `os.path.exists()`) to check for file creation"
   ]
  },
  {
   "attachments": {},
   "cell_type": "markdown",
   "id": "4d8cfb54",
   "metadata": {},
   "source": [
    "### Using try-except"
   ]
  },
  {
   "cell_type": "code",
   "execution_count": 65,
   "id": "1c8ea0a9-c704-4b1e-b833-f433c6931bc8",
   "metadata": {},
   "outputs": [
    {
     "name": "stdout",
     "output_type": "stream",
     "text": [
      "..\\Testing\\operators\\joklumarkar\\typhon was already created, skipping..\n",
      "..\\Testing\\operators\\joklumarkar\\magallan was already created, skipping..\n",
      "..\\Testing\\operators\\joklumarkar\\santalla was already created, skipping..\n"
     ]
    }
   ],
   "source": [
    "for operator in ['typhon', 'magallan', 'santalla']:\n",
    "    path=os.path.join('..', 'Testing', 'operators', 'joklumarkar', operator)\n",
    "    try:\n",
    "        os.mkdir(path)\n",
    "        print(f\"Created {path}.\")\n",
    "    except FileExistsError:\n",
    "        print(f\"{path} was already created, skipping..\")"
   ]
  },
  {
   "cell_type": "markdown",
   "id": "3222c08b-b134-4b7a-bd33-71a4ecd6174c",
   "metadata": {},
   "source": [
    "Avoid using `os.` commands unless you are sure the code works correctly  \n",
    "Specific errors can be assigned to different `except` branches, in this case `FileNameError`"
   ]
  },
  {
   "attachments": {},
   "cell_type": "markdown",
   "id": "56b40036",
   "metadata": {},
   "source": [
    "### Using os.path.exists()"
   ]
  },
  {
   "cell_type": "code",
   "execution_count": 67,
   "id": "793e178c-3f1f-425b-8911-6bc52c1c2427",
   "metadata": {},
   "outputs": [
    {
     "name": "stdout",
     "output_type": "stream",
     "text": [
      "..\\Testing\\operators\\joklumarkar\\typhon was already created, skipping..\n",
      "..\\Testing\\operators\\joklumarkar\\magallan was already created, skipping..\n",
      "..\\Testing\\operators\\joklumarkar\\santalla was already created, skipping..\n"
     ]
    }
   ],
   "source": [
    "for operator in ['typhon', 'magallan', 'santalla']:\n",
    "    path=os.path.join('..', 'Testing', 'operators', 'joklumarkar', operator)\n",
    "    if os.path.exists(path) == False: # checks if the folder specified in the path does not exist\n",
    "        os.mkdir(path)\n",
    "        print(f\"Created {path}.\")\n",
    "    else:\n",
    "        print(f\"{path} was already created, skipping..\")"
   ]
  },
  {
   "cell_type": "markdown",
   "id": "8109ba6a-2150-4a88-bcae-c920721b68dc",
   "metadata": {},
   "source": [
    "an OS command `os.path.exists()` can also be used together with `if-else` to check for pre-existing files in the specified directory"
   ]
  },
  {
   "attachments": {},
   "cell_type": "markdown",
   "id": "8edbd67d",
   "metadata": {},
   "source": [
    "## 5.3 Copying files"
   ]
  },
  {
   "cell_type": "code",
   "execution_count": 70,
   "id": "054b2e1b-000f-4312-a2fa-5dd2d02cacef",
   "metadata": {},
   "outputs": [
    {
     "name": "stdout",
     "output_type": "stream",
     "text": [
      "../Testing/image.png already exists in ..\\Testing\\operators\\joklumarkar\\typhon.\n",
      "../Testing/image.png already exists in ..\\Testing\\operators\\joklumarkar\\magallan.\n",
      "../Testing/image.png already exists in ..\\Testing\\operators\\joklumarkar\\santalla.\n"
     ]
    }
   ],
   "source": [
    "file='../Testing/image.png'\n",
    "\n",
    "for operator in ['typhon', 'magallan', 'santalla']:\n",
    "    path=os.path.join('..', 'Testing', 'operators', 'joklumarkar', operator)\n",
    "    if os.path.exists(os.path.join(path, 'image.png')) == False:\n",
    "        shutil.copy(file, path)\n",
    "        print(f'copied {file} to {path}.')\n",
    "    else:\n",
    "        print(f'{file} already exists in {path}.')"
   ]
  },
  {
   "cell_type": "markdown",
   "id": "5cc2fad5-93dd-46f6-b007-a5e3dba5a951",
   "metadata": {},
   "source": [
    "```\n",
    "for person in ['John', 'Paul', 'Ringo']:\n",
    "    path_to_destination = os.path.join('people', person)\n",
    "    shutil.copy('sp2273_logo.png', path_to_destination)\n",
    "    print(f'Copied file to {path_to_destination}.')\n",
    "```\n",
    "\n",
    "By adding `file_to_copy` as a variable, different files can be assigned to this variable (code can be reused to copy other files)  \n",
    "replace the actual filename in the above code with the variable\n",
    "\n",
    "This can accidentally overwrite data if done repeatedly as well, therefore using a **check for existence** is important to prevent this  \n",
    "Using `print()` is also a good way to check if the code is working as intended before running a directory-changing `os.` command\n",
    "\n",
    "Python is always looking in a folder (by default, the folder that the code is running in)  \n",
    "It can be asked to find a certain file/folder by specifying a relative filepath}')"
   ]
  },
  {
   "attachments": {},
   "cell_type": "markdown",
   "id": "b1469d0c",
   "metadata": {},
   "source": [
    "# 6 Listing and looking for files"
   ]
  },
  {
   "cell_type": "code",
   "execution_count": 73,
   "id": "1ae9a1a3-ac12-4580-93a9-e0e0bec2c569",
   "metadata": {},
   "outputs": [
    {
     "data": {
      "text/plain": [
       "['../Testing\\\\image.png',\n",
       " '../Testing\\\\my-new-file.txt',\n",
       " '../Testing\\\\operators']"
      ]
     },
     "execution_count": 73,
     "metadata": {},
     "output_type": "execute_result"
    }
   ],
   "source": [
    "glob.glob('../Testing/*')"
   ]
  },
  {
   "cell_type": "code",
   "execution_count": 76,
   "id": "8dbcec12-1bea-445f-bf30-69fd63079c23",
   "metadata": {},
   "outputs": [
    {
     "data": {
      "text/plain": [
       "['../Testing\\\\operators\\\\joklumarkar\\\\magallan\\\\image.png',\n",
       " '../Testing\\\\operators\\\\joklumarkar\\\\santalla\\\\image.png',\n",
       " '../Testing\\\\operators\\\\joklumarkar\\\\typhon\\\\image.png']"
      ]
     },
     "execution_count": 76,
     "metadata": {},
     "output_type": "execute_result"
    }
   ],
   "source": [
    "glob.glob('../Testing/*/*/*/*')"
   ]
  },
  {
   "cell_type": "code",
   "execution_count": 87,
   "id": "495c5ba1-5f52-4e4b-970e-730fc8094cc7",
   "metadata": {},
   "outputs": [
    {
     "data": {
      "text/plain": [
       "['../Testing\\\\operators\\\\joklumarkar\\\\magallan',\n",
       " '../Testing\\\\operators\\\\joklumarkar\\\\santalla',\n",
       " '../Testing\\\\operators\\\\joklumarkar\\\\typhon']"
      ]
     },
     "execution_count": 87,
     "metadata": {},
     "output_type": "execute_result"
    }
   ],
   "source": [
    "glob.glob('../Testing/*erato*/jok*ar/*')"
   ]
  },
  {
   "cell_type": "code",
   "execution_count": 81,
   "id": "90b9232d-0272-4929-970f-a8c07ac785a8",
   "metadata": {},
   "outputs": [
    {
     "data": {
      "text/plain": [
       "['../Testing\\\\',\n",
       " '../Testing\\\\image.png',\n",
       " '../Testing\\\\my-new-file.txt',\n",
       " '../Testing\\\\operators',\n",
       " '../Testing\\\\operators\\\\joklumarkar',\n",
       " '../Testing\\\\operators\\\\joklumarkar\\\\magallan',\n",
       " '../Testing\\\\operators\\\\joklumarkar\\\\magallan\\\\image.png',\n",
       " '../Testing\\\\operators\\\\joklumarkar\\\\santalla',\n",
       " '../Testing\\\\operators\\\\joklumarkar\\\\santalla\\\\image.png',\n",
       " '../Testing\\\\operators\\\\joklumarkar\\\\typhon',\n",
       " '../Testing\\\\operators\\\\joklumarkar\\\\typhon\\\\image.png']"
      ]
     },
     "execution_count": 81,
     "metadata": {},
     "output_type": "execute_result"
    }
   ],
   "source": [
    "glob.glob('../Testing/**', recursive=True)"
   ]
  },
  {
   "cell_type": "code",
   "execution_count": 99,
   "id": "a9b8fed5-ba5b-4486-b9ab-4ab68abbceb4",
   "metadata": {},
   "outputs": [
    {
     "data": {
      "text/plain": [
       "['../../../..\\\\PR3150 Professional Identity and Skills Development\\\\PECT I\\\\NUH_Orientation_SLides_2023.pptx',\n",
       " '../../../..\\\\PR3153 Central Nervous System Science and Therapeutics\\\\eLearning\\\\eL2_Module.pptx',\n",
       " '../../../..\\\\PR3153 Central Nervous System Science and Therapeutics\\\\eLearning\\\\eL7b_PGx_carbamazepine.pptx',\n",
       " '../../../..\\\\PR3153 Central Nervous System Science and Therapeutics\\\\IC\\\\IC1_PR3153 CNS.pptx',\n",
       " '../../../..\\\\PR3154 Haematological and Musculoskeletal Systems Science and Therapeutics\\\\Projects_Assignments\\\\Drug Points\\\\Pharmacopeia by Slidesgo.pptx',\n",
       " '../../../..\\\\PR3154 Haematological and Musculoskeletal Systems Science and Therapeutics\\\\Projects_Assignments\\\\Drug Points\\\\Slide 23.pptx',\n",
       " '../../../..\\\\PR3154 Haematological and Musculoskeletal Systems Science and Therapeutics\\\\Projects_Assignments\\\\Drug Points\\\\Warfarin DP_08.02.2024.pptx',\n",
       " '../../../..\\\\PR3154 Haematological and Musculoskeletal Systems Science and Therapeutics\\\\Projects_Assignments\\\\Drug Points\\\\Warfarin DP_13.12.2024.pptx',\n",
       " '../../../..\\\\PR3154 Haematological and Musculoskeletal Systems Science and Therapeutics\\\\Projects_Assignments\\\\Drug Points\\\\Warfarin DP_16.02.2024_DW.pptx',\n",
       " '../../../..\\\\PR4191 SCI-PhI Project\\\\NUP_edited_Amanda & Elaine.pptx',\n",
       " '../../../..\\\\PR4191 SCI-PhI Project\\\\P1 SCIPHI.pptx',\n",
       " \"../../../..\\\\PR4191 SCI-PhI Project\\\\fun with data\\\\Health T.A.G. 2023 Pharmacists' Briefing and Training deck_ver 2023.09.07.pptx\",\n",
       " '../../../..\\\\PR4191 SCI-PhI Project\\\\Week 1 Workshops\\\\Post Proposal Writing Workshop ELearn [HANDOUT]_2023.08.20.pptx',\n",
       " '../../../..\\\\PR4191 SCI-PhI Project\\\\Week 3 Workshops\\\\Pre-Design Thinking Workshop ELearn [HANDOUT]_2023.08.20.pptx']"
      ]
     },
     "execution_count": 99,
     "metadata": {},
     "output_type": "execute_result"
    }
   ],
   "source": [
    "glob.glob('../../../../PR*/**/*.pptx', recursive=True)\n",
    "# 4 folders up, check for all folders starting with PR, look in all subdirectories for .pptx files \n",
    "# and show their relative filepaths from the script file"
   ]
  },
  {
   "cell_type": "markdown",
   "id": "8d81f18e-4b1c-469f-b8f1-2d34586e4bc4",
   "metadata": {},
   "source": [
    "`glob` is a package optimised for searching for file contents (it is a pattern-matching engine that allows the use of regular expressions)  \n",
    "`'*'` in Python is used to represent 'anything' (a wildcard)  \n",
    "- if the argument is `'*.txt`, it will show all .txt files\n",
    "- if the argument is '`peo*'`, it will look for files starting with peo\n",
    "- if the argument is `'*e*'`, it will look for files containing e in its name\n",
    "- if the argument is `'peo*\\*`, it looks for all files within folders starting with peo\n",
    "    - additional directories can be further specified with additional `\\*`\n",
    "- these can be combined\n",
    " \n",
    "adding the second argument `recursive=True` and using `**` in the file path will show all folders and their subfolders/contents as separate list entries\n",
    "- helps to search the entire file structure"
   ]
  },
  {
   "attachments": {},
   "cell_type": "markdown",
   "id": "3f490078",
   "metadata": {},
   "source": [
    "# 7 Extracting file info"
   ]
  },
  {
   "cell_type": "code",
   "execution_count": 102,
   "id": "de3c9b31-3b07-44cc-9f82-d1c2ff19b437",
   "metadata": {},
   "outputs": [
    {
     "name": "stdout",
     "output_type": "stream",
     "text": [
      "image.png is a png file in ..\\Testing\\image.png\n"
     ]
    }
   ],
   "source": [
    "path='..\\Testing\\image.png'\n",
    "filename=path.split(os.path.sep)[-1] # backslash for windows (if the path is specified with another file separator, enter it as a string to act as the delineator\n",
    "extension=filename.split('.')[-1]\n",
    "print(f'{filename} is a {extension} file in {path}')"
   ]
  },
  {
   "cell_type": "code",
   "execution_count": 112,
   "id": "b03b75a3-aab7-4211-a2f1-c725804e03a4",
   "metadata": {},
   "outputs": [
    {
     "name": "stdout",
     "output_type": "stream",
     "text": [
      "<class 'tuple'> <class 'str'> <class 'str'> <class 'str'>\n",
      "image.png with .png is in ..\\Testing\n"
     ]
    }
   ],
   "source": [
    "path='..\\Testing\\image.png'\n",
    "fileraw=os.path.split(path) # gives both the directory and file as separate entries in a tuple\n",
    "file=fileraw[-1]\n",
    "ext=os.path.splitext(path)[-1] # gives both the file and its extension as separate entries in a tuple\n",
    "dir=os.path.dirname(path)\n",
    "print(type(fileraw), type(file), type(ext), type(dir))\n",
    "print(f'{file} with {ext} is in {dir}')"
   ]
  },
  {
   "cell_type": "markdown",
   "id": "30b7d6c0-adcf-436a-ac2a-0de66eec8862",
   "metadata": {},
   "source": [
    "`os.path.sep` helps make the code OS-agnostic by using OS-specific filepath separators depending on which OS the code is run on  \n",
    "- using `.split()` with the above, this splits the file into separate list entries, one for each directory level\n",
    "    - the path separator regardless of OS acts as the delineator for the `.split()` function\n",
    "- indexing can be performed on this list to look for the specific file/sub-directory intended (e.g. `[-1]` looks for the deepest file\n",
    "- filenames should have extensions to tell the OS which program to run it with\n",
    "\n",
    "fun facts about data formats:\n",
    "- JPEG files use an algorithm to print the image (lossy formats)\n",
    "- BMP/TIF files carry images by pixels (more pixels = larger files) -> higher resolution\n",
    "- PDFs are vector formats -- images are stored as mathematical formats (look the same even with zoom/other viewing)"
   ]
  },
  {
   "cell_type": "markdown",
   "id": "c2f5c36d-b6e9-47db-95f0-9f79aac93602",
   "metadata": {},
   "source": [
    "`os.path.split()` breaks the specific file name from the rest of the filepath in the argument  \n",
    "`os.path.splitext()` breaks the extension from the filename specified in the filepath in the argument  \n",
    "`os.path.dirname()` returns only the directory leading to the file specified in the filepath in the argument"
   ]
  },
  {
   "attachments": {},
   "cell_type": "markdown",
   "id": "bb30bd9c",
   "metadata": {},
   "source": [
    "# 8 Deleting stuff"
   ]
  },
  {
   "cell_type": "code",
   "execution_count": 118,
   "id": "0adc7660-ac34-4a53-9589-5a048dd8630b",
   "metadata": {},
   "outputs": [
    {
     "name": "stdout",
     "output_type": "stream",
     "text": [
      "File successfully deleted.\n"
     ]
    }
   ],
   "source": [
    "delete_target='../Testing/operators/joklumarkar/santalla/image.png'\n",
    "os.remove(delete_target)\n",
    "if os.path.exists(delete_target) == True:\n",
    "    print('Delete failed.')\n",
    "else:\n",
    "    print('File successfully deleted.')"
   ]
  },
  {
   "cell_type": "code",
   "execution_count": 120,
   "id": "198d7203-aa50-4729-8908-6be23d145ea1",
   "metadata": {},
   "outputs": [
    {
     "name": "stdout",
     "output_type": "stream",
     "text": [
      "Folder created.\n",
      "Folder successfully deleted.\n"
     ]
    }
   ],
   "source": [
    "os.mkdir('../Testing/operators/joklumarkar/Collapsal')\n",
    "if os.path.exists('../Testing/operators/joklumarkar/Collapsal') == True:\n",
    "    print('Folder created.')\n",
    "else:\n",
    "    print('Folder was not created.')\n",
    "\n",
    "folder_delete='../Testing/operators/joklumarkar/Collapsal'\n",
    "os.rmdir(folder_delete)\n",
    "if os.path.exists(folder_delete) == True:\n",
    "    print('Delete failed.')\n",
    "else:\n",
    "    print('Folder successfully deleted.')"
   ]
  },
  {
   "cell_type": "code",
   "execution_count": 128,
   "id": "3d6d097c-9e59-4be1-a54f-fd73accb2864",
   "metadata": {},
   "outputs": [
    {
     "name": "stdout",
     "output_type": "stream",
     "text": [
      "Folder created.\n",
      "Photo copied successfully.\n",
      "Folder with picture successfully deleted.\n"
     ]
    }
   ],
   "source": [
    "folder_w_pic='../Testing/operators/joklumarkar/santalla'\n",
    "if os.path.exists(folder_w_pic) == False:\n",
    "    os.mkdir(folder_w_pic)\n",
    "    print('Folder created.')\n",
    "else:\n",
    "    print('Folder already exists.')\n",
    "\n",
    "shutil.copy('../Testing/image.png', folder_w_pic)\n",
    "if os.path.exists('../Testing/operators/joklumarkar/santalla/image.png') == True:\n",
    "    print('Photo copied successfully.')\n",
    "else:\n",
    "    print('Photo did not copy.')\n",
    "\n",
    "shutil.rmtree(folder_w_pic)\n",
    "if os.path.exists(folder_delete) == True:\n",
    "    print('Deletion failed.')\n",
    "else:\n",
    "    print('Folder with picture successfully deleted.')"
   ]
  },
  {
   "cell_type": "markdown",
   "id": "a3666c26-4748-4f4d-a886-40cc39684112",
   "metadata": {},
   "source": [
    "`os.remove()` is the default delete function that deletes the file specified in its argument  \n",
    "`os.rmdir()` can be used to delete entire folders specified in the argument, but it has a failsafe error that will be thrown if the folder isn't empty\n",
    "`shutil.rmtree()` instantly deletes the folder even if it has contents\n",
    "\n",
    "deletion moves the affected files/folders into the Recycle Bin"
   ]
  }
 ],
 "metadata": {
  "kernelspec": {
   "display_name": "Python 3 (ipykernel)",
   "language": "python",
   "name": "python3"
  },
  "language_info": {
   "codemirror_mode": {
    "name": "ipython",
    "version": 3
   },
   "file_extension": ".py",
   "mimetype": "text/x-python",
   "name": "python",
   "nbconvert_exporter": "python",
   "pygments_lexer": "ipython3",
   "version": "3.11.5"
  },
  "toc": {
   "base_numbering": 1,
   "nav_menu": {},
   "number_sections": true,
   "sideBar": true,
   "skip_h1_title": false,
   "title_cell": "Table of Contents",
   "title_sidebar": "Contents",
   "toc_cell": false,
   "toc_position": {},
   "toc_section_display": true,
   "toc_window_display": false
  },
  "vscode": {
   "interpreter": {
    "hash": "31f2aee4e71d21fbe5cf8b01ff0e069b9275f58929596ceb00d14d90e3e16cd6"
   }
  }
 },
 "nbformat": 4,
 "nbformat_minor": 5
}
