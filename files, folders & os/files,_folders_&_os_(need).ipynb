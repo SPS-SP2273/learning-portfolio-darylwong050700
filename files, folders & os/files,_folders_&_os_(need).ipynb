{
 "cells": [
  {
   "attachments": {},
   "cell_type": "markdown",
   "id": "123456",
   "metadata": {},
   "source": [
    "<div style=\"text-align:left;font-size:2em\"><span style=\"font-weight:bolder;font-size:1.25em\">SP2273 | Learning Portfolio</span><br><br><span style=\"font-weight:bold;color:darkred\">Files, Folders & OS (Need)</span></div>"
   ]
  },
  {
   "attachments": {},
   "cell_type": "markdown",
   "id": "52305e76",
   "metadata": {},
   "source": [
    "# What to expect in this chapter"
   ]
  },
  {
   "cell_type": "markdown",
   "id": "252281e2-97c6-4996-b2d3-2beee9f160dc",
   "metadata": {},
   "source": [
    "important to ensure code works regardless of OS  \n",
    "also important if the code is intended to write to a file"
   ]
  },
  {
   "attachments": {},
   "cell_type": "markdown",
   "id": "60b3f7b4",
   "metadata": {},
   "source": [
    "# 1 Important concepts"
   ]
  },
  {
   "attachments": {},
   "cell_type": "markdown",
   "id": "c0025d57",
   "metadata": {},
   "source": [
    "## 1.1 Path"
   ]
  },
  {
   "cell_type": "markdown",
   "id": "e0b75c96-da70-4b66-a1c4-624b156f3396",
   "metadata": {},
   "source": [
    "can be thought of as a directory, or a guide to a specific location  \n",
    "there is an **absolute path** to every file in the computer  \n",
    "- to find the absolute path for the current file, `!dir` can be used (assuming administrative access)\n",
    "\n",
    "a more convenient and equally clear way to define a path is using **relative path**, if the two files are located in the same directory\n",
    "- however, moving them out of the directory requires redefining the relative path, otherwise it will not work\n",
    "- relative paths are more flexible and can work for different paths on different machines"
   ]
  },
  {
   "attachments": {},
   "cell_type": "markdown",
   "id": "c9deadad",
   "metadata": {},
   "source": [
    "## 1.2 More about relative paths"
   ]
  },
  {
   "cell_type": "markdown",
   "id": "d351cf36-2b69-45f0-8245-938230c020cb",
   "metadata": {},
   "source": [
    "`.` refers to this folder, `..` refers to one folder above (up)  \n",
    "two folders up: `../../filename`  \n",
    "three folders up: `../../../filename`  \n",
    "this works only if the file structure is consistent (i.e. it will not work in a different computer with a different file structure, unless the entire folder/directory is shared)  \n",
    "\n",
    "to go 1 folder up from the current folder: `!cd ..`\n",
    "- 2 folders `!cd ../..`"
   ]
  },
  {
   "attachments": {},
   "cell_type": "markdown",
   "id": "b45806e7",
   "metadata": {},
   "source": [
    "### macOS or Linux"
   ]
  },
  {
   "cell_type": "markdown",
   "id": "92407889-f375-4d81-87e3-5a02bbae5f14",
   "metadata": {},
   "source": [
    "`~` returns to the desktop directory (home folder) in all OSes"
   ]
  },
  {
   "attachments": {},
   "cell_type": "markdown",
   "id": "155840d0",
   "metadata": {},
   "source": [
    "## 1.3 Path separator"
   ]
  },
  {
   "cell_type": "markdown",
   "id": "0042ea26-a4ee-4c65-ac2c-44b7887afd5b",
   "metadata": {},
   "source": [
    "there are different path separators for Windows (\\\\) and MacOS/Linux (/)  \n",
    "try to write code in a way that can work in both systems (not hardcoding)\n",
    "\n",
    "remember for Windows, the backslash needs to be escaped (or the filepath could be mistaken for an escape itself e.g. `\\n` or `\\t`)"
   ]
  },
  {
   "attachments": {},
   "cell_type": "markdown",
   "id": "c3af9f23",
   "metadata": {},
   "source": [
    "## 1.4 Text files vs. Binary files"
   ]
  },
  {
   "cell_type": "markdown",
   "id": "aea94250-2ab1-4519-953f-6f66146e6932",
   "metadata": {},
   "source": [
    "text file: when opened in almost any software, they are readable (e.g. .txt, .csv)\n",
    "- note that Jupyter Notebooks are text files, but they are run by a software (Jupyter Notebook) to make it more readable\n",
    "\n",
    "binary file: below the graphical interface, it is stored as a series of 1s and 0s (binary). when run in the appropriate program that is able to make sense of the format of the binary file, then it will show its intended content\n",
    "- e.g. can be used as proprietary content\n",
    "- text files can be clunky/big (each letter is a number), while binary files can be compressed as patterns to store more data in less space. binary files generally parse faster as well"
   ]
  },
  {
   "attachments": {},
   "cell_type": "markdown",
   "id": "f6910e36",
   "metadata": {},
   "source": [
    "## 1.5 Extensions"
   ]
  },
  {
   "cell_type": "markdown",
   "id": "2ca51770-d2ed-40d2-831a-b837d439bc5c",
   "metadata": {},
   "source": [
    "file extensions (usually preceded by `.`) tell the OS how to handle the file (e.g. what associated program to open it with)\n",
    "- this underpins default programs for certain file extensions (e.g. Excel for .xlsx files)\n",
    "- they help to identify the correct decompression algorithm (reading method) to open the file with"
   ]
  },
  {
   "attachments": {},
   "cell_type": "markdown",
   "id": "5583ffdb",
   "metadata": {},
   "source": [
    "# 2 Opening and closing files"
   ]
  },
  {
   "attachments": {},
   "cell_type": "markdown",
   "id": "0e20f292",
   "metadata": {},
   "source": [
    "## 2.1 Reading data"
   ]
  },
  {
   "cell_type": "markdown",
   "id": "6ea1be7c-82af-4558-8517-a5284d0b70d6",
   "metadata": {},
   "source": [
    "```\n",
    "with open(filename.ext, 'r') as file:  \n",
    "    print(file.read())\n",
    "```\n",
    "opens a file and prints its contents using a file manager\n",
    "- `'r'` reads the entire file (as text file by default, doesn't really work with binary files unless `'rb'` is used)\n",
    "    - there are other options, deal with them as you encounter them\n",
    "- `filename.ext` should be replaced with the actual file and its extension\n",
    "- by default, this would reference the same directory as the code file\n",
    "\n",
    "normally, opening a file opens a stream to the file to read/write data  \n",
    "the stream has to be closed to prevent file corruption using `file.close()`  \n",
    "however, this is not required when using `with` to open files as it does resource handling for you"
   ]
  },
  {
   "attachments": {},
   "cell_type": "markdown",
   "id": "b55c93c5",
   "metadata": {},
   "source": [
    "## 2.2 Writing data"
   ]
  },
  {
   "attachments": {},
   "cell_type": "markdown",
   "id": "0f11bea6",
   "metadata": {},
   "source": [
    "### Writing to a file in one go"
   ]
  },
  {
   "cell_type": "markdown",
   "id": "98c9ea03-d8d6-46e4-87cb-3311dc2c5fac",
   "metadata": {},
   "source": [
    "```\n",
    "with open(filename.txt, 'w') as file:  \n",
    "    file.write()\n",
    "```\n",
    "this creates a new text file `filename.txt` and writes the argument in `.write()` into the file\n",
    "- the `'w'` represents writing\n",
    "- if the file doesn't exist, this creates a new file named `filename.txt`\n",
    "- if the file exists, this **overwrites** the existing content in the file\n",
    "    - use case: continual updating of a file\n",
    "    - file writing tends to be the slowest part in a code\n",
    "\n",
    "on the other hand, `'a'` instead **appends** the argument in `.write()` to the end of the contents in the file"
   ]
  },
  {
   "attachments": {},
   "cell_type": "markdown",
   "id": "fd064a7d",
   "metadata": {},
   "source": [
    "### Writing to a file, line by line"
   ]
  },
  {
   "cell_type": "markdown",
   "id": "2b524e84-8147-44d1-861d-32afdb5b8e08",
   "metadata": {},
   "source": [
    "using `.splitlines()` can split a file by a delineator into separate entiries in a list  \n",
    "this is usually followed by `.writeline()` to write the separate entries into a file"
   ]
  },
  {
   "attachments": {},
   "cell_type": "markdown",
   "id": "854d30b6",
   "metadata": {},
   "source": [
    "# 3 Some useful packages"
   ]
  },
  {
   "cell_type": "markdown",
   "id": "e651697a-105a-457d-9c41-cb9b888a24bb",
   "metadata": {},
   "source": [
    "importing can be done once per kernel (at the top of the file)\n",
    "- backend, if Python already has the package it will not import it (code clutter)"
   ]
  },
  {
   "cell_type": "code",
   "execution_count": 1,
   "id": "dbba8f3f-025e-45b3-888e-994585fe0313",
   "metadata": {},
   "outputs": [],
   "source": [
    "import os\n",
    "import glob\n",
    "import shutil"
   ]
  },
  {
   "attachments": {},
   "cell_type": "markdown",
   "id": "7a946543",
   "metadata": {},
   "source": [
    "# 4 OS safe paths"
   ]
  },
  {
   "cell_type": "markdown",
   "id": "fcb96879-9f98-47bd-a931-a4242c138a42",
   "metadata": {},
   "source": [
    "`os.path.join` writes the file path in a manner that is agnostic to whichever OS the code is run in (Windows/MacOS/Linux etc.)"
   ]
  },
  {
   "attachments": {},
   "cell_type": "markdown",
   "id": "d3fb835d",
   "metadata": {},
   "source": [
    "# 5 Folders"
   ]
  },
  {
   "attachments": {},
   "cell_type": "markdown",
   "id": "746efeb6",
   "metadata": {},
   "source": [
    "## 5.1 Creating folders"
   ]
  },
  {
   "cell_type": "markdown",
   "id": "2223e738-40dc-4aee-9612-c7d442d8d39b",
   "metadata": {},
   "source": [
    "`os.mkdir()` makes a new folder (directory) in the same directory as the code file with the name specified in the argument (as a string)\n",
    "- the argument specified is case-sensitive\n",
    "- however, using identical strings with different capitalistion is not possible as the underlying OSes do not accept folders with the same name but different capitalisations\n",
    "- the intended filepath can also be specified manually, or using `os.path.join` to produce the relative filepath"
   ]
  },
  {
   "attachments": {},
   "cell_type": "markdown",
   "id": "9d3b1967",
   "metadata": {},
   "source": [
    "## 5.2 Checking for existence"
   ]
  },
  {
   "cell_type": "markdown",
   "id": "5e9a1f41-bcbf-4275-bea0-67c8f6da1606",
   "metadata": {},
   "source": [
    "good practice to use one of these blocks to check for file creation"
   ]
  },
  {
   "attachments": {},
   "cell_type": "markdown",
   "id": "4d8cfb54",
   "metadata": {},
   "source": [
    "### Using try-except"
   ]
  },
  {
   "cell_type": "markdown",
   "id": "3222c08b-b134-4b7a-bd33-71a4ecd6174c",
   "metadata": {},
   "source": [
    "Avoid using `os.` commands unless you are sure the code works correctly  \n",
    "Specific errors can be assigned to different `except` branches, in this case `FileNameError`"
   ]
  },
  {
   "attachments": {},
   "cell_type": "markdown",
   "id": "56b40036",
   "metadata": {},
   "source": [
    "### Using os.path.exists()"
   ]
  },
  {
   "cell_type": "markdown",
   "id": "8109ba6a-2150-4a88-bcae-c920721b68dc",
   "metadata": {},
   "source": [
    "an OS command `os.path.exists()` can also be used together with `if-else` to check for pre-existing files in the specified directory"
   ]
  },
  {
   "attachments": {},
   "cell_type": "markdown",
   "id": "8edbd67d",
   "metadata": {},
   "source": [
    "## 5.3 Copying files"
   ]
  },
  {
   "cell_type": "markdown",
   "id": "5cc2fad5-93dd-46f6-b007-a5e3dba5a951",
   "metadata": {},
   "source": [
    "```\n",
    "for person in ['John', 'Paul', 'Ringo']:\n",
    "    path_to_destination = os.path.join('people', person)\n",
    "    shutil.copy('sp2273_logo.png', path_to_destination)\n",
    "    print(f'Copied file to {path_to_destination}.')\n",
    "```\n",
    "\n",
    "By adding `file_to_copy` as a variable, different files can be assigned to this variable (code can be reused to copy other files)  \n",
    "replace the actual filename in the above code with the variable\n",
    "\n",
    "This can accidentally overwrite data if done repeatedly as well, therefore using a **check for existence** is important to prevent this  \n",
    "Using `print()` is also a good way to check if the code is working as intended before running a directory-changing `os.` command\n",
    "\n",
    "Python is always looking in a folder (by default, the folder that the code is running in)  \n",
    "It can be asked to find a certain file/folder by specifying a relative filepath}')"
   ]
  },
  {
   "attachments": {},
   "cell_type": "markdown",
   "id": "b1469d0c",
   "metadata": {},
   "source": [
    "# 6 Listing and looking for files"
   ]
  },
  {
   "cell_type": "markdown",
   "id": "8d81f18e-4b1c-469f-b8f1-2d34586e4bc4",
   "metadata": {},
   "source": [
    "`glob` is a package optimised for searching for file contents (it is a pattern-matching engine that allows the use of regular expressions)  \n",
    "`'*'` in Python is used to represent 'anything' (a wildcard)  \n",
    "- if the argument is `'*.txt`, it will show all .txt files\n",
    "- if the argument is '`peo*'`, it will look for files starting with peo\n",
    "- if the argument is `'*e*'`, it will look for files containing e in its name\n",
    "- if the argument is `'peo*\\*`, it looks for all files within folders starting with peo\n",
    "    - additional directories can be further specified with additional `\\*`\n",
    "- these can be combined\n",
    " \n",
    "adding the second argument `recursive=True` will show all folders and their subfolders/contents as separate list entries\n",
    "- helps to search the entire file structure"
   ]
  },
  {
   "attachments": {},
   "cell_type": "markdown",
   "id": "3f490078",
   "metadata": {},
   "source": [
    "# 7 Extracting file info"
   ]
  },
  {
   "cell_type": "markdown",
   "id": "30b7d6c0-adcf-436a-ac2a-0de66eec8862",
   "metadata": {},
   "source": [
    "`os.path.sep` helps make the code OS-agnostic by using OS-specific filepath separators depending on which OS the code is run on  \n",
    "- using `.split()` with the above, this splits the file into separate list entries, one for each directory level\n",
    "    - the path separator regardless of OS acts as the delineator for the `.split()` function\n",
    "- indexing can be performed on this list to look for the specific file/sub-directory intended (e.g. `[-1]` looks for the deepest file\n",
    "- filenames should have extensions to tell the OS which program to run it with\n",
    "\n",
    "fun facts about data formats:\n",
    "- JPEG files use an algorithm to print the image (lossy formats)\n",
    "- BMP/TIF files carry images by pixels (more pixels = larger files) -> higher resolution\n",
    "- PDFs are vector formats -- images are stored as mathematical formats (look the same even with zoom/other viewing)"
   ]
  },
  {
   "cell_type": "markdown",
   "id": "c2f5c36d-b6e9-47db-95f0-9f79aac93602",
   "metadata": {},
   "source": [
    "`os.path.split()` breaks the specific file name from the rest of the filepath in the argument  \n",
    "`os.path.splitext()` breaks the extension from the filename specified in the filepath in the argument  \n",
    "`os.path.dirname()` returns only the directory leading to the file specified in the filepath in the argument"
   ]
  },
  {
   "attachments": {},
   "cell_type": "markdown",
   "id": "bb30bd9c",
   "metadata": {},
   "source": [
    "# 8 Deleting stuff"
   ]
  },
  {
   "cell_type": "markdown",
   "id": "a3666c26-4748-4f4d-a886-40cc39684112",
   "metadata": {},
   "source": [
    "`os.remove()` is the default delete function that deletes the file specified in its argument  \n",
    "`os.rmdir()` can be used to delete entire folders specified in the argument, but it has a failsafe error that will be thrown if the folder isn't empty\n",
    "`shutil.rmtree()` instantly deletes the folder even if it has contents\n",
    "\n",
    "deletion moves the affected files/folders into the Recycle Bin"
   ]
  }
 ],
 "metadata": {
  "kernelspec": {
   "display_name": "Python 3 (ipykernel)",
   "language": "python",
   "name": "python3"
  },
  "language_info": {
   "codemirror_mode": {
    "name": "ipython",
    "version": 3
   },
   "file_extension": ".py",
   "mimetype": "text/x-python",
   "name": "python",
   "nbconvert_exporter": "python",
   "pygments_lexer": "ipython3",
   "version": "3.11.5"
  },
  "toc": {
   "base_numbering": 1,
   "nav_menu": {},
   "number_sections": true,
   "sideBar": true,
   "skip_h1_title": false,
   "title_cell": "Table of Contents",
   "title_sidebar": "Contents",
   "toc_cell": false,
   "toc_position": {},
   "toc_section_display": true,
   "toc_window_display": false
  },
  "vscode": {
   "interpreter": {
    "hash": "31f2aee4e71d21fbe5cf8b01ff0e069b9275f58929596ceb00d14d90e3e16cd6"
   }
  }
 },
 "nbformat": 4,
 "nbformat_minor": 5
}
