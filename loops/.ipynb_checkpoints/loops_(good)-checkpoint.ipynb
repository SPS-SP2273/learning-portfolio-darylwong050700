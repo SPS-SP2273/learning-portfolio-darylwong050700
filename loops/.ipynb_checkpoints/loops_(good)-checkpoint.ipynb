{
 "cells": [
  {
   "attachments": {},
   "cell_type": "markdown",
   "id": "123456",
   "metadata": {},
   "source": [
    "<div style=\"text-align:left;font-size:2em\"><span style=\"font-weight:bolder;font-size:1.25em\">SP2273 | Learning Portfolio</span><br><br><span style=\"font-weight:bold;color:darkred\">Loops (Good)</span></div>"
   ]
  },
  {
   "attachments": {},
   "cell_type": "markdown",
   "id": "36aab2b4",
   "metadata": {},
   "source": [
    "# What to expect in this chapter"
   ]
  },
  {
   "attachments": {},
   "cell_type": "markdown",
   "id": "dccfff8f",
   "metadata": {},
   "source": [
    "# 1 Interrupting the flow"
   ]
  },
  {
   "cell_type": "code",
   "execution_count": 2,
   "id": "889ae7ab-8303-4322-970f-a99e2a0d3290",
   "metadata": {},
   "outputs": [
    {
     "name": "stdout",
     "output_type": "stream",
     "text": [
      "0\n",
      "1\n",
      "2\n",
      "3\n",
      "4\n",
      "5\n",
      "6\n",
      "7\n",
      "8\n",
      "9\n",
      "10\n"
     ]
    }
   ],
   "source": [
    "x=0\n",
    "while x < x+1:\n",
    "    if x == 10:\n",
    "        break\n",
    "    print(x) # print(x) is not run when x=10\n",
    "    x+=1 # x+=1 is not run when x=10 (at the end of the loop where x=9)\n",
    "print(x) # loop stopped when x=10 per the break condition"
   ]
  },
  {
   "cell_type": "code",
   "execution_count": 18,
   "id": "5a23d4ef-cb65-4294-afc1-1e8c6b877fb3",
   "metadata": {},
   "outputs": [
    {
     "name": "stdout",
     "output_type": "stream",
     "text": [
      "0\n",
      "1\n",
      "2\n",
      "3\n",
      "4\n",
      "5\n",
      "6\n",
      "7\n",
      "8\n",
      "9\n",
      "10\n",
      "10\n"
     ]
    }
   ],
   "source": [
    "x=0\n",
    "while x < x+1:\n",
    "    print(x) # print(x) is run when x=10\n",
    "    if x == 10:\n",
    "        break\n",
    "    x+=1 # x+=1 is not run when x=10, so x remains at 10\n",
    "\n",
    "print(x)"
   ]
  },
  {
   "cell_type": "code",
   "execution_count": 23,
   "id": "3f385790-402a-431d-9e94-57b6d515816d",
   "metadata": {},
   "outputs": [
    {
     "name": "stdout",
     "output_type": "stream",
     "text": [
      "1\n",
      "1\n",
      "2\n",
      "2\n",
      "3\n",
      "3\n",
      "4\n",
      "4\n",
      "5\n",
      "5\n",
      "6\n",
      "6\n",
      "7\n",
      "8\n",
      "8\n",
      "9\n",
      "9\n",
      "10\n",
      "10\n",
      "11\n",
      "11\n",
      "12\n",
      "12\n",
      "13\n",
      "14\n",
      "14\n",
      "15\n",
      "15\n",
      "16\n",
      "16\n",
      "17\n",
      "17\n",
      "18\n",
      "18\n",
      "19\n",
      "19\n",
      "20\n",
      "20\n"
     ]
    }
   ],
   "source": [
    "x=0\n",
    "for x in range(20):\n",
    "    x+=1\n",
    "    print(x) # this print(x) runs when x=7 and x=13 since it is before the continue's if condition\n",
    "    if (x==7) or (x==13):\n",
    "        continue\n",
    "    print(x) # this print(x) is not run when x=7 and x=13 (so there is only 1 output for 7 and 13 each)"
   ]
  },
  {
   "cell_type": "code",
   "execution_count": 4,
   "id": "3866747b-5dfe-4e02-850b-8c6fb627758f",
   "metadata": {},
   "outputs": [
    {
     "name": "stdout",
     "output_type": "stream",
     "text": [
      "1\n",
      "3\n",
      "4\n",
      "5\n",
      "6\n",
      "7\n",
      "8\n"
     ]
    }
   ],
   "source": [
    "x=0\n",
    "while x < x+1:\n",
    "    x+=1\n",
    "    if x == 2:\n",
    "        continue\n",
    "    print(x)\n",
    "    if x > 7: # loop runs infinitely without this break (while True can also be used to setup infinite loops)\n",
    "        break"
   ]
  },
  {
   "cell_type": "markdown",
   "id": "ffc9f26a-f07c-40fe-98a5-d7e30da3f632",
   "metadata": {},
   "source": [
    "`break` within a loop structure can be used to stop loops, usually in an `if` structure to set the condition(s) for breaking the loop  \n",
    "`continue` interrupts a loop for the condition(s) (usually in `if`) and resumes the loop up till the original run loop condition is false\n",
    "\n",
    "the positioning of `break` and `continue` affects what code is executed; the loop will run in sequence until encountering the `break` or `continue` condition, which affects all code after it\n",
    "\n",
    "possible to use `break` and `continue` in the same loop structure, but the running time is slow\n",
    "\n",
    "note that variable values are stored in the same kernel, so a loop may not run if the condition variable was previously set to make the loop condition false. either define the condition variable before the loop or restart the kernel"
   ]
  },
  {
   "attachments": {},
   "cell_type": "markdown",
   "id": "c9ee713f",
   "metadata": {},
   "source": [
    "# 2 List comprehension!"
   ]
  },
  {
   "attachments": {},
   "cell_type": "markdown",
   "id": "ca10c16d",
   "metadata": {},
   "source": [
    "## 2.1 Basic syntax"
   ]
  },
  {
   "cell_type": "code",
   "execution_count": 8,
   "id": "dfc42ebb-4d50-4822-af5d-549bf4c68100",
   "metadata": {},
   "outputs": [
    {
     "data": {
      "text/plain": [
       "[0, 5, 10, 15, 20]"
      ]
     },
     "execution_count": 8,
     "metadata": {},
     "output_type": "execute_result"
    }
   ],
   "source": [
    "[entry*5 for entry in range(5)]"
   ]
  },
  {
   "cell_type": "code",
   "execution_count": 10,
   "id": "ff6c62cf-6ebc-4f8f-8ee1-ff77c84aeeb1",
   "metadata": {},
   "outputs": [
    {
     "ename": "SyntaxError",
     "evalue": "invalid syntax (632065669.py, line 2)",
     "output_type": "error",
     "traceback": [
      "\u001b[1;36m  Cell \u001b[1;32mIn[10], line 2\u001b[1;36m\u001b[0m\n\u001b[1;33m    [entry*2 while entry<5]\u001b[0m\n\u001b[1;37m             ^\u001b[0m\n\u001b[1;31mSyntaxError\u001b[0m\u001b[1;31m:\u001b[0m invalid syntax\n"
     ]
    }
   ],
   "source": [
    "entry=0\n",
    "[entry*2 while entry<5]"
   ]
  },
  {
   "cell_type": "markdown",
   "id": "ed242158-ee83-4d2e-98ea-cdf630446f83",
   "metadata": {},
   "source": [
    "`for` loops can be used to create lists by specifying the output (and any operands) in front:  \n",
    "`[`output` for `output` in `condition`]`  \n",
    "`if` conditions can also be included, and the first output can also be modified to a string/f-string (as long as the second output and condition match)  \n",
    "doesn't seem to work for `while` loops\n",
    "\n",
    "syntactic sugars -- optimised ways to make code run faster in programming languages (e.g. list comprehension)  "
   ]
  },
  {
   "attachments": {},
   "cell_type": "markdown",
   "id": "d2b05bf2",
   "metadata": {},
   "source": [
    "## 2.2 List comprehension with conditions"
   ]
  },
  {
   "cell_type": "code",
   "execution_count": 19,
   "id": "1c0de831-47ad-40e8-b138-a5abf7e06514",
   "metadata": {},
   "outputs": [
    {
     "data": {
      "text/plain": [
       "[25, 36]"
      ]
     },
     "execution_count": 19,
     "metadata": {},
     "output_type": "execute_result"
    }
   ],
   "source": [
    "[x**2 for x in range(10) if 4<x<7] # works\n",
    "[x**2 for x in range(10) if ((x>4) and (x<7))] # works\n",
    "[x**2 for x in range(10) if (x>4) and (x<7)] # works"
   ]
  },
  {
   "cell_type": "markdown",
   "id": "7c3460e8-694c-4e4b-a3ba-4cff0e27e287",
   "metadata": {},
   "source": [
    "multiple conditions can be specified with `if` in list comprehension"
   ]
  },
  {
   "attachments": {},
   "cell_type": "markdown",
   "id": "6df60deb",
   "metadata": {},
   "source": [
    "# 3 Other useful stuff"
   ]
  },
  {
   "attachments": {},
   "cell_type": "markdown",
   "id": "a8b8fea6",
   "metadata": {},
   "source": [
    "## 3.1 for with unpacking"
   ]
  },
  {
   "cell_type": "code",
   "execution_count": 4,
   "id": "66849a03-c929-431b-9b4b-2b06625a9756",
   "metadata": {},
   "outputs": [
    {
     "name": "stdout",
     "output_type": "stream",
     "text": [
      "x=A, y=B, z=C\n"
     ]
    }
   ],
   "source": [
    "x,y,z=\"A\",\"B\",\"C\"\n",
    "print(f'x={x}, y={y}, z={z}')"
   ]
  },
  {
   "cell_type": "code",
   "execution_count": 1,
   "id": "54f9d0cc-bb97-4fd2-9a36-2916d67254e9",
   "metadata": {},
   "outputs": [
    {
     "name": "stdout",
     "output_type": "stream",
     "text": [
      "the coordinate set is [[1, 2, 3], [4, 5, 6], [7, 8, 9]].\n",
      "x is 1, y is 2, z is 3\n",
      "x is 4, y is 5, z is 6\n",
      "x is 7, y is 8, z is 9\n",
      "the coordinate set is [[10, 11, 12], [13, 14, 15], [16, 17, 18]].\n",
      "x is 10, y is 11, z is 12\n",
      "x is 13, y is 14, z is 15\n",
      "x is 16, y is 17, z is 18\n",
      "the coordinate set is [[19, 20, 21], [22, 23, 24], [25, 26, 27]].\n",
      "x is 19, y is 20, z is 21\n",
      "x is 22, y is 23, z is 24\n",
      "x is 25, y is 26, z is 27\n",
      "\n",
      "the last known coordinates were [25, 26, 27]. \n",
      "the last coordinate set was [[19, 20, 21], [22, 23, 24], [25, 26, 27]].\n"
     ]
    }
   ],
   "source": [
    "three_dimensions = [[[1,2,3], [4,5,6], [7,8,9]],\n",
    "                    [[10,11,12],[13,14,15],[16,17,18]],\n",
    "                    [[19,20,21],[22,23,24],[25,26,27]]]\n",
    "for a in three_dimensions:\n",
    "    print(f\"the coordinate set is {a}.\")\n",
    "    for b in a:\n",
    "        x,y,z=b\n",
    "        print(f'x is {x}, y is {y}, z is {z}')\n",
    "\n",
    "print(f\"\\nthe last known coordinates were {b}. \\nthe last coordinate set was {a}.\")"
   ]
  },
  {
   "cell_type": "code",
   "execution_count": 55,
   "id": "bf17e927-f95f-4c93-84d3-190fbb51a296",
   "metadata": {},
   "outputs": [
    {
     "name": "stdout",
     "output_type": "stream",
     "text": [
      "O\n",
      "B\n",
      "A\n"
     ]
    }
   ],
   "source": [
    "import numpy as np\n",
    "list=['O','B','A']\n",
    "array=np.array(list)\n",
    "\n",
    "for x in array:\n",
    "    print(x)"
   ]
  },
  {
   "cell_type": "markdown",
   "id": "f116f407-1c05-4960-8828-cb08156765d6",
   "metadata": {},
   "source": [
    "unpacking is another way of extracting information from lists (besides indexing)  \n",
    "syntax like `x,y=10,20` to assign `x` and `y` to 10 and 20 respectively is possible in Python  \n",
    "this also applies for lists `x,y=[10,20]` and assigning strings  \n",
    "\n",
    "each `for` loop can unpack a single dimension from a list  \n",
    "looping can repeat this action for all list entries (with the latest one being kept at the end of the loop and list)\n",
    "\n",
    "this method works for arrays"
   ]
  },
  {
   "attachments": {},
   "cell_type": "markdown",
   "id": "ff28d5e6",
   "metadata": {},
   "source": [
    "## 3.2 for with zip()"
   ]
  },
  {
   "cell_type": "code",
   "execution_count": 68,
   "id": "6fe41fa9-270a-4336-b227-c8dff330ee8e",
   "metadata": {},
   "outputs": [
    {
     "name": "stdout",
     "output_type": "stream",
     "text": [
      "1 10 19\n",
      "2 11 20\n",
      "3 12 21\n",
      "4 13 22\n",
      "5 14 23\n",
      "6 15 24\n",
      "7 16 25\n",
      "8 17 26\n",
      "9 18 27\n"
     ]
    }
   ],
   "source": [
    "list1=[[1, 2, 3], [4, 5, 6], [7, 8, 9]]\n",
    "list2=[[10, 11, 12], [13, 14, 15], [16, 17, 18]]\n",
    "list3=[[19, 20, 21], [22, 23, 24], [25, 26, 27]]\n",
    "\n",
    "for x,y,z in zip(list1,list2,list3):\n",
    "    for a,b,c in zip(x,y,z):\n",
    "        print(a,b,c)"
   ]
  },
  {
   "cell_type": "markdown",
   "id": "ca4fe55d-c9da-4146-acd6-53d3f4dc1bb5",
   "metadata": {},
   "source": [
    "`zip()` can be used to combine any number of lists together by matching indexed entries with each other  \n",
    "`zip()` is an **iterator**, it only does things when combined with another function (doesn't do anything on its own)\n",
    "\n",
    "individual entries in `x`D lists can be matched by index using $x-1$ `zip` `for` loops"
   ]
  },
  {
   "attachments": {},
   "cell_type": "markdown",
   "id": "a37001ac",
   "metadata": {},
   "source": [
    "## 3.3 for with dictionaries"
   ]
  },
  {
   "cell_type": "code",
   "execution_count": 69,
   "id": "90458386-d89c-4364-95c1-2b05ca0d93bb",
   "metadata": {},
   "outputs": [
    {
     "name": "stdout",
     "output_type": "stream",
     "text": [
      "wangmiao is the main character in threebody\n",
      "luoji is the main character in darkforest\n",
      "chengxin is the main character in deathsend\n"
     ]
    }
   ],
   "source": [
    "dictionary={\"threebody\":\"wangmiao\",\n",
    "            \"darkforest\":\"luoji\",\n",
    "            \"deathsend\":\"chengxin\"}\n",
    "for book,name in dictionary.items():\n",
    "    print(f\"{name} is the main character in {book}\")"
   ]
  },
  {
   "cell_type": "code",
   "execution_count": 70,
   "id": "e5b92e74-ef9e-4a9f-b3d5-6a65bc1d52f1",
   "metadata": {},
   "outputs": [
    {
     "name": "stdout",
     "output_type": "stream",
     "text": [
      "threebody has wangmiao as its main character\n",
      "darkforest has luoji as its main character\n",
      "deathsend has chengxin as its main character\n"
     ]
    }
   ],
   "source": [
    "for book in dictionary.keys():\n",
    "    name=dictionary[book]\n",
    "    print(f\"{book} has {name} as its main character\")"
   ]
  },
  {
   "cell_type": "markdown",
   "id": "0faee48c-c237-4365-89d1-4c9bedf58c9d",
   "metadata": {},
   "source": [
    "dictionaries contain a **hidden function** `.items()` that converts the key/value pairs from a dictionary into a 2D list.  \n",
    "Each corresponding key and value in the same list entry.\n",
    "\n",
    "combining it with a `for` loop converts the dictionary into a 2D list to execute the loop on\n",
    "\n",
    "`.keys()` extracts the keys into a list, while preserving its association to the value in the dictionary.  \n",
    "`.values()` does the same for values."
   ]
  },
  {
   "attachments": {},
   "cell_type": "markdown",
   "id": "301aca27",
   "metadata": {},
   "source": [
    "## Footnotes"
   ]
  }
 ],
 "metadata": {
  "kernelspec": {
   "display_name": "Python 3 (ipykernel)",
   "language": "python",
   "name": "python3"
  },
  "language_info": {
   "codemirror_mode": {
    "name": "ipython",
    "version": 3
   },
   "file_extension": ".py",
   "mimetype": "text/x-python",
   "name": "python",
   "nbconvert_exporter": "python",
   "pygments_lexer": "ipython3",
   "version": "3.11.5"
  },
  "toc": {
   "base_numbering": 1,
   "nav_menu": {},
   "number_sections": true,
   "sideBar": true,
   "skip_h1_title": false,
   "title_cell": "Table of Contents",
   "title_sidebar": "Contents",
   "toc_cell": false,
   "toc_position": {},
   "toc_section_display": true,
   "toc_window_display": false
  },
  "vscode": {
   "interpreter": {
    "hash": "31f2aee4e71d21fbe5cf8b01ff0e069b9275f58929596ceb00d14d90e3e16cd6"
   }
  }
 },
 "nbformat": 4,
 "nbformat_minor": 5
}
