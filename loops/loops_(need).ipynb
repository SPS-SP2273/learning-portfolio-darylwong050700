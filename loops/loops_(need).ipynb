{
 "cells": [
  {
   "attachments": {},
   "cell_type": "markdown",
   "id": "123456",
   "metadata": {},
   "source": [
    "<div style=\"text-align:left;font-size:2em\"><span style=\"font-weight:bolder;font-size:1.25em\">SP2273 | Learning Portfolio</span><br><br><span style=\"font-weight:bold;color:darkred\">Loops (Need)</span></div>"
   ]
  },
  {
   "attachments": {},
   "cell_type": "markdown",
   "id": "73f0ae41",
   "metadata": {},
   "source": [
    "# What to expect in this chapter"
   ]
  },
  {
   "attachments": {},
   "cell_type": "markdown",
   "id": "1fc74d3b",
   "metadata": {},
   "source": [
    "# 1 The for iterator"
   ]
  },
  {
   "attachments": {},
   "cell_type": "markdown",
   "id": "3e0a2bcb",
   "metadata": {},
   "source": [
    "## 1.1 for with a list"
   ]
  },
  {
   "cell_type": "code",
   "execution_count": 1,
   "id": "7c8b7f40-5f80-40d3-b154-61d7ae37b6d0",
   "metadata": {},
   "outputs": [
    {
     "name": "stdout",
     "output_type": "stream",
     "text": [
      "Chong Yue is a Sui sibling.\n",
      "Ling is a Sui sibling.\n",
      "Shu is a Sui sibling.\n",
      "Nian is a Sui sibling.\n",
      "Dusk is a Sui sibling.\n",
      "2 is a prime number.\n",
      "3 is a prime number.\n",
      "5 is a prime number.\n",
      "7 is a prime number.\n",
      "11 is a prime number.\n",
      "13 is a prime number.\n",
      "17 is a prime number.\n",
      "19 is a prime number.\n"
     ]
    }
   ],
   "source": [
    "operator_names=[\"Chong Yue\", \"Ling\", \"Shu\", \"Nian\", \"Dusk\"]\n",
    "for sibling in operator_names:\n",
    "    print(f\"{sibling} is a Sui sibling.\")\n",
    "\n",
    "prime_numbers=[2,3,5,7,11,13,17,19]\n",
    "import numpy as np\n",
    "prime_array=np.array(prime_numbers)\n",
    "for prime in prime_array:\n",
    "    print(f\"{prime} is a prime number.\")"
   ]
  },
  {
   "cell_type": "markdown",
   "id": "933f5aa0-42ac-4841-9225-2130bd29eeee",
   "metadata": {},
   "source": [
    "`for` is one of the ways to do loops in Python  \n",
    "- `for xx in list` assigns `xx` to each element in the list/array (works with numbers and strings)\n",
    "- it then runs the code block (marked out by `:` and indent) for each element\n",
    "    - check indents if not working as intended\n",
    "- change `xx` to something that can represent the list elements for clarity\n",
    "- `for` loop is repeated for each element in the list/array\n",
    "\n",
    "seems slightly slower for arrays..."
   ]
  },
  {
   "attachments": {},
   "cell_type": "markdown",
   "id": "45f1b083",
   "metadata": {},
   "source": [
    "## 1.2 for with enumerate"
   ]
  },
  {
   "cell_type": "code",
   "execution_count": 16,
   "id": "e80cffcd-fe96-4916-aa6c-f47a17f2e1db",
   "metadata": {},
   "outputs": [
    {
     "name": "stdout",
     "output_type": "stream",
     "text": [
      "1: Chong Yue is a Sui sibling.\n",
      "2: Ling is a Sui sibling.\n",
      "3: Shu is a Sui sibling.\n",
      "4: Nian is a Sui sibling.\n",
      "5: Dusk is a Sui sibling.\n"
     ]
    }
   ],
   "source": [
    "siblings=([\"Chong Yue\", \"Ling\", \"Shu\", \"Nian\", \"Dusk\"])\n",
    "birthdays=[\"1/1\",\"3/3\",\"6/6\",\"9/9\",\"11/11\"]\n",
    "for count, name in enumerate(siblings, 1):\n",
    "    print(f\"{count}: {name} is a Sui sibling.\")"
   ]
  },
  {
   "cell_type": "code",
   "execution_count": 13,
   "id": "105f7124-008c-45ab-87b8-7c7afadceeba",
   "metadata": {},
   "outputs": [
    {
     "name": "stdout",
     "output_type": "stream",
     "text": [
      "5\n",
      "(1, 'Chong Yue')\n",
      "(2, 'Ling')\n",
      "(3, 'Shu')\n",
      "(4, 'Nian')\n",
      "(5, 'Dusk')\n"
     ]
    }
   ],
   "source": [
    "print(count)\n",
    "for count in enumerate(siblings,1):\n",
    "    print(count)"
   ]
  },
  {
   "cell_type": "code",
   "execution_count": 17,
   "id": "4410e5c5-7270-4845-bf37-51fc1fa76777",
   "metadata": {},
   "outputs": [
    {
     "name": "stdout",
     "output_type": "stream",
     "text": [
      "Chong Yue's birthday is 1/1!\n",
      "Ling's birthday is 3/3!\n",
      "Shu's birthday is 6/6!\n",
      "Nian's birthday is 9/9!\n",
      "Dusk's birthday is 11/11!\n"
     ]
    }
   ],
   "source": [
    "for index, name in enumerate(siblings):\n",
    "    op_bday=birthdays[index]\n",
    "    print(f\"{name}\\'s birthday is {op_bday}!\")"
   ]
  },
  {
   "cell_type": "code",
   "execution_count": 32,
   "id": "ab9b462e-44e6-4f73-b0bc-aa8f193c3bfe",
   "metadata": {},
   "outputs": [
    {
     "data": {
      "text/plain": [
       "int"
      ]
     },
     "execution_count": 32,
     "metadata": {},
     "output_type": "execute_result"
    }
   ],
   "source": [
    "type(index)"
   ]
  },
  {
   "cell_type": "markdown",
   "id": "58334e60-d501-449b-97a5-5a740a2237d9",
   "metadata": {},
   "source": [
    "`enumerate()` is a function that can be used in a loop  \n",
    "`enumerate(argument, x)` assigns a number to each element in a list/array `argument` starting from `x` (0 by default)  \n",
    "that number is assigned the variable `y` in `for y in enumerate(argument,x)`  \n",
    "`print(y)` only produces the last count assigned via `enumerate()`    \n",
    "`for y in enumerate(argument,x)` gives the count number and corresponding list/array element\n",
    "\n",
    "in the line `op_bday=birthdays[index]`,\n",
    "- the variable `op_bday` is assigned the value from `birthdays` list corresponding to the int in `index`\n",
    "- the ints in `index` are obtained from the enumeration of `siblings` (this is why it does not work when setting `x` to 1, as Python is zero-indexed)\n",
    "- it then prints out the corresponding `name` that assigned the `index` int value in line 1, and loops for each subsequent enumerated value"
   ]
  },
  {
   "cell_type": "markdown",
   "id": "efd20d66-39f0-49cd-8cc9-1058743a634f",
   "metadata": {},
   "source": [
    "`enumerate()` is an **iterator**. it works similarly to\n",
    "```\n",
    "count=0\n",
    "for x in list:\n",
    "    print(x)\n",
    "    count+=1\n",
    "```\n",
    "since it expands the list to have an additional integer as a dimension for each element, 2 variables have to be defined in the `for` loop  \n",
    "the enumerate counter can be used as an index for another list in order to correspond its entries to a certain list"
   ]
  },
  {
   "attachments": {},
   "cell_type": "markdown",
   "id": "3840a1b9",
   "metadata": {},
   "source": [
    "## 1.3 for with range"
   ]
  },
  {
   "cell_type": "code",
   "execution_count": 49,
   "id": "5709babe-aaea-49b2-97d9-f48a10b40993",
   "metadata": {},
   "outputs": [
    {
     "name": "stdout",
     "output_type": "stream",
     "text": [
      "4\n",
      "3\n",
      "2\n"
     ]
    }
   ],
   "source": [
    "for i in range(4,1,-1):\n",
    "    print(i)"
   ]
  },
  {
   "cell_type": "code",
   "execution_count": 45,
   "id": "45495c29-1923-4ded-be18-d099a9f76245",
   "metadata": {},
   "outputs": [
    {
     "name": "stdout",
     "output_type": "stream",
     "text": [
      "Chong Yue's birthday is 1/1!\n",
      "Ling's birthday is 3/3!\n",
      "Shu's birthday is 6/6!\n",
      "Nian's birthday is 9/9!\n",
      "Dusk's birthday is 11/11!\n"
     ]
    }
   ],
   "source": [
    "for i in range(len(siblings)):\n",
    "    name=siblings[i]\n",
    "    bday=birthdays[i]\n",
    "    print(f\"{name}\\'s birthday is {bday}!\")"
   ]
  },
  {
   "cell_type": "code",
   "execution_count": 46,
   "id": "bc962ef3-d378-48d5-a2da-0f5e4e07a24a",
   "metadata": {},
   "outputs": [
    {
     "data": {
      "text/plain": [
       "5"
      ]
     },
     "execution_count": 46,
     "metadata": {},
     "output_type": "execute_result"
    }
   ],
   "source": [
    "len(siblings)"
   ]
  },
  {
   "cell_type": "markdown",
   "id": "740f3afc-f640-4e35-867d-29a0debd02da",
   "metadata": {},
   "source": [
    "`range(x,y,z)` is another function that is used in a loop to run it a certain number of times\n",
    "- `x`: starting value (0 by default)\n",
    "- `y`: ending value (used if only 1 value is input to determine how many times the loop is run)\n",
    "- `z`: step size (1 by default)\n",
    "- assuming an increasing integer structure from `x` to `y`, `range()` will run from `x` at intervals of `z` up to $(y-1)$\n",
    "- if $x\\gt y$ and `z` is negative, the loop can run in reverse from `x` to $(y+1)$ at intervals of `z`\n",
    "\n",
    "line 1: uses `len(siblings)` to determine how many loops to be run, and assigns the loop count to `i`  \n",
    "line 2: assigns variable `name` to index `i` in list `siblings`  \n",
    "line 3: assigns variable `bday` to index `i` in list `birthdays`  \n",
    "line 4: prints the corresponding `name` and `bday`  \n",
    "_note: `len(siblings)` returning 5 means the loop will run 5 times for `i` values of 0,1,2,3,4 , which are indexed to the lists `siblings` and `birthdays`_"
   ]
  },
  {
   "attachments": {},
   "cell_type": "markdown",
   "id": "2eb88249",
   "metadata": {},
   "source": [
    "# 2 while"
   ]
  },
  {
   "cell_type": "code",
   "execution_count": 52,
   "id": "7636ed66-86d3-4668-9a4f-52601fca918f",
   "metadata": {},
   "outputs": [
    {
     "name": "stdout",
     "output_type": "stream",
     "text": [
      "0\n",
      "1\n",
      "2\n",
      "3\n",
      "4\n"
     ]
    }
   ],
   "source": [
    "counter = 0\n",
    "while counter < 5: # while counter < counter+1\n",
    "    print(counter)\n",
    "    counter+=1"
   ]
  },
  {
   "cell_type": "markdown",
   "id": "79e03c5b-e70e-4a46-90ca-81467add7fdc",
   "metadata": {},
   "source": [
    "`while condition` loops check if the condition is True, and executes the code block if the condition is true  \n",
    "it loops until the condition is false"
   ]
  }
 ],
 "metadata": {
  "kernelspec": {
   "display_name": "Python 3 (ipykernel)",
   "language": "python",
   "name": "python3"
  },
  "language_info": {
   "codemirror_mode": {
    "name": "ipython",
    "version": 3
   },
   "file_extension": ".py",
   "mimetype": "text/x-python",
   "name": "python",
   "nbconvert_exporter": "python",
   "pygments_lexer": "ipython3",
   "version": "3.11.5"
  },
  "toc": {
   "base_numbering": 1,
   "nav_menu": {},
   "number_sections": true,
   "sideBar": true,
   "skip_h1_title": false,
   "title_cell": "Table of Contents",
   "title_sidebar": "Contents",
   "toc_cell": false,
   "toc_position": {},
   "toc_section_display": true,
   "toc_window_display": false
  },
  "vscode": {
   "interpreter": {
    "hash": "31f2aee4e71d21fbe5cf8b01ff0e069b9275f58929596ceb00d14d90e3e16cd6"
   }
  }
 },
 "nbformat": 4,
 "nbformat_minor": 5
}
