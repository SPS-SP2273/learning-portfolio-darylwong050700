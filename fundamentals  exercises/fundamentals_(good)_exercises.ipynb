{
 "cells": [
  {
   "cell_type": "markdown",
   "id": "123456",
   "metadata": {},
   "source": [
    "<div style=\"text-align:left;font-size:2em\"><span style=\"font-weight:bolder;font-size:1.25em\">SP2273 | Learning Portfolio</span><br><br><span style=\"font-weight:bold;color:darkred\">Fundamentals (Good) Exercises</span></div>"
   ]
  },
  {
   "cell_type": "code",
   "execution_count": 3,
   "id": "feab1234",
   "metadata": {},
   "outputs": [
    {
     "name": "stdout",
     "output_type": "stream",
     "text": [
      "Give me a number?36\n",
      "You entered 36\n"
     ]
    }
   ],
   "source": [
    "user_input = input('Give me a number?')\n",
    "print (f'You entered {user_input}')"
   ]
  },
  {
   "cell_type": "code",
   "execution_count": 4,
   "id": "9ee8f877",
   "metadata": {},
   "outputs": [
    {
     "name": "stdout",
     "output_type": "stream",
     "text": [
      "Give me a number?225\n",
      "You entered 225\n"
     ]
    }
   ],
   "source": [
    "user_input = input('Give me a number?')\n",
    "print('You entered', user_input)"
   ]
  },
  {
   "cell_type": "markdown",
   "id": "e396781f",
   "metadata": {},
   "source": [
    "### Exercise 1 (What is your grade?)"
   ]
  },
  {
   "cell_type": "code",
   "execution_count": 33,
   "id": "74c919d5",
   "metadata": {},
   "outputs": [
    {
     "name": "stdout",
     "output_type": "stream",
     "text": [
      "Enter the student's score: 105\n",
      "Please enter an integer value from 0-100.\n"
     ]
    }
   ],
   "source": [
    "score = input('Enter the student\\'s score: ')\n",
    "if (score.isnumeric() == True): # filters out text inputs\n",
    "    score = int(score) # changes str input type to integer\n",
    "    if (70 <= score <= 100):\n",
    "        print('The student\\'s letter grade is: A')\n",
    "    elif (50 <= score <= 69):\n",
    "        print('The student\\'s letter grade is: B')\n",
    "    elif (35 <= score <= 49):\n",
    "        print('The student\\'s letter grade is: C')\n",
    "    elif (0 <= score <= 34):\n",
    "        print('The student\\'s letter grade is: Fail')\n",
    "    else:\n",
    "        print('Please enter an integer value from 0-100.')\n",
    "else:\n",
    "    print('Please enter an integer value from 0-100.')"
   ]
  },
  {
   "cell_type": "markdown",
   "id": "d65d6ee7",
   "metadata": {},
   "source": [
    "the code still cannot handle decimal inputs (e.g. 69.9)"
   ]
  },
  {
   "cell_type": "code",
   "execution_count": 12,
   "id": "41aac819-3725-4018-ab51-e5e05228d413",
   "metadata": {},
   "outputs": [
    {
     "name": "stdin",
     "output_type": "stream",
     "text": [
      "Enter the student's score:  105\n"
     ]
    },
    {
     "name": "stdout",
     "output_type": "stream",
     "text": [
      "Please enter a number from 0-100.\n"
     ]
    }
   ],
   "source": [
    "score = input('Enter the student\\'s score: ')\n",
    "try:\n",
    "    score = float(score)\n",
    "except:\n",
    "    print('Please enter a number from 0-100.')\n",
    "else:\n",
    "    try:\n",
    "        score = int(score)\n",
    "    except:\n",
    "        print('Please enter a number from 0-100.')\n",
    "    else:\n",
    "        if (70 <= score <= 100):\n",
    "            print('The student\\'s letter grade is: A')\n",
    "        elif (50 <= score <= 69):\n",
    "            print('The student\\'s letter grade is: B')\n",
    "        elif (35 <= score <= 49):\n",
    "            print('The student\\'s letter grade is: C')\n",
    "        elif (0 <= score <= 34):\n",
    "            print('The student\\'s letter grade is: Fail')\n",
    "        else:\n",
    "            print('Please enter a number from 0-100.')"
   ]
  }
 ],
 "metadata": {
  "kernelspec": {
   "display_name": "Python 3 (ipykernel)",
   "language": "python",
   "name": "python3"
  },
  "language_info": {
   "codemirror_mode": {
    "name": "ipython",
    "version": 3
   },
   "file_extension": ".py",
   "mimetype": "text/x-python",
   "name": "python",
   "nbconvert_exporter": "python",
   "pygments_lexer": "ipython3",
   "version": "3.11.5"
  },
  "toc": {
   "base_numbering": 1,
   "nav_menu": {},
   "number_sections": true,
   "sideBar": true,
   "skip_h1_title": false,
   "title_cell": "Table of Contents",
   "title_sidebar": "Contents",
   "toc_cell": false,
   "toc_position": {},
   "toc_section_display": true,
   "toc_window_display": false
  },
  "varInspector": {
   "cols": {
    "lenName": 16,
    "lenType": 16,
    "lenVar": 40
   },
   "kernels_config": {
    "python": {
     "delete_cmd_postfix": "",
     "delete_cmd_prefix": "del ",
     "library": "var_list.py",
     "varRefreshCmd": "print(var_dic_list())"
    },
    "r": {
     "delete_cmd_postfix": ") ",
     "delete_cmd_prefix": "rm(",
     "library": "var_list.r",
     "varRefreshCmd": "cat(var_dic_list()) "
    }
   },
   "types_to_exclude": [
    "module",
    "function",
    "builtin_function_or_method",
    "instance",
    "_Feature"
   ],
   "window_display": false
  },
  "vscode": {
   "interpreter": {
    "hash": "31f2aee4e71d21fbe5cf8b01ff0e069b9275f58929596ceb00d14d90e3e16cd6"
   }
  }
 },
 "nbformat": 4,
 "nbformat_minor": 5
}
