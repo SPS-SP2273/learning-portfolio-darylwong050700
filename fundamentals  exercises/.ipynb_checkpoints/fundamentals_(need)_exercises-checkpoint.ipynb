{
 "cells": [
  {
   "cell_type": "markdown",
   "id": "123456",
   "metadata": {},
   "source": [
    "<div style=\"text-align:left;font-size:2em\"><span style=\"font-weight:bolder;font-size:1.25em\">SP2273 | Learning Portfolio</span><br><br><span style=\"font-weight:bold;color:darkred\">Fundamentals (Need) Exercises</span></div>"
   ]
  },
  {
   "cell_type": "markdown",
   "id": "fb7f339e",
   "metadata": {},
   "source": [
    "## Exercise 1 (Total recall?)"
   ]
  },
  {
   "cell_type": "markdown",
   "id": "dea25761",
   "metadata": {},
   "source": [
    "print()  \n",
    "if: else:  \n",
    "=, == _(= is to assign, == is to check)_  \n",
    "import  \n",
    ". _indicates ownership_  \n",
    "sqrt()  \n",
    "(space) and (tab) _(indentations)_  \n",
    "\n",
    "_# Comments_  \n",
    "_'' or \"\" for variables_  \n",
    "_() for functions/math, [] for lists, {} for dictionaries_  \n",
    "_'':'' key-value identification_  \n",
    "_import x as y to assign alias_"
   ]
  },
  {
   "cell_type": "markdown",
   "id": "90d6e715",
   "metadata": {},
   "source": [
    "## Exercise 2 (Debug me?)"
   ]
  },
  {
   "cell_type": "code",
   "execution_count": 5,
   "id": "53fe0c7e",
   "metadata": {},
   "outputs": [
    {
     "name": "stdout",
     "output_type": "stream",
     "text": [
      "3 4 5.0\n"
     ]
    }
   ],
   "source": [
    "import numpy as np\n",
    "x, y = 3, 4\n",
    "z = np.sqrt(x**2 + y**2)\n",
    "print(x, y, z)"
   ]
  },
  {
   "cell_type": "markdown",
   "id": "a8fe053a",
   "metadata": {},
   "source": [
    "## Exercise 3 (In your own words)"
   ]
  },
  {
   "cell_type": "markdown",
   "id": "316f62ed",
   "metadata": {},
   "source": [
    "|  # | Term         | Description                                                                                        |\n",
    "|:--:|:-------------|:---------------------------------------------------------------------------------------------------|\n",
    "|  1 | Function     | An action that Python can carry out on a given argument in ().                                     |\n",
    "|  2 | Arguments    | Additional instructions or content within () for functions to be carried out.                      |\n",
    "|  3 | Comments     | Added after # to indicate the purpose of certain lines or sections of code.                        |\n",
    "|  4 | Indentations | Used by Python to differentiate sections of code depending on whether the result is true or false. |\n",
    "|  5 | Packages     | Sets of functions that can be imported to enhance Python's functionality.                          |\n",
    "|  6 | .            | Used to indicate ownership in Python, for example a function belonging to a package.               |\n",
    "|  7 | :            | Used to indicate a section of code within a function.                                              |\n",
    "|  8 | []           | Used to store a 1D list in Python.                                                                 |\n",
    "|  9 | [[[]]]       | Used to store a 3D list in Python.                                                                 |\n",
    "| 10 | {}           | Used to store information in a dictionary in Python.                                               |"
   ]
  },
  {
   "cell_type": "markdown",
   "id": "f24cfe71",
   "metadata": {},
   "source": [
    "## Exercise 4 (More than one way to divide)"
   ]
  },
  {
   "cell_type": "code",
   "execution_count": 2,
   "id": "ad60a7c5",
   "metadata": {},
   "outputs": [
    {
     "data": {
      "text/plain": [
       "2.5"
      ]
     },
     "execution_count": 2,
     "metadata": {},
     "output_type": "execute_result"
    }
   ],
   "source": [
    "5/2 # divides of the first number by the second number, then prints the quotient of the division"
   ]
  },
  {
   "cell_type": "code",
   "execution_count": 8,
   "id": "ca3c29eb",
   "metadata": {},
   "outputs": [
    {
     "data": {
      "text/plain": [
       "579"
      ]
     },
     "execution_count": 8,
     "metadata": {},
     "output_type": "execute_result"
    }
   ],
   "source": [
    "347960//600 # divides the first number by the second number, then rounds the result down to the nearest integer (floor)"
   ]
  },
  {
   "cell_type": "code",
   "execution_count": 10,
   "id": "6556211a",
   "metadata": {},
   "outputs": [
    {
     "data": {
      "text/plain": [
       "560"
      ]
     },
     "execution_count": 10,
     "metadata": {},
     "output_type": "execute_result"
    }
   ],
   "source": [
    "347960%600 # divides the first number by the second number, then prints the remainder of that division"
   ]
  }
 ],
 "metadata": {
  "kernelspec": {
   "display_name": "Python 3 (ipykernel)",
   "language": "python",
   "name": "python3"
  },
  "language_info": {
   "codemirror_mode": {
    "name": "ipython",
    "version": 3
   },
   "file_extension": ".py",
   "mimetype": "text/x-python",
   "name": "python",
   "nbconvert_exporter": "python",
   "pygments_lexer": "ipython3",
   "version": "3.11.5"
  },
  "toc": {
   "base_numbering": 1,
   "nav_menu": {},
   "number_sections": true,
   "sideBar": true,
   "skip_h1_title": false,
   "title_cell": "Table of Contents",
   "title_sidebar": "Contents",
   "toc_cell": false,
   "toc_position": {},
   "toc_section_display": true,
   "toc_window_display": false
  },
  "varInspector": {
   "cols": {
    "lenName": 16,
    "lenType": 16,
    "lenVar": 40
   },
   "kernels_config": {
    "python": {
     "delete_cmd_postfix": "",
     "delete_cmd_prefix": "del ",
     "library": "var_list.py",
     "varRefreshCmd": "print(var_dic_list())"
    },
    "r": {
     "delete_cmd_postfix": ") ",
     "delete_cmd_prefix": "rm(",
     "library": "var_list.r",
     "varRefreshCmd": "cat(var_dic_list()) "
    }
   },
   "types_to_exclude": [
    "module",
    "function",
    "builtin_function_or_method",
    "instance",
    "_Feature"
   ],
   "window_display": false
  },
  "vscode": {
   "interpreter": {
    "hash": "31f2aee4e71d21fbe5cf8b01ff0e069b9275f58929596ceb00d14d90e3e16cd6"
   }
  }
 },
 "nbformat": 4,
 "nbformat_minor": 5
}
