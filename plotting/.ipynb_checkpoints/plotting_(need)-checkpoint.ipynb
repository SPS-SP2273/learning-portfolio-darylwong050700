{
 "cells": [
  {
   "attachments": {},
   "cell_type": "markdown",
   "id": "123456",
   "metadata": {},
   "source": [
    "<div style=\"text-align:left;font-size:2em\"><span style=\"font-weight:bolder;font-size:1.25em\">SP2273 | Learning Portfolio</span><br><br><span style=\"font-weight:bold;color:darkred\">Plotting (Need)</span></div>"
   ]
  },
  {
   "attachments": {},
   "cell_type": "markdown",
   "id": "22f02f31",
   "metadata": {},
   "source": [
    "# What to expect in this chapter"
   ]
  },
  {
   "cell_type": "markdown",
   "id": "b0be4c26-0f62-4330-870a-835fe1015ece",
   "metadata": {},
   "source": [
    "plots in Python can be optimised and presented in a publication-ready format  \n",
    "`matplotlib` is the foundation package for plotting (already installed)  \n",
    "`matplotlib` is a large package with sub-packages, hence the import (below) is slightly different from the standard import syntax  \n",
    "(only the `pyplot` sub-package is imported)"
   ]
  },
  {
   "cell_type": "code",
   "execution_count": 1,
   "id": "ff15a94c-70f9-477c-b8ed-c91f7538e847",
   "metadata": {},
   "outputs": [],
   "source": [
    "from matplotlib import pyplot as plt"
   ]
  },
  {
   "attachments": {},
   "cell_type": "markdown",
   "id": "1b750abf",
   "metadata": {},
   "source": [
    "# 1 A simple plot"
   ]
  },
  {
   "attachments": {},
   "cell_type": "markdown",
   "id": "c500b614",
   "metadata": {},
   "source": [
    "## 1.1 Let’s look at some code."
   ]
  },
  {
   "cell_type": "code",
   "execution_count": 8,
   "id": "ccb5e929-7121-4991-b220-9ede8107ea0f",
   "metadata": {},
   "outputs": [
    {
     "data": {
      "text/plain": [
       "<matplotlib.legend.Legend at 0x2b11a80ff50>"
      ]
     },
     "execution_count": 8,
     "metadata": {},
     "output_type": "execute_result"
    },
    {
     "data": {
      "image/png": "[encoded data removed]",
      "text/plain": [
       "<Figure size 640x480 with 1 Axes>"
      ]
     },
     "metadata": {},
     "output_type": "display_data"
    }
   ],
   "source": [
    "# Some data for plotting\n",
    "x = [0, 1, 2, 3, 4, 5, 6]\n",
    "y_1 = [0, 2, 4, 6, 8, 10, 12]\n",
    "y_2 = [0, 3, 6, 9, 12, 15, 18]\n",
    "\n",
    "# Let's start plotting\n",
    "plt.plot(x, y_1, label='Y values',\n",
    "         color='red', linestyle='dashed') # input the x and y variables and the line name, colour, and style\n",
    "plt.xlabel('x-values') # label the x axis as the argument\n",
    "plt.ylabel('y-values') # label the y axis as the argument\n",
    "plt.title('X vs Y') # label the overall plot as the argument\n",
    "plt.grid(alpha=0.5) # needs to be invoked/defined to have a grid for the graph\n",
    "plt.legend(loc='upper left') # needs to be invoked/defined to have a legend for the graph"
   ]
  },
  {
   "cell_type": "markdown",
   "id": "522933b1-fd4b-4c7b-a4eb-4c026d1d9a4f",
   "metadata": {},
   "source": [
    "any aspect of the above code can be customised:\n",
    "- removing `plt.grid()` removes the grid\n",
    "    - modifying the `alpha` argument affects the transparency of the grid (possible values 0 to 1 inclusive)\n",
    "- removing `plt.legend()` removes the legend\n",
    "    - if no `loc` argument is defined to set its position, it will be set to `'upper left'` by default\n",
    "- `plt.plot()` arguments can be modified\n",
    "    - `linestyle` abbreviated as `ls` is solid by default but can be modified\n",
    "        - dashed lines `--`\n",
    "    - `color` abbreviated as `c` is red (`r`) by default but can be modified\n",
    "        - consider color selection based on context e.g. presentation vs publication, consider colour blindness, associations etc.\n",
    "        - [color brewer website](https://colorbrewer2.org/#type=sequential&scheme=BuGn&n=3) can be used to select compatible colours\n",
    "    - `linewidth` abbreviated as `lw` can also be modified to change the line width\n",
    "    - `label` is used to label the plotted line and will show up when `plt.legend()` is used  \n",
    "\n",
    "breaking each argument into a separate line can improve readability while preserving functionality"
   ]
  },
  {
   "attachments": {},
   "cell_type": "markdown",
   "id": "30bdd73a",
   "metadata": {},
   "source": [
    "### Things to note"
   ]
  },
  {
   "cell_type": "markdown",
   "id": "0adec5fc-da17-4934-8e12-2a50d74daa53",
   "metadata": {},
   "source": [
    "as an interactive environment, Jupyter Notebook will show the plot even if `plt.show()` is omitted.  \n",
    "however, if it isn't omitted, non-interactive developer environments (e.g. command terminal, Miniconda) will not show the resulting plot without `plt.show()`.  \n",
    "if the script is run in one of these non-interactive environments with `plt.show()`, it will show the plot in a separate window which allows customisation of the plot itself.  "
   ]
  },
  {
   "attachments": {},
   "cell_type": "markdown",
   "id": "d121b545",
   "metadata": {},
   "source": [
    "## 1.2 Adding another plot"
   ]
  },
  {
   "attachments": {},
   "cell_type": "markdown",
   "id": "60b5820e",
   "metadata": {},
   "source": [
    "## 1.3 Yet another plot but with error bars"
   ]
  },
  {
   "cell_type": "markdown",
   "id": "168fb3ff-3fbd-48e8-ae31-556f766e214c",
   "metadata": {},
   "source": [
    "error bars to a plotted line can be plotted with `plt.errorbar()` with the following arguments:\n",
    "- x variables\n",
    "- y variables\n",
    "- `xerr` represents the error for x variables, which can be a fixed value or a list with each entry corresponding to the variable with the same index\n",
    "- `yerr` is similar to `xerr` but for y variables\n",
    "- `label` and `color` similar to regular plots can be determined"
   ]
  },
  {
   "attachments": {},
   "cell_type": "markdown",
   "id": "ec34d192",
   "metadata": {},
   "source": [
    "# 2 Better with NumPy"
   ]
  },
  {
   "attachments": {},
   "cell_type": "markdown",
   "id": "7020452b",
   "metadata": {},
   "source": [
    "## 2.1 Adding mathematical functions"
   ]
  },
  {
   "cell_type": "markdown",
   "id": "9a3d3f62-8fc7-443d-b6ee-3243848efe0e",
   "metadata": {},
   "source": [
    "`numpy` can be included to plot data from arrays, but a key advantage is that functions/operations can be performed on each of the variables in the array  \n",
    "the functions from `numpy` are unique and optimised for the other operations within their packges  \n",
    "data handling and clear plotting is important"
   ]
  },
  {
   "attachments": {},
   "cell_type": "markdown",
   "id": "b597677b",
   "metadata": {},
   "source": [
    "## We need another axis!"
   ]
  },
  {
   "attachments": {},
   "cell_type": "markdown",
   "id": "106cb674",
   "metadata": {},
   "source": [
    "### Things to note"
   ]
  },
  {
   "cell_type": "code",
   "execution_count": null,
   "id": "bf885547",
   "metadata": {},
   "outputs": [],
   "source": [
    "\n",
    "# Your code here\n"
   ]
  },
  {
   "attachments": {},
   "cell_type": "markdown",
   "id": "d444fc60",
   "metadata": {},
   "source": [
    "# 3 Saving to disc"
   ]
  },
  {
   "cell_type": "markdown",
   "id": "f62d4ed5-4712-4eb3-9ff7-9730d6105b28",
   "metadata": {},
   "source": [
    "plots can also be saved using `plt.savefig(filename)` to save the file into the same directory as the notebook\n",
    "- `filename`: name of the file (as a string), incluing the extension with the desired filetype (.png, .jpg, .pdf etc.)\n",
    "    - recall vector formats like PDF are rendered using mathematical formulas instead of individual pixels/dots\n",
    "    - the filepath can be defined within `filename` as well\n",
    "    - markdown-supported files/presentation formats that use these outputs are automatically updated with updated outputs from these functions\n",
    "- `dpi`: additional argument for images where the DPI of the image can be specified (defining resolution)\n",
    "- `transparent`: additional argument for transparency-supported formats to define True/False transparency"
   ]
  },
  {
   "attachments": {},
   "cell_type": "markdown",
   "id": "5ac2d4c6",
   "metadata": {},
   "source": [
    "# 4 A real example: Global Warming"
   ]
  },
  {
   "attachments": {},
   "cell_type": "markdown",
   "id": "edc970fe",
   "metadata": {},
   "source": [
    "## 4.1 Plotting data from files"
   ]
  },
  {
   "cell_type": "markdown",
   "id": "dba2fce5-5b01-4078-a267-75f9ece35796",
   "metadata": {},
   "source": [
    "look at the data file to examine its data structure for any abnormalities (e.g. headers)  \n",
    "- e.g. if there are headers, `skiprows` can be used to skip a certain number of lines\n",
    "\n",
    "data from text files (in columns) can be imported using `np.loadtxt()` with the filename as the argument  \n",
    "x and y variables can then be set to the resulting array using indexing\n",
    "- `[:,0]` (for all values in first element in each array entry)\n",
    "- `[:,1]` (for second element)\n",
    "- etc."
   ]
  },
  {
   "attachments": {},
   "cell_type": "markdown",
   "id": "6b83b779",
   "metadata": {},
   "source": [
    "## 4.2 Styles"
   ]
  },
  {
   "attachments": {},
   "cell_type": "markdown",
   "id": "8a158c74",
   "metadata": {},
   "source": [
    "### xkcd!"
   ]
  },
  {
   "cell_type": "code",
   "execution_count": null,
   "id": "54f1b905",
   "metadata": {},
   "outputs": [],
   "source": [
    "\n",
    "# Your code here\n"
   ]
  },
  {
   "attachments": {},
   "cell_type": "markdown",
   "id": "bc2037cf",
   "metadata": {},
   "source": [
    "### Resetting styles"
   ]
  },
  {
   "cell_type": "markdown",
   "id": "bd9564b3-a352-4664-a1ef-3716bedc4140",
   "metadata": {},
   "source": [
    "styles set at the start will apply to all subsequent plots  \n",
    "to reset it, the default style must be enabled with `plt.style.use(default)`"
   ]
  }
 ],
 "metadata": {
  "kernelspec": {
   "display_name": "Python 3 (ipykernel)",
   "language": "python",
   "name": "python3"
  },
  "language_info": {
   "codemirror_mode": {
    "name": "ipython",
    "version": 3
   },
   "file_extension": ".py",
   "mimetype": "text/x-python",
   "name": "python",
   "nbconvert_exporter": "python",
   "pygments_lexer": "ipython3",
   "version": "3.11.5"
  },
  "toc": {
   "base_numbering": 1,
   "nav_menu": {},
   "number_sections": true,
   "sideBar": true,
   "skip_h1_title": false,
   "title_cell": "Table of Contents",
   "title_sidebar": "Contents",
   "toc_cell": false,
   "toc_position": {},
   "toc_section_display": true,
   "toc_window_display": false
  },
  "vscode": {
   "interpreter": {
    "hash": "31f2aee4e71d21fbe5cf8b01ff0e069b9275f58929596ceb00d14d90e3e16cd6"
   }
  }
 },
 "nbformat": 4,
 "nbformat_minor": 5
}
