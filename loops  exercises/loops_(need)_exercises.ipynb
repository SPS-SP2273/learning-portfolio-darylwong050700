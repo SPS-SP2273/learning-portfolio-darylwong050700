{
 "cells": [
  {
   "attachments": {},
   "cell_type": "markdown",
   "id": "123456",
   "metadata": {},
   "source": [
    "<div style=\"text-align:left;font-size:2em\"><span style=\"font-weight:bolder;font-size:1.25em\">SP2273 | Learning Portfolio</span><br><br><span style=\"font-weight:bold;color:darkred\">Loops (Need) Exercises</span></div>"
   ]
  },
  {
   "cell_type": "markdown",
   "id": "6469f12d-46bf-4e6f-842f-ecf68e26a2ed",
   "metadata": {},
   "source": [
    "## Exercise 1 (Celsius to Fahrenheit)"
   ]
  },
  {
   "cell_type": "code",
   "execution_count": 7,
   "id": "633de2a4-3615-4e54-8783-d0eaa115ff3e",
   "metadata": {},
   "outputs": [
    {
     "name": "stdout",
     "output_type": "stream",
     "text": [
      "0 degrees in Celsius is 32 degrees in Fahrenheit.\n",
      "5 degrees in Celsius is 41 degrees in Fahrenheit.\n",
      "10 degrees in Celsius is 50 degrees in Fahrenheit.\n",
      "15 degrees in Celsius is 59 degrees in Fahrenheit.\n",
      "20 degrees in Celsius is 68 degrees in Fahrenheit.\n",
      "25 degrees in Celsius is 77 degrees in Fahrenheit.\n",
      "30 degrees in Celsius is 86 degrees in Fahrenheit.\n",
      "35 degrees in Celsius is 95 degrees in Fahrenheit.\n",
      "40 degrees in Celsius is 104 degrees in Fahrenheit.\n",
      "45 degrees in Celsius is 113 degrees in Fahrenheit.\n",
      "50 degrees in Celsius is 122 degrees in Fahrenheit.\n"
     ]
    }
   ],
   "source": [
    "temperatures_celsius = [\n",
    "    0, 5, 10, 15, 20, 25,\n",
    "    30, 35, 40, 45, 50\n",
    "]\n",
    "for temp_c in temperatures_celsius:\n",
    "    temp_f=(temp_c * 1.8)+32\n",
    "    print(f\"{temp_c} degrees in Celsius is {temp_f:.0f} degrees in Fahrenheit.\")"
   ]
  },
  {
   "cell_type": "markdown",
   "id": "e253e60e-aae9-4f5c-96f0-e56fbb5818ec",
   "metadata": {},
   "source": [
    "## Exercise 2 (Multiplication table)"
   ]
  },
  {
   "cell_type": "code",
   "execution_count": 9,
   "id": "3f0a58cd-4e82-4a45-b187-81b31457a231",
   "metadata": {},
   "outputs": [
    {
     "name": "stdout",
     "output_type": "stream",
     "text": [
      "A1\tA2\tA3\t\n",
      "\n",
      "B1\tB2\tB3\t\n",
      "\n",
      "C1\tC2\tC3\t\n",
      "\n"
     ]
    }
   ],
   "source": [
    "for letter in ['A', 'B', 'C']: # loops once per letter\n",
    "    for number in [1, 2, 3]: # loops once per number\n",
    "        print(f'{letter}{number}', end='\\t') # prints 1,2,3 for each letter A,B,C , separated by a tab space for each number\n",
    "    print('\\n') # line break for each alphabet"
   ]
  },
  {
   "cell_type": "code",
   "execution_count": 4,
   "id": "79384604-7d65-44f0-afbf-f92842f3e72b",
   "metadata": {},
   "outputs": [
    {
     "name": "stdout",
     "output_type": "stream",
     "text": [
      "1 : 1\t2\t3\t4\t5\t\n",
      "2 : 2\t4\t6\t8\t10\t\n",
      "3 : 3\t6\t9\t12\t15\t\n",
      "4 : 4\t8\t12\t16\t20\t\n",
      "5 : 5\t10\t15\t20\t25\t\n"
     ]
    }
   ],
   "source": [
    "list=[1,2,3,4,5]\n",
    "for count, number in enumerate(list,1):\n",
    "    # print(f\"{count} : \", end=\"\")\n",
    "    for number2 in list:\n",
    "        multiple=number*number2\n",
    "        if number2 == 1:\n",
    "            print(f\"{count} : {multiple}\", end='\\t')\n",
    "        else:\n",
    "            print(multiple, end='\\t')\n",
    "    print(end='\\n')"
   ]
  },
  {
   "cell_type": "markdown",
   "id": "22da83e0-d6ae-4132-8c86-32e98cfc65fb",
   "metadata": {},
   "source": [
    "tried an alternative by putting the code in line 3 in the first loop to print at the start of each line  \n",
    "while keeping the rest of the multiples in line"
   ]
  },
  {
   "cell_type": "code",
   "execution_count": 1,
   "id": "dd17ed3d-3222-4c94-95a7-0d4068225d53",
   "metadata": {},
   "outputs": [
    {
     "name": "stdout",
     "output_type": "stream",
     "text": [
      "1 : 2\t4\t6\t8\t10\t\n",
      "2 : 4\t8\t12\t16\t20\t\n",
      "3 : 6\t12\t18\t24\t30\t\n",
      "4 : 8\t16\t24\t32\t40\t\n",
      "5 : 10\t20\t30\t40\t50\t\n"
     ]
    }
   ],
   "source": [
    "list=[2,4,6,8,10]\n",
    "for count, number in enumerate(list,1):\n",
    "    print(f\"{count} : \", end=\"\")\n",
    "    for number in list:\n",
    "        product=count*number\n",
    "        print(product, end='\\t')\n",
    "    print(end='\\n')"
   ]
  }
 ],
 "metadata": {
  "kernelspec": {
   "display_name": "Python 3 (ipykernel)",
   "language": "python",
   "name": "python3"
  },
  "language_info": {
   "codemirror_mode": {
    "name": "ipython",
    "version": 3
   },
   "file_extension": ".py",
   "mimetype": "text/x-python",
   "name": "python",
   "nbconvert_exporter": "python",
   "pygments_lexer": "ipython3",
   "version": "3.11.5"
  },
  "toc": {
   "base_numbering": 1,
   "nav_menu": {},
   "number_sections": true,
   "sideBar": true,
   "skip_h1_title": false,
   "title_cell": "Table of Contents",
   "title_sidebar": "Contents",
   "toc_cell": false,
   "toc_position": {},
   "toc_section_display": true,
   "toc_window_display": false
  },
  "vscode": {
   "interpreter": {
    "hash": "31f2aee4e71d21fbe5cf8b01ff0e069b9275f58929596ceb00d14d90e3e16cd6"
   }
  }
 },
 "nbformat": 4,
 "nbformat_minor": 5
}
