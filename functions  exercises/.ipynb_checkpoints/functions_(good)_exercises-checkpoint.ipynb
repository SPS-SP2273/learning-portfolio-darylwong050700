{
 "cells": [
  {
   "attachments": {},
   "cell_type": "markdown",
   "id": "123456",
   "metadata": {},
   "source": [
    "<div style=\"text-align:left;font-size:2em\"><span style=\"font-weight:bolder;font-size:1.25em\">SP2273 | Learning Portfolio</span><br><br><span style=\"font-weight:bold;color:darkred\">Functions (Good) Exercises</span></div>"
   ]
  },
  {
   "cell_type": "markdown",
   "id": "254b40c2-aa6b-46f6-9290-5f93e2dbbf37",
   "metadata": {},
   "source": [
    "## Exercise 1 (Celsius to Fahrenheit or Kelvin)"
   ]
  },
  {
   "cell_type": "code",
   "execution_count": 24,
   "id": "6d806809-f8d1-4f4c-a12b-e500a7b741d0",
   "metadata": {},
   "outputs": [
    {
     "data": {
      "text/plain": [
       "'298.15'"
      ]
     },
     "execution_count": 24,
     "metadata": {},
     "output_type": "execute_result"
    }
   ],
   "source": [
    "def convert_celsius(temperature_celsius, target_scale='fahrenheit'):\n",
    "    try:\n",
    "        temperature_celsius=float(temperature_celsius)\n",
    "        if target_scale.lower() == 'fahrenheit':\n",
    "            return f'{((temperature_celsius*1.8)+32):.2f}'\n",
    "        elif target_scale.lower() == 'kelvin':\n",
    "            return f'{(temperature_celsius+273.15):.2f}'\n",
    "        else:\n",
    "            return 'Did you key in a scale?'\n",
    "    except:\n",
    "        return 'Did you key in a numerical temperature?'\n",
    "\n",
    "convert_celsius(25,'kelvin')"
   ]
  },
  {
   "cell_type": "markdown",
   "id": "02a93426-d7ef-46d0-a5be-c8ba7f7c34ae",
   "metadata": {},
   "source": [
    "## Exercise 2 (Fahrenheit to Celsius or Kelvin)"
   ]
  },
  {
   "cell_type": "code",
   "execution_count": 39,
   "id": "1f8b75a6-47bd-4a9d-a3e5-cd74cd6ec3a8",
   "metadata": {},
   "outputs": [
    {
     "data": {
      "text/plain": [
       "'37.06'"
      ]
     },
     "execution_count": 39,
     "metadata": {},
     "output_type": "execute_result"
    }
   ],
   "source": [
    "def convert_fahrenheit(temperature_fahrenheit, target_scale='celsius'):\n",
    "    try:\n",
    "        temperature_fahrenheit=float(temperature_fahrenheit)\n",
    "        if target_scale.lower() == 'celsius':\n",
    "            return f'{((temperature_fahrenheit-32)*(5/9)):.2f}'\n",
    "        elif target_scale.lower() == 'kelvin':\n",
    "            return f'{(((temperature_fahrenheit-32)*(5/9))+273.15):.2f}'\n",
    "        else:\n",
    "            return 'Did you key in a scale?'\n",
    "    except:\n",
    "        return 'Did you key in a numerical temperature?'\n",
    "\n",
    "convert_fahrenheit(98.7)"
   ]
  },
  {
   "cell_type": "markdown",
   "id": "480c3f3e-9ab4-4bfb-b3cf-f73a06d7879e",
   "metadata": {},
   "source": [
    "## Exercise 3 (General Temperature Conversion)"
   ]
  },
  {
   "cell_type": "code",
   "execution_count": 41,
   "id": "fc87428c-27cf-493e-a17a-5ce928af83fc",
   "metadata": {},
   "outputs": [
    {
     "data": {
      "text/plain": [
       "'287.08'"
      ]
     },
     "execution_count": 41,
     "metadata": {},
     "output_type": "execute_result"
    }
   ],
   "source": [
    "def convert_temperatures(temperature, source_scale, target_scale): \n",
    "    try:\n",
    "        temperature=float(temperature)\n",
    "        \n",
    "        if source_scale.lower() == 'celsius':\n",
    "            if target_scale.lower() == 'fahrenheit':\n",
    "                return convert_celsius(temperature)\n",
    "            elif target_scale.lower() == 'kelvin':\n",
    "                return convert_celsius(temperature, 'kelvin')\n",
    "            else:\n",
    "                return 'Did you key in a valid target scale?'\n",
    "                \n",
    "        elif source_scale.lower() == 'fahrenheit':\n",
    "            if target_scale.lower() == 'celsius':\n",
    "                return convert_fahrenheit(temperature)\n",
    "            elif target_scale.lower() == 'kelvin':\n",
    "                return convert_fahrenheit(temperature, 'kelvin')\n",
    "            else:\n",
    "                return 'Did you key in a valid target scale?'\n",
    "                    \n",
    "        elif source_scale.lower() == 'kelvin':\n",
    "            if target_scale.lower() == 'celsius':\n",
    "                return f'{(temperature-273.15):.2f}'\n",
    "            elif target_scale.lower() == 'fahrenheit':\n",
    "                return f'{(((temperature-273.15)*(9.5))+32):.2f}'\n",
    "            else:\n",
    "                return 'Did you key in a valid target scale?'\n",
    "        else:\n",
    "            return 'Did you key in a valid source scale?'\n",
    "\n",
    "    except:\n",
    "        return 'Did you key in a numerical temperature?'\n",
    "\n",
    "convert_temperatures(300,source_scale='kelvin', target_scale='fahrenheit')"
   ]
  },
  {
   "cell_type": "markdown",
   "id": "446ce312-d83d-4e35-b8d7-5ffb38f6af83",
   "metadata": {},
   "source": [
    "I keep getting Python's TypeError for missing positional arguments if I enter less than 3 arguments in convert_temperatures. Is there a way to make it return a custom error message when that happens?"
   ]
  }
 ],
 "metadata": {
  "kernelspec": {
   "display_name": "Python 3 (ipykernel)",
   "language": "python",
   "name": "python3"
  },
  "language_info": {
   "codemirror_mode": {
    "name": "ipython",
    "version": 3
   },
   "file_extension": ".py",
   "mimetype": "text/x-python",
   "name": "python",
   "nbconvert_exporter": "python",
   "pygments_lexer": "ipython3",
   "version": "3.11.5"
  },
  "toc": {
   "base_numbering": 1,
   "nav_menu": {},
   "number_sections": true,
   "sideBar": true,
   "skip_h1_title": false,
   "title_cell": "Table of Contents",
   "title_sidebar": "Contents",
   "toc_cell": false,
   "toc_position": {},
   "toc_section_display": true,
   "toc_window_display": false
  },
  "vscode": {
   "interpreter": {
    "hash": "31f2aee4e71d21fbe5cf8b01ff0e069b9275f58929596ceb00d14d90e3e16cd6"
   }
  }
 },
 "nbformat": 4,
 "nbformat_minor": 5
}
