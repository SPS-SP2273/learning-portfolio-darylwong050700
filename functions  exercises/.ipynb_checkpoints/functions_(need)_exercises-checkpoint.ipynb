{
 "cells": [
  {
   "attachments": {},
   "cell_type": "markdown",
   "id": "123456",
   "metadata": {},
   "source": [
    "<div style=\"text-align:left;font-size:2em\"><span style=\"font-weight:bolder;font-size:1.25em\">SP2273 | Learning Portfolio</span><br><br><span style=\"font-weight:bold;color:darkred\">Functions (Need) Exercises</span></div>"
   ]
  },
  {
   "cell_type": "markdown",
   "id": "07d7c758-5002-4265-b3b5-a00045e97513",
   "metadata": {},
   "source": [
    "## Exercise 1 (Do you know why?)"
   ]
  },
  {
   "cell_type": "markdown",
   "id": "1430dd76-056d-4888-a015-41e65708b5e9",
   "metadata": {},
   "source": [
    "This is because functions in Python can only return once, and terminate upon encountering the first return statement in the code.  \n",
    "In the example, entering \"Batman\" as the argument input will execute the code block in the `if` condition, reaching the `return` line and ending.  \n",
    "On the other hand, entering any other argument input will execute the other `return` statement in the function."
   ]
  },
  {
   "cell_type": "markdown",
   "id": "c0b3ed14-75c6-45bc-9656-a9541ed8e708",
   "metadata": {},
   "source": [
    "## Exercise 2 (Chubby or not)"
   ]
  },
  {
   "cell_type": "code",
   "execution_count": 1,
   "id": "904590d8-caba-4431-8e17-d769e5cab49c",
   "metadata": {},
   "outputs": [
    {
     "data": {
      "text/plain": [
       "\"You're underweight.\""
      ]
     },
     "execution_count": 1,
     "metadata": {},
     "output_type": "execute_result"
    }
   ],
   "source": [
    "def calculate_bmi(weight, height):\n",
    "    try:\n",
    "        bmi=weight/(height**2)\n",
    "        if bmi<18.5:\n",
    "            return 'You\\'re underweight.'\n",
    "        elif 18.5<=bmi<=24.9:\n",
    "            return 'You\\'re normal weight.'\n",
    "        elif 25.0<=bmi<=29.9:\n",
    "            return 'You\\'re overweight.'\n",
    "        elif bmi>30.0:\n",
    "            return 'You\\'re obese.'\n",
    "    except:\n",
    "        return 'Please enter the correct height and weight.'\n",
    "\n",
    "calculate_bmi(38.896,1.45)"
   ]
  }
 ],
 "metadata": {
  "kernelspec": {
   "display_name": "Python 3 (ipykernel)",
   "language": "python",
   "name": "python3"
  },
  "language_info": {
   "codemirror_mode": {
    "name": "ipython",
    "version": 3
   },
   "file_extension": ".py",
   "mimetype": "text/x-python",
   "name": "python",
   "nbconvert_exporter": "python",
   "pygments_lexer": "ipython3",
   "version": "3.11.5"
  },
  "toc": {
   "base_numbering": 1,
   "nav_menu": {},
   "number_sections": true,
   "sideBar": true,
   "skip_h1_title": false,
   "title_cell": "Table of Contents",
   "title_sidebar": "Contents",
   "toc_cell": false,
   "toc_position": {},
   "toc_section_display": true,
   "toc_window_display": false
  },
  "vscode": {
   "interpreter": {
    "hash": "31f2aee4e71d21fbe5cf8b01ff0e069b9275f58929596ceb00d14d90e3e16cd6"
   }
  }
 },
 "nbformat": 4,
 "nbformat_minor": 5
}
