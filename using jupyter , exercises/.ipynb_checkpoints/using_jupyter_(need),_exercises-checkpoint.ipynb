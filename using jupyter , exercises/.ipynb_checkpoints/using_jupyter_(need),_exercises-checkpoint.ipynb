{
 "cells": [
  {
   "cell_type": "markdown",
   "id": "123456",
   "metadata": {},
   "source": [
    "<div style=\"text-align:left;font-size:2em\"><span style=\"font-weight:bolder;font-size:1.25em\">SP2273 | Learning Portfolio</span><br><br><span style=\"font-weight:bold;color:darkred\">Using Jupyter (Need), Exercises</span></div>"
   ]
  },
  {
   "cell_type": "markdown",
   "id": "55c09f7d",
   "metadata": {},
   "source": [
    "## Quadratic Equations"
   ]
  },
  {
   "cell_type": "markdown",
   "id": "29e21484",
   "metadata": {},
   "source": [
    "### Introduction"
   ]
  },
  {
   "cell_type": "markdown",
   "id": "6c042d7f",
   "metadata": {},
   "source": [
    "![](https://upload.wikimedia.org/wikipedia/commons/thumb/f/f8/Polynomialdeg2.svg/300px-Polynomialdeg2.svg.png)\n",
    "_(Image from the [Wikipedia page on Quadratic Equations](https://en.wikipedia.org/wiki/Quadratic_equation))_\n",
    "\n",
    "The general form of a quadratic equation is:"
   ]
  },
  {
   "cell_type": "markdown",
   "id": "e9e0550b",
   "metadata": {},
   "source": [
    "$$\n",
    "ax^2+bx+c=0\n",
    "$$"
   ]
  },
  {
   "cell_type": "markdown",
   "id": "ad0e0c3a",
   "metadata": {},
   "source": [
    "### Solutions"
   ]
  },
  {
   "cell_type": "markdown",
   "id": "ad97173f",
   "metadata": {},
   "source": [
    " Provided $a \\ne 0$, we can use an elementary algebraic method called [completing the square](https://en.wikipedia.org/wiki/Completing_the_square) to show that a quadratic equation has the following solution:\n",
    " \n",
    " $$\n",
    " x = \\dfrac{-b \\pm \\sqrt{b^2 - 4ac}}{2a}\n",
    " $$"
   ]
  },
  {
   "cell_type": "markdown",
   "id": "e8e5922f",
   "metadata": {},
   "source": [
    "### Discriminant"
   ]
  },
  {
   "cell_type": "markdown",
   "id": "a557eece",
   "metadata": {},
   "source": [
    "The quantity $\\Delta = b^2 - 4ac$ is called the **discriminant** of the equation and decides the nature of its solutions. The table below shows the various possibilities.\n",
    "\n",
    "|      Discriminant      | Roots                                |\n",
    "|:----------------------:|:-------------------------------------|\n",
    "|$$ \\Delta=b^2-4ac=0 $$  | A single solution of $-b/(2a)$       |\n",
    "|$$ \\Delta=b^2-4ac\\gt0 $$| Two distinct solutions               |\n",
    "|$$ \\Delta=b^2-4ac\\lt0 $$| No real solutions; both are complex. |"
   ]
  },
  {
   "cell_type": "markdown",
   "id": "debb8a0e",
   "metadata": {},
   "source": [
    "## Exercise 2"
   ]
  },
  {
   "cell_type": "markdown",
   "id": "daf1439e",
   "metadata": {},
   "source": [
    "1. A Git **repository** is a central folder that contains all folders and files for a certain coder's project or class.\n",
    "2. Git keeps track of all commit histories of the files in our repository.\n",
    "3. A **commit** is a series of confirmed edits made to a shared file in the Git repository.\n",
    "4. A **push** is an action to upload the local version of a file to the Git repository.\n",
    "5. A **pull** is an action to download the repository version of a file to a local desktop.\n",
    "6. **GitHub** is the online platform where repositories and files can be shared and accessed, while **GitHub Desktop** is an application that helps users work on projects from GitHub on their local desktop by allowing them to commit, push, and pull files from the GitHub platform."
   ]
  }
 ],
 "metadata": {
  "kernelspec": {
   "display_name": "Python 3 (ipykernel)",
   "language": "python",
   "name": "python3"
  },
  "language_info": {
   "codemirror_mode": {
    "name": "ipython",
    "version": 3
   },
   "file_extension": ".py",
   "mimetype": "text/x-python",
   "name": "python",
   "nbconvert_exporter": "python",
   "pygments_lexer": "ipython3",
   "version": "3.11.5"
  },
  "toc": {
   "base_numbering": 1,
   "nav_menu": {},
   "number_sections": true,
   "sideBar": true,
   "skip_h1_title": false,
   "title_cell": "Table of Contents",
   "title_sidebar": "Contents",
   "toc_cell": false,
   "toc_position": {},
   "toc_section_display": true,
   "toc_window_display": false
  },
  "varInspector": {
   "cols": {
    "lenName": 16,
    "lenType": 16,
    "lenVar": 40
   },
   "kernels_config": {
    "python": {
     "delete_cmd_postfix": "",
     "delete_cmd_prefix": "del ",
     "library": "var_list.py",
     "varRefreshCmd": "print(var_dic_list())"
    },
    "r": {
     "delete_cmd_postfix": ") ",
     "delete_cmd_prefix": "rm(",
     "library": "var_list.r",
     "varRefreshCmd": "cat(var_dic_list()) "
    }
   },
   "types_to_exclude": [
    "module",
    "function",
    "builtin_function_or_method",
    "instance",
    "_Feature"
   ],
   "window_display": false
  },
  "vscode": {
   "interpreter": {
    "hash": "31f2aee4e71d21fbe5cf8b01ff0e069b9275f58929596ceb00d14d90e3e16cd6"
   }
  }
 },
 "nbformat": 4,
 "nbformat_minor": 5
}
