{
 "cells": [
  {
   "cell_type": "markdown",
   "id": "123456",
   "metadata": {},
   "source": [
    "<div style=\"text-align:left;font-size:2em\"><span style=\"font-weight:bolder;font-size:1.25em\">SP2273 | Learning Portfolio</span><br><br><span style=\"font-weight:bold;color:darkred\">Using Jupyter (Good)</span></div>"
   ]
  },
  {
   "cell_type": "markdown",
   "id": "a8376dc5",
   "metadata": {},
   "source": [
    "# What to expect in this chapter"
   ]
  },
  {
   "cell_type": "markdown",
   "id": "0ee8771d",
   "metadata": {},
   "source": [
    "# 1 Some tips and tricks"
   ]
  },
  {
   "cell_type": "markdown",
   "id": "45123ae5",
   "metadata": {},
   "source": [
    "## 1.1 Keyboard Shortcuts"
   ]
  },
  {
   "cell_type": "markdown",
   "id": "d7bce96e-3d39-4a25-a5cd-13f64007426a",
   "metadata": {},
   "source": [
    "Alt-enter runs and creates a new cell :)\n",
    "\n",
    "Alt-enter runs and creates a new cell :)"
   ]
  },
  {
   "cell_type": "markdown",
   "id": "c2009ffc-e059-4fd1-b609-4cdaba4912c2",
   "metadata": {},
   "source": [
    "Alt-enter runs and creates a new cell :)\n",
    "\n",
    "Alt-enter runs and creates a new cell :)"
   ]
  },
  {
   "cell_type": "markdown",
   "id": "adc17b4f",
   "metadata": {},
   "source": [
    "### Things to note"
   ]
  },
  {
   "cell_type": "code",
   "execution_count": null,
   "id": "2ea630b0",
   "metadata": {},
   "outputs": [],
   "source": [
    "\n",
    "# Your code here\n"
   ]
  },
  {
   "cell_type": "markdown",
   "id": "920a677e",
   "metadata": {},
   "source": [
    "## 1.2 Shell commands"
   ]
  },
  {
   "cell_type": "code",
   "execution_count": 2,
   "id": "feec9753-2bc6-44c9-995b-422972cd8a19",
   "metadata": {},
   "outputs": [
    {
     "name": "stdout",
     "output_type": "stream",
     "text": [
      "C:\\Users\\Daryl\\OneDrive\\Uni Official Stuff\\SP2273 Working on Interdisciplinary Science Pythonically\\Learning Portfolio\\learning-portfolio-darylwong050700\\using jupyter\n"
     ]
    }
   ],
   "source": [
    "!cd"
   ]
  },
  {
   "cell_type": "code",
   "execution_count": 3,
   "id": "1faf0b52-2b22-49bb-a6f3-a8ca9c15f00a",
   "metadata": {},
   "outputs": [
    {
     "name": "stdout",
     "output_type": "stream",
     "text": [
      " Volume in drive C is OS\n",
      " Volume Serial Number is 1E90-B7B5\n",
      "\n",
      " Directory of C:\\Users\\Daryl\\OneDrive\\Uni Official Stuff\\SP2273 Working on Interdisciplinary Science Pythonically\\Learning Portfolio\\learning-portfolio-darylwong050700\\using jupyter\n",
      "\n",
      "19/01/2024  05:04 pm    <DIR>          .\n",
      "17/01/2024  09:56 am    <DIR>          ..\n",
      "19/01/2024  05:00 pm    <DIR>          .ipynb_checkpoints\n",
      "19/01/2024  05:01 pm               859 using-jupyter_need.ipynb\n",
      "19/01/2024  05:04 pm             3,539 using_jupyter_(good).ipynb\n",
      "19/01/2024  05:00 pm             7,808 using_jupyter_(need).ipynb\n",
      "               3 File(s)         12,206 bytes\n",
      "               3 Dir(s)  394,320,596,992 bytes free\n"
     ]
    }
   ],
   "source": [
    "!dir"
   ]
  },
  {
   "cell_type": "markdown",
   "id": "e2726555",
   "metadata": {},
   "source": [
    "# 2 Jupyter Extensions"
   ]
  },
  {
   "cell_type": "markdown",
   "id": "60550912",
   "metadata": {},
   "source": [
    "## 2.1 Installing the extensions"
   ]
  },
  {
   "cell_type": "markdown",
   "id": "623d013b",
   "metadata": {},
   "source": [
    "## 2.2 Enabling the extensions"
   ]
  },
  {
   "cell_type": "markdown",
   "id": "9d262304",
   "metadata": {},
   "source": [
    "# 3 Shell Magic"
   ]
  },
  {
   "cell_type": "code",
   "execution_count": 1,
   "id": "d9f3361c",
   "metadata": {},
   "outputs": [
    {
     "name": "stdout",
     "output_type": "stream",
     "text": [
      "27.7 ns ± 1.2 ns per loop (mean ± std. dev. of 7 runs, 10,000,000 loops each)\n"
     ]
    }
   ],
   "source": [
    "%timeit x=10"
   ]
  },
  {
   "cell_type": "code",
   "execution_count": 3,
   "id": "8f99cf1c",
   "metadata": {},
   "outputs": [
    {
     "name": "stdout",
     "output_type": "stream",
     "text": [
      "50.7 ns ± 1.48 ns per loop (mean ± std. dev. of 7 runs, 10,000,000 loops each)\n"
     ]
    }
   ],
   "source": [
    "%%timeit\n",
    "x=10\n",
    "y=20\n",
    "z=30"
   ]
  },
  {
   "cell_type": "markdown",
   "id": "af3e9f4c",
   "metadata": {},
   "source": [
    "# 4 The Kernel"
   ]
  },
  {
   "cell_type": "markdown",
   "id": "bfcc4d04",
   "metadata": {},
   "source": [
    "# 5 EX"
   ]
  }
 ],
 "metadata": {
  "kernelspec": {
   "display_name": "Python 3 (ipykernel)",
   "language": "python",
   "name": "python3"
  },
  "language_info": {
   "codemirror_mode": {
    "name": "ipython",
    "version": 3
   },
   "file_extension": ".py",
   "mimetype": "text/x-python",
   "name": "python",
   "nbconvert_exporter": "python",
   "pygments_lexer": "ipython3",
   "version": "3.11.5"
  },
  "toc": {
   "base_numbering": 1,
   "nav_menu": {},
   "number_sections": true,
   "sideBar": true,
   "skip_h1_title": false,
   "title_cell": "Table of Contents",
   "title_sidebar": "Contents",
   "toc_cell": false,
   "toc_position": {},
   "toc_section_display": true,
   "toc_window_display": false
  },
  "varInspector": {
   "cols": {
    "lenName": 16,
    "lenType": 16,
    "lenVar": 40
   },
   "kernels_config": {
    "python": {
     "delete_cmd_postfix": "",
     "delete_cmd_prefix": "del ",
     "library": "var_list.py",
     "varRefreshCmd": "print(var_dic_list())"
    },
    "r": {
     "delete_cmd_postfix": ") ",
     "delete_cmd_prefix": "rm(",
     "library": "var_list.r",
     "varRefreshCmd": "cat(var_dic_list()) "
    }
   },
   "types_to_exclude": [
    "module",
    "function",
    "builtin_function_or_method",
    "instance",
    "_Feature"
   ],
   "window_display": false
  },
  "vscode": {
   "interpreter": {
    "hash": "31f2aee4e71d21fbe5cf8b01ff0e069b9275f58929596ceb00d14d90e3e16cd6"
   }
  }
 },
 "nbformat": 4,
 "nbformat_minor": 5
}
