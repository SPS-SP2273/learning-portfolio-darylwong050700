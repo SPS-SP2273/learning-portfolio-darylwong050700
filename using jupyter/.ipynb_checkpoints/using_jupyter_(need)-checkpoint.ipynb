{
 "cells": [
  {
   "attachments": {},
   "cell_type": "markdown",
   "id": "123456",
   "metadata": {},
   "source": [
    "<div style=\"text-align:left;font-size:2em\"><span style=\"font-weight:bolder;font-size:1.25em\">SP2273 | Learning Portfolio</span><br><br><span style=\"font-weight:bold;color:darkred\">Using Jupyter (Need)</span></div>"
   ]
  },
  {
   "attachments": {},
   "cell_type": "markdown",
   "id": "32f107c7",
   "metadata": {},
   "source": [
    "# 1 What to expect in this chapter"
   ]
  },
  {
   "attachments": {},
   "cell_type": "markdown",
   "id": "f5e57687",
   "metadata": {},
   "source": [
    "# 2 Getting ready"
   ]
  },
  {
   "attachments": {},
   "cell_type": "markdown",
   "id": "d326e470",
   "metadata": {},
   "source": [
    "# 3 Getting started with Jupyter"
   ]
  },
  {
   "attachments": {},
   "cell_type": "markdown",
   "id": "fec7fe83",
   "metadata": {},
   "source": [
    "## 3.1 It is all about running cells"
   ]
  },
  {
   "cell_type": "markdown",
   "id": "cfaff693-4cf6-440b-8201-92bc4b39dcab",
   "metadata": {},
   "source": []
  },
  {
   "attachments": {},
   "cell_type": "markdown",
   "id": "64626a70",
   "metadata": {},
   "source": [
    "## 3.2 A traditional start"
   ]
  },
  {
   "cell_type": "code",
   "execution_count": 2,
   "id": "28c7fc59-c474-4dd9-938c-9c66c2ca1caa",
   "metadata": {},
   "outputs": [
    {
     "name": "stdout",
     "output_type": "stream",
     "text": [
      "Hello World!\n"
     ]
    }
   ],
   "source": [
    "print ('Hello World!')"
   ]
  },
  {
   "attachments": {},
   "cell_type": "markdown",
   "id": "961175e0",
   "metadata": {},
   "source": [
    "# 4 All about Markdown"
   ]
  },
  {
   "attachments": {},
   "cell_type": "markdown",
   "id": "dc34e11b",
   "metadata": {},
   "source": [
    "## 4.1 Rendering Markdown cells"
   ]
  },
  {
   "cell_type": "markdown",
   "id": "5b44ab98-2264-46ce-87d6-09b956692058",
   "metadata": {},
   "source": [
    "The ships hung in the sky in much the same way that bricks don't."
   ]
  },
  {
   "attachments": {},
   "cell_type": "markdown",
   "id": "e3f8d038",
   "metadata": {},
   "source": [
    "## 4.2 Some basic syntax"
   ]
  },
  {
   "cell_type": "markdown",
   "id": "1f7f8909-29b6-4250-b739-d8be088e5ffe",
   "metadata": {},
   "source": [
    "The ships *hung in the sky* in much the same way that **bricks don't.**<sup>1</sup><sub>QUOTE</sub>"
   ]
  },
  {
   "attachments": {},
   "cell_type": "markdown",
   "id": "f8ede996",
   "metadata": {},
   "source": [
    "## 4.3 Headings"
   ]
  },
  {
   "cell_type": "markdown",
   "id": "29ae09cc-94ed-4123-b422-0e7fc6b62910",
   "metadata": {},
   "source": [
    "# The largest heading\n",
    "## The second-largest heading\n",
    "### The third-largest heading\n",
    "#### The smallest heading"
   ]
  },
  {
   "attachments": {},
   "cell_type": "markdown",
   "id": "cc323cd9",
   "metadata": {},
   "source": [
    "## 4.4 Displaying Code"
   ]
  },
  {
   "cell_type": "markdown",
   "id": "80771faa-b7d0-4554-ad94-8383d880a049",
   "metadata": {},
   "source": [
    "`print('Hello World!')`"
   ]
  },
  {
   "cell_type": "markdown",
   "id": "a3387338-ca3a-4b7a-9a09-fb8f130e4f56",
   "metadata": {},
   "source": [
    "```python\n",
    "print('Hello World!')\n",
    "```"
   ]
  },
  {
   "attachments": {},
   "cell_type": "markdown",
   "id": "fc7adcfd",
   "metadata": {},
   "source": [
    "## 4.5 Links"
   ]
  },
  {
   "cell_type": "markdown",
   "id": "bfe5ac8c-8095-45b5-a87f-1983d6e60edf",
   "metadata": {},
   "source": [
    "[SP2273 Website](https://sps.nus.edu.sg/sp2273)"
   ]
  },
  {
   "attachments": {},
   "cell_type": "markdown",
   "id": "1821d39c",
   "metadata": {},
   "source": [
    "## 4.6 Images"
   ]
  },
  {
   "cell_type": "markdown",
   "id": "7c301115-f0b0-4285-b114-c3275dcf4dce",
   "metadata": {},
   "source": [
    "![](https://nus.edu.sg/images/default-source/base/logo.png)"
   ]
  },
  {
   "attachments": {},
   "cell_type": "markdown",
   "id": "472db7d6",
   "metadata": {},
   "source": [
    "## 4.7 Tables"
   ]
  },
  {
   "cell_type": "markdown",
   "id": "6618facf-69e1-4339-b1de-223a7d8cc811",
   "metadata": {},
   "source": [
    "| A  | B  | C  |   |   |\r\n",
    "|----|----|----|---|---|\r\n",
    "| a1 | b1 | c1 |   |   |\r\n",
    "| a2 | b2 | c2 |   |   |\r\n",
    "| a3 | b3 | C3 |   |   |d{table}"
   ]
  },
  {
   "attachments": {},
   "cell_type": "markdown",
   "id": "41494e91",
   "metadata": {},
   "source": [
    "## 4.8 Lists"
   ]
  },
  {
   "cell_type": "markdown",
   "id": "35914434-b2c7-440d-92ef-40de51f435de",
   "metadata": {},
   "source": [
    "1. Eyjafjalla the Hvit Aska\n",
    "2. Swire the Elegant Wit\n",
    "3. So long, Adele"
   ]
  },
  {
   "cell_type": "markdown",
   "id": "b177da37-a2ed-4a32-b254-1c38caab59c8",
   "metadata": {},
   "source": [
    "- Eyjafjalla the Hvit Aska\n",
    "- Swire the Elegant Wit\n",
    "- So long, Adele"
   ]
  },
  {
   "cell_type": "markdown",
   "id": "a4293787-623b-4844-b611-050076fcdeb2",
   "metadata": {},
   "source": [
    "1. Eyjafjalla the Hvit Aska\n",
    "   1. is a medic\n",
    "   2. is from Leithanien\n",
    "1. Swire the Elegant Wit\n",
    "   1. is a specialist\n",
    "   2. is from Lungmen\n",
    "1. So long, Adele\n",
    "   1. is an event\n",
    "   2. is in Siesta"
   ]
  },
  {
   "cell_type": "markdown",
   "id": "444efd72-e40f-4f87-aeb0-b44970713631",
   "metadata": {},
   "source": [
    "1. Eyjafjalla the Hvit Aska\n",
    "   - is a medic\n",
    "   - is from Leithanien\n",
    "2. Swire the Elegant Wit\n",
    "   - is a speceialist\n",
    "   - is from Lungmen\n",
    "3. So long, Adele\n",
    "   - is an event\n",
    "   - is in Siesta"
   ]
  },
  {
   "attachments": {},
   "cell_type": "markdown",
   "id": "7a3ac82d",
   "metadata": {},
   "source": [
    "## 4.9 Equations"
   ]
  },
  {
   "cell_type": "markdown",
   "id": "2b5f560e-725c-4492-a9b1-e37440a33557",
   "metadata": {},
   "source": [
    "$\\sqrt{b^2-4ac}$"
   ]
  },
  {
   "cell_type": "markdown",
   "id": "2ffe2d25-9756-4bdc-a1c1-95d8c3bd4bcf",
   "metadata": {},
   "source": [
    "$$\n",
    "x = \\dfrac{22}{7}   \n",
    "x_{a}   \n",
    "a^{(x+y+z)}   \n",
    "\\sqrt{a+b+c}   \n",
    "\\sum_{n=1}^{n=\\infty} x_n   \n",
    "$\\int_{x=1}^{x=100} f(x)dx   \n",
    "\\ne MM   \n",
    "im less \\lt im more   \n",
    "im ok \\lt im good   \n",
    "im more \\gt im less   \n",
    "im good \\gt im ok   \n",
    "ste\\mu   \n",
    "8077\\lambda   \n",
    "$$"
   ]
  },
  {
   "cell_type": "markdown",
   "id": "afc2bb0a-5369-4f84-99e8-518f94fa0b68",
   "metadata": {},
   "source": [
    "i'm not sure how to create a line break (tried 2-3 spaces)"
   ]
  },
  {
   "attachments": {},
   "cell_type": "markdown",
   "id": "4f3d9fc3",
   "metadata": {},
   "source": [
    "## Footnotes"
   ]
  }
 ],
 "metadata": {
  "kernelspec": {
   "display_name": "Python 3 (ipykernel)",
   "language": "python",
   "name": "python3"
  },
  "language_info": {
   "codemirror_mode": {
    "name": "ipython",
    "version": 3
   },
   "file_extension": ".py",
   "mimetype": "text/x-python",
   "name": "python",
   "nbconvert_exporter": "python",
   "pygments_lexer": "ipython3",
   "version": "3.11.5"
  },
  "toc": {
   "base_numbering": 1,
   "nav_menu": {},
   "number_sections": true,
   "sideBar": true,
   "skip_h1_title": false,
   "title_cell": "Table of Contents",
   "title_sidebar": "Contents",
   "toc_cell": false,
   "toc_position": {},
   "toc_section_display": true,
   "toc_window_display": false
  },
  "vscode": {
   "interpreter": {
    "hash": "31f2aee4e71d21fbe5cf8b01ff0e069b9275f58929596ceb00d14d90e3e16cd6"
   }
  }
 },
 "nbformat": 4,
 "nbformat_minor": 5
}
