{
 "cells": [
  {
   "cell_type": "code",
   "execution_count": 1,
   "id": "a8344352-d437-40ca-b8ea-e02126c44d6f",
   "metadata": {},
   "outputs": [
    {
     "name": "stdout",
     "output_type": "stream",
     "text": [
      "Hello World!\n"
     ]
    }
   ],
   "source": [
    "print ('Hello World!')"
   ]
  },
  {
   "cell_type": "markdown",
   "id": "9373f826-1984-4861-a38a-d2deacd5c93e",
   "metadata": {},
   "source": [
    "The ships *hung in the sky* in much the same way that **bricks don't.**<sup>1</sup><sub>QUOTE</sub>"
   ]
  },
  {
   "cell_type": "markdown",
   "id": "079773b6-5ba5-4728-8a9b-a46baa4217af",
   "metadata": {},
   "source": [
    "# The largest heading"
   ]
  },
  {
   "cell_type": "markdown",
   "id": "6c80c80e-77e1-4e6b-8cde-792d8c3dbd3e",
   "metadata": {},
   "source": [
    "## The second largest heading"
   ]
  },
  {
   "cell_type": "markdown",
   "id": "3cde9a6d-3cf2-4ae0-97cc-2442d7120eab",
   "metadata": {},
   "source": [
    "### The third largest heading"
   ]
  },
  {
   "cell_type": "markdown",
   "id": "38db9740-9b8c-426c-bd04-a3cdc050bec8",
   "metadata": {},
   "source": [
    "#### The smallest heading"
   ]
  },
  {
   "cell_type": "markdown",
   "id": "27fa9543-b5c2-4287-a4c9-a8804bd4781d",
   "metadata": {},
   "source": [
    "`print('Hello World!')`"
   ]
  },
  {
   "cell_type": "markdown",
   "id": "9b88b21b-0085-444e-a720-fd7fac3f2136",
   "metadata": {},
   "source": [
    "```python\n",
    "print('Hello World!')\n",
    "```"
   ]
  },
  {
   "cell_type": "markdown",
   "id": "f900ff89-65f9-4af4-8b4b-86e6346ef556",
   "metadata": {},
   "source": [
    "[SP2273 Website](https://sps.nus.edu.sg/sp2273)"
   ]
  },
  {
   "cell_type": "markdown",
   "id": "ed619677-9e74-4e6e-8ea9-4aeb212c13d6",
   "metadata": {},
   "source": [
    "![](https://nus.edu.sg/images/default-source/base/logo.png)"
   ]
  },
  {
   "cell_type": "markdown",
   "id": "ffa75345-78ab-46bf-a26c-cb2f941dc4b3",
   "metadata": {},
   "source": [
    "| A  | B  | C  |   |   |\n",
    "|----|----|----|---|---|\n",
    "| a1 | b1 | c1 |   |   |\n",
    "| a2 | b2 | c2 |   |   |\n",
    "| a3 | b3 | C3 |   |   |"
   ]
  },
  {
   "cell_type": "markdown",
   "id": "71abd807-81b7-4eac-84fa-5fdc844734f5",
   "metadata": {},
   "source": [
    "1. Eyjafjalla the Hvit Aska\n",
    "2. Swire the Elegant Wit\n",
    "3. So long, Adele"
   ]
  },
  {
   "cell_type": "markdown",
   "id": "85dcce41-d378-4390-b9eb-db38a9faeb7c",
   "metadata": {},
   "source": [
    "- Eyjafjalla the Hvit Aska\n",
    "- Swire the Elegant Wit\n",
    "- So long, Adele"
   ]
  },
  {
   "cell_type": "markdown",
   "id": "eefa7aad-368b-4e5b-89e5-0ec55284daa5",
   "metadata": {},
   "source": [
    "1. Eyjafjalla the Hvit Aska\n",
    "   1. is a medic\n",
    "   2. is from Leithanien\n",
    "1. Swire the Elegant Wit\n",
    "   1. is a specialist\n",
    "   2. is from Lungmen\n",
    "1. So long, Adele\n",
    "   1. is an event\n",
    "   2. is in Siesta"
   ]
  },
  {
   "cell_type": "markdown",
   "id": "9d8a88ce-1b7f-4c8b-97ab-73d210a7ea7d",
   "metadata": {},
   "source": [
    "1. Eyjafjalla the Hvit Aska\n",
    "   - is a medic\n",
    "   - is from Leithanien\n",
    "2. Swire the Elegant Wit\n",
    "   - is a specialist\n",
    "   - is from Lungmen\n",
    "3. So long, Adele\n",
    "   - is an event\n",
    "   - is in Siestan Siesta"
   ]
  },
  {
   "cell_type": "markdown",
   "id": "2e9da8b5-0efb-4f2f-bb78-820f26f6f261",
   "metadata": {},
   "source": [
    "$\\sqrt{b^2-4ac}$"
   ]
  },
  {
   "cell_type": "markdown",
   "id": "4796a03e-c454-4841-9bd8-db02279b9cf2",
   "metadata": {},
   "source": []
  }
 ],
 "metadata": {
  "kernelspec": {
   "display_name": "Python 3 (ipykernel)",
   "language": "python",
   "name": "python3"
  },
  "language_info": {
   "codemirror_mode": {
    "name": "ipython",
    "version": 3
   },
   "file_extension": ".py",
   "mimetype": "text/x-python",
   "name": "python",
   "nbconvert_exporter": "python",
   "pygments_lexer": "ipython3",
   "version": "3.11.5"
  }
 },
 "nbformat": 4,
 "nbformat_minor": 5
}
