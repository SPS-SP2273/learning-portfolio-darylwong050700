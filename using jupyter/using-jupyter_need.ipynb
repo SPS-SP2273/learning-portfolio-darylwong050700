{
 "cells": [
  {
   "cell_type": "markdown",
   "id": "2dc4707f-fb2b-43f8-9088-ae4fac40a0e5",
   "metadata": {},
   "source": [
    "![](https://upload.wikimedia.org/wikipedia/commons/thumb/f/f8/Polynomialdeg2.svg/300px-Polynomialdeg2.svg.png)"
   ]
  },
  {
   "cell_type": "code",
   "execution_count": null,
   "id": "6a959eb8-e75d-4d64-9239-f4c4ec1dbeb2",
   "metadata": {},
   "outputs": [],
   "source": []
  }
 ],
 "metadata": {
  "kernelspec": {
   "display_name": "Python 3 (ipykernel)",
   "language": "python",
   "name": "python3"
  },
  "language_info": {
   "codemirror_mode": {
    "name": "ipython",
    "version": 3
   },
   "file_extension": ".py",
   "mimetype": "text/x-python",
   "name": "python",
   "nbconvert_exporter": "python",
   "pygments_lexer": "ipython3",
   "version": "3.11.5"
  }
 },
 "nbformat": 4,
 "nbformat_minor": 5
}
