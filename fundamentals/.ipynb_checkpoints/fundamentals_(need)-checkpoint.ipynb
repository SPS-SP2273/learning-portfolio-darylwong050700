{
 "cells": [
  {
   "cell_type": "markdown",
   "id": "123456",
   "metadata": {},
   "source": [
    "<div style=\"text-align:left;font-size:2em\"><span style=\"font-weight:bolder;font-size:1.25em\">SP2273 | Learning Portfolio</span><br><br><span style=\"font-weight:bold;color:darkred\">Fundamentals (Need)</span></div>"
   ]
  },
  {
   "cell_type": "markdown",
   "id": "fc9d2e6a",
   "metadata": {},
   "source": [
    "# What to expect in this chapter"
   ]
  },
  {
   "cell_type": "markdown",
   "id": "36f2563c",
   "metadata": {},
   "source": [
    "# 1 Functions"
   ]
  },
  {
   "cell_type": "code",
   "execution_count": 1,
   "id": "1e039907",
   "metadata": {},
   "outputs": [
    {
     "name": "stdout",
     "output_type": "stream",
     "text": [
      "Hello world!\n"
     ]
    }
   ],
   "source": [
    "print('Hello world!')"
   ]
  },
  {
   "cell_type": "markdown",
   "id": "33449473",
   "metadata": {},
   "source": [
    "print - function\n",
    "\n",
    "() - argument for function (all functions have)\n",
    "\n",
    "core functions vs self-defined/imported functions"
   ]
  },
  {
   "cell_type": "markdown",
   "id": "5c343eb3-9e50-47c3-9d97-53ebf6a1edc3",
   "metadata": {},
   "source": [
    "syntax highlighting (colour scheme) comes from the engine, can be changed"
   ]
  },
  {
   "cell_type": "markdown",
   "id": "c3298201",
   "metadata": {},
   "source": [
    "# 2 Remember"
   ]
  },
  {
   "cell_type": "markdown",
   "id": "9ebe045b",
   "metadata": {},
   "source": [
    "# 3 Python is interpreted"
   ]
  },
  {
   "cell_type": "code",
   "execution_count": 2,
   "id": "f8a8a6e2",
   "metadata": {},
   "outputs": [
    {
     "name": "stdout",
     "output_type": "stream",
     "text": [
      "Hello world\n",
      "Hello world again\n"
     ]
    }
   ],
   "source": [
    "print('Hello world')\n",
    "print('Hello world again')"
   ]
  },
  {
   "cell_type": "markdown",
   "id": "532e8021",
   "metadata": {},
   "source": [
    "Python works by using interpreter to read and execute commands\n",
    "\n",
    "sequential commands are read and executed one by one by the interpreter"
   ]
  },
  {
   "cell_type": "markdown",
   "id": "929d57bb",
   "metadata": {},
   "source": [
    "# 4 Python is sensitive."
   ]
  },
  {
   "cell_type": "code",
   "execution_count": 3,
   "id": "f4d8b17f",
   "metadata": {},
   "outputs": [
    {
     "name": "stdout",
     "output_type": "stream",
     "text": [
      "Hello world\n"
     ]
    },
    {
     "ename": "NameError",
     "evalue": "name 'Print' is not defined",
     "output_type": "error",
     "traceback": [
      "\u001b[1;31m---------------------------------------------------------------------------\u001b[0m",
      "\u001b[1;31mNameError\u001b[0m                                 Traceback (most recent call last)",
      "Cell \u001b[1;32mIn[3], line 2\u001b[0m\n\u001b[0;32m      1\u001b[0m \u001b[38;5;28mprint\u001b[39m(\u001b[38;5;124m'\u001b[39m\u001b[38;5;124mHello world\u001b[39m\u001b[38;5;124m'\u001b[39m)\n\u001b[1;32m----> 2\u001b[0m \u001b[43mPrint\u001b[49m(\u001b[38;5;124m'\u001b[39m\u001b[38;5;124mHello world\u001b[39m\u001b[38;5;124m'\u001b[39m)\n",
      "\u001b[1;31mNameError\u001b[0m: name 'Print' is not defined"
     ]
    }
   ],
   "source": [
    "print('Hello world')\n",
    "Print('Hello world')"
   ]
  },
  {
   "cell_type": "markdown",
   "id": "da19dd1b",
   "metadata": {},
   "source": [
    "commands, functions etc. are case-sensitive"
   ]
  },
  {
   "cell_type": "markdown",
   "id": "d35f83d8",
   "metadata": {},
   "source": [
    "# 5 Remember"
   ]
  },
  {
   "cell_type": "markdown",
   "id": "5c7739e0",
   "metadata": {},
   "source": [
    "# 6 Comments"
   ]
  },
  {
   "cell_type": "code",
   "execution_count": 1,
   "id": "bb33c095",
   "metadata": {},
   "outputs": [
    {
     "name": "stdout",
     "output_type": "stream",
     "text": [
      "test comments\n"
     ]
    }
   ],
   "source": [
    "print('test comments') #should not show up"
   ]
  },
  {
   "cell_type": "markdown",
   "id": "d316468a",
   "metadata": {},
   "source": [
    "interpreter ignores everything after #, so it is used to write comments for code\n",
    "\n",
    "use comments to write the purpose of the code, and keep them simple and clean"
   ]
  },
  {
   "cell_type": "code",
   "execution_count": 9,
   "id": "676985a3-9a6e-4e90-a65e-799a82b16d33",
   "metadata": {},
   "outputs": [
    {
     "name": "stdout",
     "output_type": "stream",
     "text": [
      "test multiline comment\n"
     ]
    },
    {
     "data": {
      "text/plain": [
       "'\\nmultiline comment\\ndoc string\\nor just comment block\\n'"
      ]
     },
     "execution_count": 9,
     "metadata": {},
     "output_type": "execute_result"
    }
   ],
   "source": [
    "print('test multiline comment')\n",
    "'''\n",
    "multiline comment\n",
    "doc string\n",
    "or just comment block\n",
    "'''"
   ]
  },
  {
   "cell_type": "markdown",
   "id": "113be004",
   "metadata": {},
   "source": [
    "# 7 Remember"
   ]
  },
  {
   "cell_type": "markdown",
   "id": "231b90a2",
   "metadata": {},
   "source": [
    "# 8 = is not the same as =="
   ]
  },
  {
   "cell_type": "code",
   "execution_count": 7,
   "id": "98d3d976",
   "metadata": {},
   "outputs": [],
   "source": [
    "name = 'dokutah' # assign"
   ]
  },
  {
   "cell_type": "code",
   "execution_count": 8,
   "id": "0a2c23c2",
   "metadata": {},
   "outputs": [
    {
     "data": {
      "text/plain": [
       "True"
      ]
     },
     "execution_count": 8,
     "metadata": {},
     "output_type": "execute_result"
    }
   ],
   "source": [
    "name == 'dokutah' # check"
   ]
  },
  {
   "cell_type": "markdown",
   "id": "be6b3625",
   "metadata": {},
   "source": [
    "# 9 Remember"
   ]
  },
  {
   "cell_type": "markdown",
   "id": "a64a6f83",
   "metadata": {},
   "source": [
    "# 10 Use if to make decisions"
   ]
  },
  {
   "cell_type": "code",
   "execution_count": 15,
   "id": "bc774818",
   "metadata": {},
   "outputs": [
    {
     "name": "stdout",
     "output_type": "stream",
     "text": [
      "Hello dokutah!\n"
     ]
    }
   ],
   "source": [
    "if name == 'dokutah':\n",
    "    print('Hello dokutah!')\n",
    "else:\n",
    "    print('Hello World!')"
   ]
  },
  {
   "cell_type": "markdown",
   "id": "5591fe84",
   "metadata": {},
   "source": [
    "Check = vs == for if  \n",
    "add : after argument, indicates the beginning of a block of code  \n",
    "note indentations indicate blocks of code  \n",
    "within the same script (notebook), previous cells can influence future cells (e.g. importing packages, assigning variables etc.)  \n",
    "-> the cell has to be run for it to work on a fresh kernel"
   ]
  },
  {
   "cell_type": "markdown",
   "id": "afd9151b",
   "metadata": {},
   "source": [
    "# 11 Remember"
   ]
  },
  {
   "cell_type": "markdown",
   "id": "cdbe6217",
   "metadata": {},
   "source": [
    "# 12 Indentations (spaces) are sooo IMPORTANT!"
   ]
  },
  {
   "cell_type": "code",
   "execution_count": 16,
   "id": "78eed297",
   "metadata": {},
   "outputs": [
    {
     "name": "stdout",
     "output_type": "stream",
     "text": [
      "10\n"
     ]
    }
   ],
   "source": [
    "x=10\n",
    "print(x)"
   ]
  },
  {
   "cell_type": "code",
   "execution_count": 18,
   "id": "55a396c7",
   "metadata": {},
   "outputs": [
    {
     "ename": "IndentationError",
     "evalue": "unexpected indent (1719616585.py, line 2)",
     "output_type": "error",
     "traceback": [
      "\u001b[1;36m  Cell \u001b[1;32mIn[18], line 2\u001b[1;36m\u001b[0m\n\u001b[1;33m    print(x)\u001b[0m\n\u001b[1;37m    ^\u001b[0m\n\u001b[1;31mIndentationError\u001b[0m\u001b[1;31m:\u001b[0m unexpected indent\n"
     ]
    }
   ],
   "source": [
    "x=10\n",
    " print(x)"
   ]
  },
  {
   "cell_type": "markdown",
   "id": "12e85279",
   "metadata": {},
   "source": [
    "do not use indents randomly"
   ]
  },
  {
   "cell_type": "markdown",
   "id": "b11b0deb",
   "metadata": {},
   "source": [
    "# 13 Remember"
   ]
  },
  {
   "cell_type": "markdown",
   "id": "2d0d3bd3",
   "metadata": {},
   "source": [
    "# 14 ‘age’ is English, age is a variable."
   ]
  },
  {
   "cell_type": "code",
   "execution_count": 19,
   "id": "aa315c9d",
   "metadata": {},
   "outputs": [
    {
     "name": "stdout",
     "output_type": "stream",
     "text": [
      "1430\n",
      "account age\n"
     ]
    }
   ],
   "source": [
    "account_age=1430\n",
    "print(account_age)\n",
    "\n",
    "print('account age')"
   ]
  },
  {
   "cell_type": "code",
   "execution_count": 20,
   "id": "beb7f1cf",
   "metadata": {},
   "outputs": [
    {
     "name": "stdout",
     "output_type": "stream",
     "text": [
      "You're wicked...\n"
     ]
    }
   ],
   "source": [
    "print(\"You're wicked...\")"
   ]
  },
  {
   "cell_type": "markdown",
   "id": "1d69ef2b",
   "metadata": {},
   "source": [
    "'' used to denote regular english, prefer \"\" to avoid apostrophe confusion"
   ]
  },
  {
   "cell_type": "markdown",
   "id": "ae132b90",
   "metadata": {},
   "source": [
    "# 15 Brackets"
   ]
  },
  {
   "cell_type": "code",
   "execution_count": 3,
   "id": "28336965",
   "metadata": {},
   "outputs": [
    {
     "name": "stdout",
     "output_type": "stream",
     "text": [
      "hey\n"
     ]
    }
   ],
   "source": [
    "print('hey') #argument"
   ]
  },
  {
   "cell_type": "code",
   "execution_count": 4,
   "id": "16f6964b",
   "metadata": {},
   "outputs": [
    {
     "data": {
      "text/plain": [
       "30"
      ]
     },
     "execution_count": 4,
     "metadata": {},
     "output_type": "execute_result"
    }
   ],
   "source": [
    "(1+2)*10 #math operation"
   ]
  },
  {
   "cell_type": "code",
   "execution_count": 5,
   "id": "6ba1ed41",
   "metadata": {},
   "outputs": [],
   "source": [
    "py_list=[1,2,3,4,5] #1D list"
   ]
  },
  {
   "cell_type": "code",
   "execution_count": 6,
   "id": "e4637e5b",
   "metadata": {},
   "outputs": [],
   "source": [
    "py_list_2 = [ #2D list (2 variables)\n",
    "    [1,\"A\"],\n",
    "    [2, \"B\"],\n",
    "    [3, \"C\"]\n",
    "]"
   ]
  },
  {
   "cell_type": "code",
   "execution_count": 7,
   "id": "3d3903e7",
   "metadata": {},
   "outputs": [
    {
     "name": "stdout",
     "output_type": "stream",
     "text": [
      "[[1, 'A'], [2, 'B'], [3, 'C']]\n"
     ]
    }
   ],
   "source": [
    "print(py_list_2)"
   ]
  },
  {
   "cell_type": "code",
   "execution_count": 8,
   "id": "575e3500",
   "metadata": {},
   "outputs": [],
   "source": [
    "operator_info={ #stores data in a dictionary, assigning keys to values for easy identification\n",
    "    'Song':'dance of a snow crystal',\n",
    "    'Artist':'penoreri',\n",
    "    'Game':'Taiko no Tatsujin'\n",
    "}"
   ]
  },
  {
   "cell_type": "code",
   "execution_count": 9,
   "id": "1b14d391",
   "metadata": {},
   "outputs": [
    {
     "name": "stdout",
     "output_type": "stream",
     "text": [
      "dance of a snow crystal\n"
     ]
    }
   ],
   "source": [
    "print(operator_info['Song'])"
   ]
  },
  {
   "cell_type": "markdown",
   "id": "e4d698cc",
   "metadata": {},
   "source": [
    "# 16 Giving Python superpowers with Packages"
   ]
  },
  {
   "cell_type": "markdown",
   "id": "bce3d1c1",
   "metadata": {},
   "source": [
    "## 16.1 Some Context"
   ]
  },
  {
   "cell_type": "markdown",
   "id": "1cac2e47",
   "metadata": {},
   "source": [
    "## 16.2 Importing the math package"
   ]
  },
  {
   "cell_type": "code",
   "execution_count": 10,
   "id": "9ff8789e",
   "metadata": {},
   "outputs": [],
   "source": [
    "import math #imports functions in the math package"
   ]
  },
  {
   "cell_type": "code",
   "execution_count": 11,
   "id": "804360c8",
   "metadata": {},
   "outputs": [
    {
     "data": {
      "text/plain": [
       "9.0"
      ]
     },
     "execution_count": 11,
     "metadata": {},
     "output_type": "execute_result"
    }
   ],
   "source": [
    "math.sqrt(81) #sqrt is a function belonging to the math package, working on the argument 81 (a number)"
   ]
  },
  {
   "cell_type": "markdown",
   "id": "1aa0c8af",
   "metadata": {},
   "source": [
    "## 16.3 Importing the numpy package"
   ]
  },
  {
   "cell_type": "code",
   "execution_count": 31,
   "id": "844e5652",
   "metadata": {},
   "outputs": [],
   "source": [
    "import numpy as np #imports the numpy package and creates np as an alias for future reference in code"
   ]
  },
  {
   "cell_type": "code",
   "execution_count": 32,
   "id": "bedb0875",
   "metadata": {},
   "outputs": [
    {
     "data": {
      "text/plain": [
       "15.0"
      ]
     },
     "execution_count": 32,
     "metadata": {},
     "output_type": "execute_result"
    }
   ],
   "source": [
    "np.sqrt(225)"
   ]
  },
  {
   "cell_type": "markdown",
   "id": "2ffa6409",
   "metadata": {},
   "source": [
    "## 16.4 Why so many packages?"
   ]
  },
  {
   "cell_type": "code",
   "execution_count": 12,
   "id": "0d4cc468",
   "metadata": {},
   "outputs": [
    {
     "data": {
      "text/plain": [
       "array([ 1.,  2.,  3.,  4.,  5.,  6.,  7.,  8.,  9., 10.])"
      ]
     },
     "execution_count": 12,
     "metadata": {},
     "output_type": "execute_result"
    }
   ],
   "source": [
    "np.sqrt([1,4,9,16,25,36,49,64,81,100]) #numpy's sqrt can handle multiple numbers and delineate them with ,"
   ]
  },
  {
   "cell_type": "markdown",
   "id": "19c0a2f3",
   "metadata": {},
   "source": [
    "# 17 Remember"
   ]
  },
  {
   "cell_type": "markdown",
   "id": "6eea4cec",
   "metadata": {},
   "source": [
    "# 18 The dot (.)"
   ]
  },
  {
   "cell_type": "code",
   "execution_count": 15,
   "id": "6d271793",
   "metadata": {},
   "outputs": [
    {
     "data": {
      "text/plain": [
       "['I', 'will', 'be', 'back']"
      ]
     },
     "execution_count": 15,
     "metadata": {},
     "output_type": "execute_result"
    }
   ],
   "source": [
    "\"I will be back\".split() #. indicates ownership, and access is context-dependent"
   ]
  },
  {
   "cell_type": "markdown",
   "id": "6eb1cc21",
   "metadata": {},
   "source": [
    "in this case does the . use the attribute that \"I will be back\" are words to split them?"
   ]
  },
  {
   "cell_type": "code",
   "execution_count": 14,
   "id": "5694eafe",
   "metadata": {},
   "outputs": [
    {
     "ename": "SyntaxError",
     "evalue": "invalid decimal literal (996897225.py, line 1)",
     "output_type": "error",
     "traceback": [
      "\u001b[1;36m  Cell \u001b[1;32mIn[14], line 1\u001b[1;36m\u001b[0m\n\u001b[1;33m    1234.split() #numbers cannot be split\u001b[0m\n\u001b[1;37m        ^\u001b[0m\n\u001b[1;31mSyntaxError\u001b[0m\u001b[1;31m:\u001b[0m invalid decimal literal\n"
     ]
    }
   ],
   "source": [
    "1234.split() #numbers cannot be split"
   ]
  },
  {
   "cell_type": "markdown",
   "id": "34153396",
   "metadata": {},
   "source": [
    "# 19 Remember"
   ]
  },
  {
   "cell_type": "markdown",
   "id": "0bcf2d4a",
   "metadata": {},
   "source": [
    "## Footnotes"
   ]
  },
  {
   "cell_type": "code",
   "execution_count": 6,
   "id": "07775f3c-9068-4b7d-b942-9cde6005eac0",
   "metadata": {},
   "outputs": [
    {
     "data": {
      "text/plain": [
       "[\"Politicians'\", 'speeches,', 'reflect', \"Trump's\", 'influence.']"
      ]
     },
     "execution_count": 6,
     "metadata": {},
     "output_type": "execute_result"
    }
   ],
   "source": [
    "\"Politicians' speeches, reflect Trump's influence.\".split()"
   ]
  },
  {
   "cell_type": "code",
   "execution_count": 3,
   "id": "d667ca2c-b83d-4cb2-971b-7b6b1bb738b4",
   "metadata": {},
   "outputs": [
    {
     "data": {
      "text/plain": [
       "['Politician', \"' \", 'peeche', \" reflect Trump'\", ' influence.']"
      ]
     },
     "execution_count": 3,
     "metadata": {},
     "output_type": "execute_result"
    }
   ],
   "source": [
    "\"Politicians' speeches reflect Trump's influence.\".split('s')"
   ]
  },
  {
   "cell_type": "markdown",
   "id": "0b256909-b0cc-407f-8a49-b5ff3a7a8065",
   "metadata": {},
   "source": [
    "`.split()` seems to use spaces as delimiters to split the string  \n",
    "when given an argument 's', `.split()` splits the string using s as the delimiter instead. this suggests the default delimiter is ` `, and replacing it with an argument will result in the argument being used as the delimiter instead"
   ]
  }
 ],
 "metadata": {
  "kernelspec": {
   "display_name": "Python 3 (ipykernel)",
   "language": "python",
   "name": "python3"
  },
  "language_info": {
   "codemirror_mode": {
    "name": "ipython",
    "version": 3
   },
   "file_extension": ".py",
   "mimetype": "text/x-python",
   "name": "python",
   "nbconvert_exporter": "python",
   "pygments_lexer": "ipython3",
   "version": "3.11.5"
  },
  "toc": {
   "base_numbering": 1,
   "nav_menu": {},
   "number_sections": true,
   "sideBar": true,
   "skip_h1_title": false,
   "title_cell": "Table of Contents",
   "title_sidebar": "Contents",
   "toc_cell": false,
   "toc_position": {},
   "toc_section_display": true,
   "toc_window_display": false
  },
  "varInspector": {
   "cols": {
    "lenName": 16,
    "lenType": 16,
    "lenVar": 40
   },
   "kernels_config": {
    "python": {
     "delete_cmd_postfix": "",
     "delete_cmd_prefix": "del ",
     "library": "var_list.py",
     "varRefreshCmd": "print(var_dic_list())"
    },
    "r": {
     "delete_cmd_postfix": ") ",
     "delete_cmd_prefix": "rm(",
     "library": "var_list.r",
     "varRefreshCmd": "cat(var_dic_list()) "
    }
   },
   "types_to_exclude": [
    "module",
    "function",
    "builtin_function_or_method",
    "instance",
    "_Feature"
   ],
   "window_display": false
  },
  "vscode": {
   "interpreter": {
    "hash": "31f2aee4e71d21fbe5cf8b01ff0e069b9275f58929596ceb00d14d90e3e16cd6"
   }
  }
 },
 "nbformat": 4,
 "nbformat_minor": 5
}
