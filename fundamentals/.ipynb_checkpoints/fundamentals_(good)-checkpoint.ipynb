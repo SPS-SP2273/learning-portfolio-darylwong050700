{
 "cells": [
  {
   "cell_type": "markdown",
   "id": "123456",
   "metadata": {},
   "source": [
    "<div style=\"text-align:left;font-size:2em\"><span style=\"font-weight:bolder;font-size:1.25em\">SP2273 | Learning Portfolio</span><br><br><span style=\"font-weight:bold;color:darkred\">Fundamentals (Good)</span></div>"
   ]
  },
  {
   "cell_type": "markdown",
   "id": "63fbbef3",
   "metadata": {},
   "source": [
    "# What to expect in this chapter"
   ]
  },
  {
   "cell_type": "markdown",
   "id": "6a807cdb",
   "metadata": {},
   "source": [
    "# 1 There is more to if"
   ]
  },
  {
   "cell_type": "code",
   "execution_count": 1,
   "id": "55d610ee",
   "metadata": {},
   "outputs": [
    {
     "name": "stdout",
     "output_type": "stream",
     "text": [
      "hello dokutah\n"
     ]
    }
   ],
   "source": [
    "name = 'dokutah'\n",
    "\n",
    "if name == 'doktah':\n",
    "    print(\"zzz...\")\n",
    "elif name == 'dokutah': # adds an additional branch to the if-else statement\n",
    "    print(\"hello dokutah\")\n",
    "else:\n",
    "    print(\"Arknights\")"
   ]
  },
  {
   "cell_type": "markdown",
   "id": "10b887ff-3178-47c5-a052-cb7b4e399cf0",
   "metadata": {},
   "source": [
    "alt+click and drag to enable multiple inputs"
   ]
  },
  {
   "cell_type": "markdown",
   "id": "9937a762",
   "metadata": {},
   "source": [
    "# 2 Asking questions"
   ]
  },
  {
   "cell_type": "code",
   "execution_count": 2,
   "id": "1ee399d8",
   "metadata": {},
   "outputs": [],
   "source": [
    "snipers = ['exusiai', 'ash', 'archetto', 'rosmontis', 'w', 'typhon']\n",
    "medics = ['shining', 'nightingale', 'lumen', 'eyjafjalla']"
   ]
  },
  {
   "cell_type": "code",
   "execution_count": 3,
   "id": "b6867ff2",
   "metadata": {},
   "outputs": [
    {
     "data": {
      "text/plain": [
       "True"
      ]
     },
     "execution_count": 3,
     "metadata": {},
     "output_type": "execute_result"
    }
   ],
   "source": [
    "'exusiai' in snipers"
   ]
  },
  {
   "cell_type": "code",
   "execution_count": 4,
   "id": "41411ab8",
   "metadata": {},
   "outputs": [
    {
     "data": {
      "text/plain": [
       "False"
      ]
     },
     "execution_count": 4,
     "metadata": {},
     "output_type": "execute_result"
    }
   ],
   "source": [
    "'thorns' in snipers"
   ]
  },
  {
   "cell_type": "code",
   "execution_count": 5,
   "id": "81fa046f",
   "metadata": {},
   "outputs": [
    {
     "data": {
      "text/plain": [
       "True"
      ]
     },
     "execution_count": 5,
     "metadata": {},
     "output_type": "execute_result"
    }
   ],
   "source": [
    "'goldenglow' not in snipers"
   ]
  },
  {
   "cell_type": "code",
   "execution_count": 6,
   "id": "445b8511",
   "metadata": {},
   "outputs": [
    {
     "data": {
      "text/plain": [
       "True"
      ]
     },
     "execution_count": 6,
     "metadata": {},
     "output_type": "execute_result"
    }
   ],
   "source": [
    "('ash' in snipers) and ('lumen' in medics) # both arguments are true"
   ]
  },
  {
   "cell_type": "code",
   "execution_count": 7,
   "id": "b654b954",
   "metadata": {},
   "outputs": [
    {
     "data": {
      "text/plain": [
       "False"
      ]
     },
     "execution_count": 7,
     "metadata": {},
     "output_type": "execute_result"
    }
   ],
   "source": [
    "('archetto' in snipers) and ('eyjafjalla' in snipers) # first argument is true, second argument is false"
   ]
  },
  {
   "cell_type": "code",
   "execution_count": 8,
   "id": "a5e301e2",
   "metadata": {},
   "outputs": [
    {
     "data": {
      "text/plain": [
       "True"
      ]
     },
     "execution_count": 8,
     "metadata": {},
     "output_type": "execute_result"
    }
   ],
   "source": [
    "('archetto' in snipers) or ('shining' in snipers) # first argument is true, second argument is false"
   ]
  },
  {
   "cell_type": "code",
   "execution_count": 9,
   "id": "1886c4b1",
   "metadata": {},
   "outputs": [
    {
     "data": {
      "text/plain": [
       "False"
      ]
     },
     "execution_count": 9,
     "metadata": {},
     "output_type": "execute_result"
    }
   ],
   "source": [
    "'exia' in 'exusiai' # exia are all letters appearing in exusiai, but they are not consecutive"
   ]
  },
  {
   "cell_type": "code",
   "execution_count": 13,
   "id": "78b2b911",
   "metadata": {},
   "outputs": [
    {
     "data": {
      "text/plain": [
       "True"
      ]
     },
     "execution_count": 13,
     "metadata": {},
     "output_type": "execute_result"
    }
   ],
   "source": [
    "'eyja' in 'eyjafjalla' # eyja appears in eyjafjalla as consecutive letters"
   ]
  },
  {
   "cell_type": "code",
   "execution_count": 14,
   "id": "b7662272",
   "metadata": {},
   "outputs": [
    {
     "data": {
      "text/plain": [
       "False"
      ]
     },
     "execution_count": 14,
     "metadata": {},
     "output_type": "execute_result"
    }
   ],
   "source": [
    "'apples' > 'oranges' # comparison is based on internal representation of 'a' as 97 and 'o' as 111"
   ]
  },
  {
   "cell_type": "markdown",
   "id": "4ca59110-ca0c-4404-825b-2929c3e338c9",
   "metadata": {},
   "source": [
    "`in` is case-sensitive"
   ]
  },
  {
   "cell_type": "markdown",
   "id": "88ca0e62",
   "metadata": {},
   "source": [
    "# 3 Remember"
   ]
  },
  {
   "cell_type": "markdown",
   "id": "223651ad",
   "metadata": {},
   "source": [
    "## 3.1 Asking Math questions"
   ]
  },
  {
   "cell_type": "code",
   "execution_count": 15,
   "id": "7609e27f",
   "metadata": {},
   "outputs": [
    {
     "data": {
      "text/plain": [
       "True"
      ]
     },
     "execution_count": 15,
     "metadata": {},
     "output_type": "execute_result"
    }
   ],
   "source": [
    "3/2 == 1.5 # equals ="
   ]
  },
  {
   "cell_type": "code",
   "execution_count": 16,
   "id": "751b956a",
   "metadata": {},
   "outputs": [
    {
     "data": {
      "text/plain": [
       "True"
      ]
     },
     "execution_count": 16,
     "metadata": {},
     "output_type": "execute_result"
    }
   ],
   "source": [
    "3/2 != 2 # not equals =/="
   ]
  },
  {
   "cell_type": "code",
   "execution_count": 17,
   "id": "7c000801",
   "metadata": {},
   "outputs": [
    {
     "data": {
      "text/plain": [
       "True"
      ]
     },
     "execution_count": 17,
     "metadata": {},
     "output_type": "execute_result"
    }
   ],
   "source": [
    "3/2 < 2 # less than"
   ]
  },
  {
   "cell_type": "code",
   "execution_count": 18,
   "id": "1c3b7de0",
   "metadata": {},
   "outputs": [
    {
     "data": {
      "text/plain": [
       "False"
      ]
     },
     "execution_count": 18,
     "metadata": {},
     "output_type": "execute_result"
    }
   ],
   "source": [
    "3/2 > 2 # more than"
   ]
  },
  {
   "cell_type": "code",
   "execution_count": 19,
   "id": "8feaa0e7",
   "metadata": {},
   "outputs": [
    {
     "data": {
      "text/plain": [
       "False"
      ]
     },
     "execution_count": 19,
     "metadata": {},
     "output_type": "execute_result"
    }
   ],
   "source": [
    "5/2 <= 2 # less than or equal to"
   ]
  },
  {
   "cell_type": "code",
   "execution_count": 20,
   "id": "72dd40ff",
   "metadata": {},
   "outputs": [
    {
     "data": {
      "text/plain": [
       "True"
      ]
     },
     "execution_count": 20,
     "metadata": {},
     "output_type": "execute_result"
    }
   ],
   "source": [
    "5/2 >= 2 # more than or equal to"
   ]
  },
  {
   "cell_type": "code",
   "execution_count": 23,
   "id": "bf523589",
   "metadata": {},
   "outputs": [
    {
     "data": {
      "text/plain": [
       "True"
      ]
     },
     "execution_count": 23,
     "metadata": {},
     "output_type": "execute_result"
    }
   ],
   "source": [
    "x=10\n",
    "5 < x < 15 < 20 # Python can read multiple math operations in the same line"
   ]
  },
  {
   "cell_type": "code",
   "execution_count": 1,
   "id": "d1de8d5b",
   "metadata": {},
   "outputs": [
    {
     "name": "stdout",
     "output_type": "stream",
     "text": [
      "52.0\n"
     ]
    }
   ],
   "source": [
    "print(5*10+20/10) # Python can follow order of operations"
   ]
  },
  {
   "cell_type": "markdown",
   "id": "ea00e1dc",
   "metadata": {},
   "source": [
    "Restarted kernel to fix print error\n",
    "\n",
    "Typed `5*10+20/10` without print()\n",
    "\n",
    "Brackets can also be used to improve readability `(x<5) and (x>15)` for `5<x<15`"
   ]
  },
  {
   "cell_type": "markdown",
   "id": "48b61068",
   "metadata": {},
   "source": [
    "# 4 Python stores information in different formats or types"
   ]
  },
  {
   "cell_type": "code",
   "execution_count": 2,
   "id": "a628f607",
   "metadata": {},
   "outputs": [
    {
     "name": "stdout",
     "output_type": "stream",
     "text": [
      "1 <class 'int'>\n"
     ]
    }
   ],
   "source": [
    "x = int(1.234) # stores 1.234 as an integer x (rounds to nearest whole number)\n",
    "print(x, type(x)) # prints x as well as its class/type (int = integer)"
   ]
  },
  {
   "cell_type": "code",
   "execution_count": 3,
   "id": "59ca1217",
   "metadata": {},
   "outputs": [
    {
     "name": "stdout",
     "output_type": "stream",
     "text": [
      "1.234 <class 'str'>\n"
     ]
    }
   ],
   "source": [
    "x = str(1.234) # stores 1.234 as a string x (text/number string)\n",
    "print(x, type(x)) # str = string"
   ]
  },
  {
   "cell_type": "code",
   "execution_count": 4,
   "id": "45858e94",
   "metadata": {},
   "outputs": [
    {
     "name": "stdout",
     "output_type": "stream",
     "text": [
      "1.234 <class 'float'>\n"
     ]
    }
   ],
   "source": [
    "x = float(1.234) # stores 1.234 as a float x (floating decimal number)\n",
    "print (x, type(x))"
   ]
  },
  {
   "cell_type": "code",
   "execution_count": 5,
   "id": "b45d3459",
   "metadata": {},
   "outputs": [
    {
     "name": "stdout",
     "output_type": "stream",
     "text": [
      "(1.234+0j) <class 'complex'>\n"
     ]
    }
   ],
   "source": [
    "x = complex(1.234) # stores 1.234 as a complex number x (real + imaginary number)\n",
    "print (x, type(x))"
   ]
  },
  {
   "cell_type": "code",
   "execution_count": 7,
   "id": "438aa8d8",
   "metadata": {},
   "outputs": [
    {
     "name": "stdout",
     "output_type": "stream",
     "text": [
      "(1.234+0j) <class 'complex'>\n"
     ]
    },
    {
     "ename": "TypeError",
     "evalue": "float() argument must be a string or a real number, not 'complex'",
     "output_type": "error",
     "traceback": [
      "\u001b[1;31m---------------------------------------------------------------------------\u001b[0m",
      "\u001b[1;31mTypeError\u001b[0m                                 Traceback (most recent call last)",
      "Cell \u001b[1;32mIn[7], line 2\u001b[0m\n\u001b[0;32m      1\u001b[0m \u001b[38;5;28mprint\u001b[39m (x, \u001b[38;5;28mtype\u001b[39m(x))\n\u001b[1;32m----> 2\u001b[0m x \u001b[38;5;241m=\u001b[39m \u001b[38;5;28;43mfloat\u001b[39;49m\u001b[43m(\u001b[49m\u001b[43mx\u001b[49m\u001b[43m)\u001b[49m\n",
      "\u001b[1;31mTypeError\u001b[0m: float() argument must be a string or a real number, not 'complex'"
     ]
    }
   ],
   "source": [
    "print (x, type(x))\n",
    "x = float(x) # cannot convert complex to float, as float argument must be a string or real number"
   ]
  },
  {
   "cell_type": "code",
   "execution_count": 10,
   "id": "73e2ca7c",
   "metadata": {},
   "outputs": [
    {
     "name": "stdout",
     "output_type": "stream",
     "text": [
      "10.5 <class 'float'>\n",
      "10 <class 'int'>\n"
     ]
    }
   ],
   "source": [
    "x = 10.5 # if x = an integer, it is assigned int type, if = a decimal, it is assigned float type\n",
    "print(x, type(x))\n",
    "\n",
    "x = int(x) # typecasting x from a float to an int\n",
    "print(x, type(x))"
   ]
  },
  {
   "cell_type": "code",
   "execution_count": 13,
   "id": "7ea3eae1",
   "metadata": {},
   "outputs": [
    {
     "name": "stdout",
     "output_type": "stream",
     "text": [
      "(10+1j) <class 'complex'>\n"
     ]
    },
    {
     "ename": "TypeError",
     "evalue": "int() argument must be a string, a bytes-like object or a real number, not 'complex'",
     "output_type": "error",
     "traceback": [
      "\u001b[1;31m---------------------------------------------------------------------------\u001b[0m",
      "\u001b[1;31mTypeError\u001b[0m                                 Traceback (most recent call last)",
      "Cell \u001b[1;32mIn[13], line 4\u001b[0m\n\u001b[0;32m      1\u001b[0m x \u001b[38;5;241m=\u001b[39m \u001b[38;5;241m10\u001b[39m\u001b[38;5;241m+\u001b[39m\u001b[38;5;241m1\u001b[39mj\n\u001b[0;32m      2\u001b[0m \u001b[38;5;28mprint\u001b[39m (x, \u001b[38;5;28mtype\u001b[39m(x))\n\u001b[1;32m----> 4\u001b[0m x \u001b[38;5;241m=\u001b[39m \u001b[38;5;28;43mint\u001b[39;49m\u001b[43m(\u001b[49m\u001b[43mx\u001b[49m\u001b[43m)\u001b[49m\n\u001b[0;32m      5\u001b[0m \u001b[38;5;28mprint\u001b[39m(x, \u001b[38;5;28mtype\u001b[39m(x))\n",
      "\u001b[1;31mTypeError\u001b[0m: int() argument must be a string, a bytes-like object or a real number, not 'complex'"
     ]
    }
   ],
   "source": [
    "x = 10+1j\n",
    "print (x, type(x))\n",
    "\n",
    "x = int(x) # cannot convert complex to int or float\n",
    "print(x, type(x))"
   ]
  },
  {
   "cell_type": "markdown",
   "id": "64f62c00",
   "metadata": {},
   "source": [
    "default types:  \n",
    "x = integer `int`  \n",
    "x = 'string' `str`  \n",
    "x = decimal `float`  \n",
    "x = real+imaginary `complex`\n",
    "\n",
    "typecasting:  \n",
    "x = `target_type`(x)\n",
    "\n",
    "double space = line break"
   ]
  },
  {
   "cell_type": "markdown",
   "id": "6da921c9",
   "metadata": {},
   "source": [
    "# 5 Never compare floats directly"
   ]
  },
  {
   "cell_type": "markdown",
   "id": "873c1e65",
   "metadata": {},
   "source": [
    "## 5.1 The Problem"
   ]
  },
  {
   "cell_type": "code",
   "execution_count": 15,
   "id": "e762a573",
   "metadata": {},
   "outputs": [
    {
     "data": {
      "text/plain": [
       "False"
      ]
     },
     "execution_count": 15,
     "metadata": {},
     "output_type": "execute_result"
    }
   ],
   "source": [
    "a=0.1\n",
    "a3=0.3\n",
    "a*3 == a3 # example of a roundoff error where 3*0.1 != 0.3"
   ]
  },
  {
   "cell_type": "code",
   "execution_count": 17,
   "id": "d944c23f",
   "metadata": {},
   "outputs": [
    {
     "data": {
      "text/plain": [
       "'0.29999999999999999'"
      ]
     },
     "execution_count": 17,
     "metadata": {},
     "output_type": "execute_result"
    }
   ],
   "source": [
    "f'{0.3:.17f}' # prints 0.3 to 17 decimal places"
   ]
  },
  {
   "cell_type": "code",
   "execution_count": 24,
   "id": "60fd5df9",
   "metadata": {},
   "outputs": [
    {
     "data": {
      "text/plain": [
       "'0.1000000000000000'"
      ]
     },
     "execution_count": 24,
     "metadata": {},
     "output_type": "execute_result"
    }
   ],
   "source": [
    "f'{0.1:.16f}' # floating decimals stored accurate to 16 decimal places only"
   ]
  },
  {
   "cell_type": "markdown",
   "id": "2d6f696b",
   "metadata": {},
   "source": [
    "## 5.2 A solution"
   ]
  },
  {
   "cell_type": "code",
   "execution_count": 25,
   "id": "8d43a97e",
   "metadata": {},
   "outputs": [
    {
     "data": {
      "text/plain": [
       "True"
      ]
     },
     "execution_count": 25,
     "metadata": {},
     "output_type": "execute_result"
    }
   ],
   "source": [
    "eps = 1E-10 # margin for error set at 1E-10\n",
    "abs(a*3-a3) < eps # absolute difference of a*3 and a3 is compared to the margin for error"
   ]
  },
  {
   "cell_type": "markdown",
   "id": "306ef826",
   "metadata": {},
   "source": [
    "above code checks if the two numbers are close rather than equal  \n",
    "if the difference is smaller than 1E-10, the code will return true"
   ]
  },
  {
   "cell_type": "code",
   "execution_count": 26,
   "id": "aa7c5d6b",
   "metadata": {},
   "outputs": [
    {
     "data": {
      "text/plain": [
       "True"
      ]
     },
     "execution_count": 26,
     "metadata": {},
     "output_type": "execute_result"
    }
   ],
   "source": [
    "import numpy as np\n",
    "np.isclose(a*3, a3) # utilises isclose function from numpy to check if two numbers are close"
   ]
  },
  {
   "cell_type": "markdown",
   "id": "d4a8113b",
   "metadata": {},
   "source": [
    "does import have to be run each time the kernel is restarted for the imported package functions to work?"
   ]
  },
  {
   "cell_type": "code",
   "execution_count": 37,
   "id": "581b7538",
   "metadata": {},
   "outputs": [
    {
     "data": {
      "text/plain": [
       "True"
      ]
     },
     "execution_count": 37,
     "metadata": {},
     "output_type": "execute_result"
    }
   ],
   "source": [
    "np.isclose(0.00000001, 0.00000002)"
   ]
  },
  {
   "cell_type": "markdown",
   "id": "27598ebe",
   "metadata": {},
   "source": [
    "numpy.isclose is accurate to 0.0000001 (1E-7); if the difference is smaller than that, it will return true"
   ]
  },
  {
   "cell_type": "markdown",
   "id": "a8cdd6bc",
   "metadata": {},
   "source": [
    "# 6 Combining English and variables"
   ]
  },
  {
   "cell_type": "code",
   "execution_count": 40,
   "id": "fe8f81af",
   "metadata": {},
   "outputs": [
    {
     "name": "stdout",
     "output_type": "stream",
     "text": [
      "Hello Ziyan!\n"
     ]
    }
   ],
   "source": [
    "name = 'Ziyan' # name is a variable of class str\n",
    "print(f\"Hello {name}!\") # str variable name is incorporated into the English string to be printed using string interpolation"
   ]
  },
  {
   "cell_type": "code",
   "execution_count": 41,
   "id": "16749d20",
   "metadata": {},
   "outputs": [
    {
     "name": "stdout",
     "output_type": "stream",
     "text": [
      "<class 'str'>\n"
     ]
    }
   ],
   "source": [
    "print(type(name))"
   ]
  },
  {
   "cell_type": "code",
   "execution_count": 42,
   "id": "08677111",
   "metadata": {},
   "outputs": [
    {
     "name": "stdout",
     "output_type": "stream",
     "text": [
      "Hello 42!\n"
     ]
    }
   ],
   "source": [
    "name = 42 # int variable\n",
    "print(f\"Hello {name}!\") # int variable incorporated into string using f{}"
   ]
  },
  {
   "cell_type": "code",
   "execution_count": 43,
   "id": "dd6e41a8",
   "metadata": {},
   "outputs": [
    {
     "name": "stdout",
     "output_type": "stream",
     "text": [
      "<class 'int'>\n"
     ]
    }
   ],
   "source": [
    "print(type(name))"
   ]
  },
  {
   "cell_type": "code",
   "execution_count": 48,
   "id": "dd2be2a3",
   "metadata": {},
   "outputs": [
    {
     "name": "stdout",
     "output_type": "stream",
     "text": [
      "Hello ZIYAN\n"
     ]
    }
   ],
   "source": [
    "name = 'Ziyan'\n",
    "print (f\"Hello {name.upper()}\") # changes name str to uppercase"
   ]
  },
  {
   "cell_type": "code",
   "execution_count": 46,
   "id": "4c60b68c",
   "metadata": {},
   "outputs": [
    {
     "name": "stdout",
     "output_type": "stream",
     "text": [
      "Hello ziyan\n"
     ]
    }
   ],
   "source": [
    "name = \"ZIYAN\"\n",
    "print (f\"Hello {name.lower()}\") # changes name str to lowercase"
   ]
  },
  {
   "cell_type": "code",
   "execution_count": 51,
   "id": "d7f2418f",
   "metadata": {},
   "outputs": [
    {
     "name": "stdout",
     "output_type": "stream",
     "text": [
      "The value of 2.5 squared is 6.25\n"
     ]
    }
   ],
   "source": [
    "x=2.5\n",
    "print (f\"The value of {x} squared is {x**2}\") # works for different int/float values of x"
   ]
  },
  {
   "cell_type": "markdown",
   "id": "ff0de526",
   "metadata": {},
   "source": [
    "inclusion of `f` and `{}` (f-string/string interpolation) allows merging of variables and strings  \n",
    "`f` = treat `{}` within strings as variables"
   ]
  },
  {
   "cell_type": "markdown",
   "id": "c2449d0d",
   "metadata": {},
   "source": [
    "## 6.1 Structure of f-strings"
   ]
  },
  {
   "cell_type": "code",
   "execution_count": 2,
   "id": "fa1b8e79",
   "metadata": {},
   "outputs": [
    {
     "name": "stdout",
     "output_type": "stream",
     "text": [
      "I'm about to fall asleep.\n"
     ]
    }
   ],
   "source": [
    "text = 'I\\'m about to fall asleep.'\n",
    "print (text)"
   ]
  },
  {
   "cell_type": "code",
   "execution_count": 71,
   "id": "038b525e",
   "metadata": {},
   "outputs": [
    {
     "name": "stdout",
     "output_type": "stream",
     "text": [
      "                         I'm about to fall asleep.\n"
     ]
    }
   ],
   "source": [
    "print (f'{text:>50}') # :>50 indents text to the centre of a block of 50 characters"
   ]
  },
  {
   "cell_type": "code",
   "execution_count": 73,
   "id": "d794fe98",
   "metadata": {},
   "outputs": [
    {
     "name": "stdout",
     "output_type": "stream",
     "text": [
      "I'm about to fall asleep.0\n"
     ]
    }
   ],
   "source": [
    "print (f'{text:0^26}') # ^ indents text to the centre"
   ]
  },
  {
   "cell_type": "code",
   "execution_count": 3,
   "id": "a9fd5a42-c255-4faa-8ae8-e9c0e10e7b8e",
   "metadata": {},
   "outputs": [
    {
     "name": "stdout",
     "output_type": "stream",
     "text": [
      "0I'm about to fall asleep.0\n"
     ]
    }
   ],
   "source": [
    "print (f'{text:0^27}') # 2 remaining characters in the block -- centres properly now"
   ]
  },
  {
   "cell_type": "code",
   "execution_count": 66,
   "id": "9e6235ac",
   "metadata": {},
   "outputs": [
    {
     "name": "stdout",
     "output_type": "stream",
     "text": [
      "I'm about to fall asleep.                         \n"
     ]
    }
   ],
   "source": [
    "print (f'{text:<50}') # < indents text to the left"
   ]
  },
  {
   "cell_type": "code",
   "execution_count": 68,
   "id": "e8826ff7",
   "metadata": {},
   "outputs": [
    {
     "name": "stdout",
     "output_type": "stream",
     "text": [
      "The square root of pi to 3 decimal places is 1.772\n"
     ]
    }
   ],
   "source": [
    "print (f'The square root of pi to 3 decimal places is {np.sqrt(np.pi):0.3f}') # f-string formatted result to a float to 3 d.p."
   ]
  },
  {
   "cell_type": "code",
   "execution_count": 69,
   "id": "ee147554",
   "metadata": {},
   "outputs": [
    {
     "name": "stdout",
     "output_type": "stream",
     "text": [
      "The square root of pi to 4 d.p. is 1.7725e+00\n"
     ]
    }
   ],
   "source": [
    "print (f'The square root of pi to 4 d.p. is {np.sqrt(np.pi):.4e}') # e outputs scientific notation"
   ]
  },
  {
   "cell_type": "markdown",
   "id": "c64f3c53",
   "metadata": {},
   "source": [
    "indent does not work if the block of characters specified is shorter than the str  \n",
    "if asked to indent centre with an odd remaining amount of characters, it will put the last character on the right  \n",
    "pi needs to be taken from numpy\n",
    "\n",
    "formatting is in the form `X:>0Y.ZW`  \n",
    "`X` = variable to be formatted, can be number or string  \n",
    "`>` `^` `<` = (indent) justify direction  \n",
    "`0` = (indent) fills empty spaces with this character (in this case `0`). by default ` ` is used  \n",
    "`Y` = total number of characters  \n",
    "`.Z` = (decimal) number of decimal places  \n",
    "`W` = output variable type  \n",
    "(`f` = float ; `e` = scientific (notation) ; `d` = integer ; `s` = string ; `g` = Python's decision)"
   ]
  },
  {
   "cell_type": "code",
   "execution_count": 5,
   "id": "201ebc0b-df37-444f-b379-d20d15ffce40",
   "metadata": {},
   "outputs": [
    {
     "name": "stdout",
     "output_type": "stream",
     "text": [
      " let's see 00003.1416\n"
     ]
    }
   ],
   "source": [
    "import numpy as np\n",
    "print(f\" let's see {np.pi:010.4f}\") \n",
    "# product represented by float to 4 decimal places as part of a block of 10 characters with 0 filling blanks on the left"
   ]
  },
  {
   "cell_type": "markdown",
   "id": "7866882a",
   "metadata": {},
   "source": [
    "# 7 Escape sequences"
   ]
  },
  {
   "cell_type": "code",
   "execution_count": 5,
   "id": "5f485b4f",
   "metadata": {},
   "outputs": [
    {
     "name": "stdout",
     "output_type": "stream",
     "text": [
      "Line1\tLine2\n",
      "Line3\n"
     ]
    }
   ],
   "source": [
    "print('Line1\\tLine2\\nLine3')"
   ]
  },
  {
   "cell_type": "code",
   "execution_count": 12,
   "id": "5969f72b",
   "metadata": {},
   "outputs": [
    {
     "name": "stdout",
     "output_type": "stream",
     "text": [
      "g'day\n",
      "C:\\backslash\n",
      "Hello\n",
      "HELLO\n",
      "H E L L O\n",
      "one\ttwo\tthree\tfour\n"
     ]
    }
   ],
   "source": [
    "print('g\\'day')\n",
    "print(\"C:\\\\backslash\")\n",
    "print('Hello\\nHELLO\\nH E L L O')\n",
    "print('one\\ttwo\\tthree\\tfour')"
   ]
  },
  {
   "cell_type": "markdown",
   "id": "8120627b",
   "metadata": {},
   "source": [
    "Escape sequences (marked in code using `\\`)\n",
    "\n",
    "apostrophe `\\'`  \n",
    "backslash `\\\\`  \n",
    "line break `\\n`  \n",
    "line tab `\\t`"
   ]
  },
  {
   "cell_type": "markdown",
   "id": "e3e02997",
   "metadata": {},
   "source": [
    "# 8 Computers read = from Right to Left!"
   ]
  },
  {
   "cell_type": "code",
   "execution_count": 13,
   "id": "31764c67",
   "metadata": {},
   "outputs": [
    {
     "name": "stdout",
     "output_type": "stream",
     "text": [
      "42\n"
     ]
    }
   ],
   "source": [
    "x = 40\n",
    "y = x+2\n",
    "print(y)"
   ]
  },
  {
   "cell_type": "code",
   "execution_count": 6,
   "id": "883de9f5",
   "metadata": {},
   "outputs": [
    {
     "name": "stdout",
     "output_type": "stream",
     "text": [
      "42\n"
     ]
    }
   ],
   "source": [
    "y=40\n",
    "y=y+2 # variable y was modified from 40 to 40+2 in this line (interpreted 40+2 before assigning it to y)\n",
    "print(y)"
   ]
  },
  {
   "cell_type": "code",
   "execution_count": 15,
   "id": "14f7a4b3",
   "metadata": {},
   "outputs": [
    {
     "name": "stdout",
     "output_type": "stream",
     "text": [
      "10 10\n"
     ]
    }
   ],
   "source": [
    "x = y = 10 # Python allows 2 =\n",
    "print(x,y)"
   ]
  },
  {
   "cell_type": "code",
   "execution_count": 16,
   "id": "93dce8ea",
   "metadata": {},
   "outputs": [
    {
     "ename": "SyntaxError",
     "evalue": "cannot assign to literal here. Maybe you meant '==' instead of '='? (427382889.py, line 1)",
     "output_type": "error",
     "traceback": [
      "\u001b[1;36m  Cell \u001b[1;32mIn[16], line 1\u001b[1;36m\u001b[0m\n\u001b[1;33m    40 = x\u001b[0m\n\u001b[1;37m    ^\u001b[0m\n\u001b[1;31mSyntaxError\u001b[0m\u001b[1;31m:\u001b[0m cannot assign to literal here. Maybe you meant '==' instead of '='?\n"
     ]
    }
   ],
   "source": [
    "40 = x # testing if 40 = x works?\n",
    "x + 2 = y\n",
    "print(y)"
   ]
  },
  {
   "cell_type": "code",
   "execution_count": 8,
   "id": "f3e62d05",
   "metadata": {},
   "outputs": [
    {
     "data": {
      "text/plain": [
       "True"
      ]
     },
     "execution_count": 8,
     "metadata": {},
     "output_type": "execute_result"
    }
   ],
   "source": [
    "x = 40\n",
    "x+2 == y # ran a cell previously that assigned y=42"
   ]
  },
  {
   "cell_type": "markdown",
   "id": "ba4a1647",
   "metadata": {},
   "source": [
    "# 9 Shorter and Cleaner Code"
   ]
  },
  {
   "cell_type": "code",
   "execution_count": 20,
   "id": "f2068d3f",
   "metadata": {},
   "outputs": [
    {
     "data": {
      "text/plain": [
       "12"
      ]
     },
     "execution_count": 20,
     "metadata": {},
     "output_type": "execute_result"
    }
   ],
   "source": [
    "y = 10\n",
    "y +=2 # += changes variable y by adding 2 to it\n",
    "y"
   ]
  },
  {
   "cell_type": "code",
   "execution_count": 21,
   "id": "f47ad359",
   "metadata": {},
   "outputs": [
    {
     "data": {
      "text/plain": [
       "8"
      ]
     },
     "execution_count": 21,
     "metadata": {},
     "output_type": "execute_result"
    }
   ],
   "source": [
    "y = 10\n",
    "y -= 2 # -= changes variable y by subtracting 2 from it\n",
    "y"
   ]
  },
  {
   "cell_type": "code",
   "execution_count": 22,
   "id": "39e612f6",
   "metadata": {},
   "outputs": [
    {
     "data": {
      "text/plain": [
       "20"
      ]
     },
     "execution_count": 22,
     "metadata": {},
     "output_type": "execute_result"
    }
   ],
   "source": [
    "y = 10\n",
    "y *= 2 # *= changes variable y by multiplying it by 2\n",
    "y"
   ]
  },
  {
   "cell_type": "code",
   "execution_count": 26,
   "id": "33cad6ef",
   "metadata": {},
   "outputs": [
    {
     "data": {
      "text/plain": [
       "5"
      ]
     },
     "execution_count": 26,
     "metadata": {},
     "output_type": "execute_result"
    }
   ],
   "source": [
    "y = 10\n",
    "y /= 2 # /= changes variable y by dividing it by 2\n",
    "y = int(y) # cannot use = int(y) in the same line as /=\n",
    "y"
   ]
  },
  {
   "cell_type": "markdown",
   "id": "b1680acd-d82a-4ccb-8272-0e0652e74f2f",
   "metadata": {},
   "source": [
    "most languages support `+=`, `-=`, `*=`, and `/=`"
   ]
  },
  {
   "cell_type": "markdown",
   "id": "1fc75422",
   "metadata": {},
   "source": [
    "# 10 Python can be a prima-donna."
   ]
  },
  {
   "cell_type": "markdown",
   "id": "12c736a2-1372-4e79-ab4e-0fb4ce8916aa",
   "metadata": {},
   "source": [
    "scroll down to the last line to identify the bug in the code"
   ]
  },
  {
   "cell_type": "markdown",
   "id": "d1751c37",
   "metadata": {},
   "source": [
    "# 11 Best Practices for Scientific Computing"
   ]
  },
  {
   "cell_type": "markdown",
   "id": "dde6bf35",
   "metadata": {},
   "source": [
    "write code in an understandable way with comments/markdown to assist understanding (WHY rather than WHAT)  \n",
    "focus on finding a solution before improving on it later"
   ]
  },
  {
   "cell_type": "markdown",
   "id": "53c7e9e6",
   "metadata": {},
   "source": [
    "# 12 Looking for help"
   ]
  },
  {
   "cell_type": "markdown",
   "id": "8b1f6e07",
   "metadata": {},
   "source": [
    "use [stack overflow](https://stackoverflow.com/), [ChatGPT](https://chat.openai.com/), or [Google](https://www.google.com/)"
   ]
  },
  {
   "cell_type": "markdown",
   "id": "225f1a70",
   "metadata": {},
   "source": [
    "## References"
   ]
  },
  {
   "cell_type": "markdown",
   "id": "58c3e13b",
   "metadata": {},
   "source": [
    "## Footnotes"
   ]
  }
 ],
 "metadata": {
  "kernelspec": {
   "display_name": "Python 3 (ipykernel)",
   "language": "python",
   "name": "python3"
  },
  "language_info": {
   "codemirror_mode": {
    "name": "ipython",
    "version": 3
   },
   "file_extension": ".py",
   "mimetype": "text/x-python",
   "name": "python",
   "nbconvert_exporter": "python",
   "pygments_lexer": "ipython3",
   "version": "3.11.5"
  },
  "toc": {
   "base_numbering": 1,
   "nav_menu": {},
   "number_sections": true,
   "sideBar": true,
   "skip_h1_title": false,
   "title_cell": "Table of Contents",
   "title_sidebar": "Contents",
   "toc_cell": false,
   "toc_position": {},
   "toc_section_display": true,
   "toc_window_display": false
  },
  "varInspector": {
   "cols": {
    "lenName": 16,
    "lenType": 16,
    "lenVar": 40
   },
   "kernels_config": {
    "python": {
     "delete_cmd_postfix": "",
     "delete_cmd_prefix": "del ",
     "library": "var_list.py",
     "varRefreshCmd": "print(var_dic_list())"
    },
    "r": {
     "delete_cmd_postfix": ") ",
     "delete_cmd_prefix": "rm(",
     "library": "var_list.r",
     "varRefreshCmd": "cat(var_dic_list()) "
    }
   },
   "types_to_exclude": [
    "module",
    "function",
    "builtin_function_or_method",
    "instance",
    "_Feature"
   ],
   "window_display": false
  },
  "vscode": {
   "interpreter": {
    "hash": "31f2aee4e71d21fbe5cf8b01ff0e069b9275f58929596ceb00d14d90e3e16cd6"
   }
  }
 },
 "nbformat": 4,
 "nbformat_minor": 5
}
