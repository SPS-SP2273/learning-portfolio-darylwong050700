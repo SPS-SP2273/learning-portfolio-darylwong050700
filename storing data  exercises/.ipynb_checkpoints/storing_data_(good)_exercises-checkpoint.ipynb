{
 "cells": [
  {
   "attachments": {},
   "cell_type": "markdown",
   "id": "123456",
   "metadata": {},
   "source": [
    "<div style=\"text-align:left;font-size:2em\"><span style=\"font-weight:bolder;font-size:1.25em\">SP2273 | Learning Portfolio</span><br><br><span style=\"font-weight:bold;color:darkred\">Storing Data (Good) Exercises</span></div>"
   ]
  },
  {
   "cell_type": "markdown",
   "id": "81e3177c-351b-4656-b73a-9c48baab9540",
   "metadata": {},
   "source": [
    "## Exercise 1 (Total Recall)"
   ]
  },
  {
   "cell_type": "markdown",
   "id": "fc27522c-6b97-442d-949f-86ee96bb4964",
   "metadata": {},
   "source": [
    "| Term       | Brief Description                                                 |\r\n",
    "|------------|-------------------------------------------------------------------|\r\n",
    "| Subsetting | Selecting one or a a range of data elements from a list or array. |\r\n",
    "| Indexing   | Selecting a single data element from a list or array.             |\r\n",
    "| Slicing    | Selecting a range of data elements from a list of array.          |\r\n",
    "| Masking    | Filtering a list or array by given condition(s).                  |"
   ]
  },
  {
   "cell_type": "code",
   "execution_count": 1,
   "id": "9db2b5ca-a3e9-4046-848f-329419809f33",
   "metadata": {},
   "outputs": [
    {
     "name": "stdout",
     "output_type": "stream",
     "text": [
      "['A' 'C' 'E' 'G' 'I']\n"
     ]
    }
   ],
   "source": [
    "import numpy as np # must import Numpy to use Numpy arrays\n",
    "\n",
    "np_array_2d = np.array([[1, \"A\"], [3, \"C\"], [2, \"B\"], [4, \"D\"],\n",
    "                        [5, \"E\"], [7, \"G\"], [6, \"F\"], [8, \"H\"],\n",
    "                        [10, \"J\"], [9, \"I\"]]) # 2D array to be worked on\n",
    "\n",
    "x=np_array_2d[:,0] # extracted the first entry (number) in each element in the original array to a new array x to check for odd numbers\n",
    "y=x.astype(int) # created a different array y with the elements in array x changed to int type to perform division later\n",
    "z=y%2 # created a different array z with the elements in array y divided by 2 and taking their remainder to identify odd numbers\n",
    "mask = z == 1 # subsetting array z to assign True to elements with remainder 1\n",
    "\n",
    "print(np_array_2d[mask == True][:,1]) # used the mask to filter the original array, and sliced for the second entry (letter) in each element"
   ]
  }
 ],
 "metadata": {
  "kernelspec": {
   "display_name": "Python 3 (ipykernel)",
   "language": "python",
   "name": "python3"
  },
  "language_info": {
   "codemirror_mode": {
    "name": "ipython",
    "version": 3
   },
   "file_extension": ".py",
   "mimetype": "text/x-python",
   "name": "python",
   "nbconvert_exporter": "python",
   "pygments_lexer": "ipython3",
   "version": "3.11.5"
  },
  "toc": {
   "base_numbering": 1,
   "nav_menu": {},
   "number_sections": true,
   "sideBar": true,
   "skip_h1_title": false,
   "title_cell": "Table of Contents",
   "title_sidebar": "Contents",
   "toc_cell": false,
   "toc_position": {},
   "toc_section_display": true,
   "toc_window_display": false
  },
  "vscode": {
   "interpreter": {
    "hash": "31f2aee4e71d21fbe5cf8b01ff0e069b9275f58929596ceb00d14d90e3e16cd6"
   }
  }
 },
 "nbformat": 4,
 "nbformat_minor": 5
}
