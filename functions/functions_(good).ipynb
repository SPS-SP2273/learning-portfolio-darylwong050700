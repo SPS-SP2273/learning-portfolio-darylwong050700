{
 "cells": [
  {
   "attachments": {},
   "cell_type": "markdown",
   "id": "123456",
   "metadata": {},
   "source": [
    "<div style=\"text-align:left;font-size:2em\"><span style=\"font-weight:bolder;font-size:1.25em\">SP2273 | Learning Portfolio</span><br><br><span style=\"font-weight:bold;color:darkred\">Functions (Good)</span></div>"
   ]
  },
  {
   "attachments": {},
   "cell_type": "markdown",
   "id": "c116f267",
   "metadata": {},
   "source": [
    "# What to expect in this chapter"
   ]
  },
  {
   "attachments": {},
   "cell_type": "markdown",
   "id": "a08027b9",
   "metadata": {},
   "source": [
    "# 1 Checks, balances, and contingencies"
   ]
  },
  {
   "cell_type": "markdown",
   "id": "2e5885d4-6f75-4ae2-a3b4-e82290205cd6",
   "metadata": {},
   "source": [
    "checks and balances help to ensure that inputs are free from errors, and to ensure that things are proceeding as planned"
   ]
  },
  {
   "attachments": {},
   "cell_type": "markdown",
   "id": "6321188a",
   "metadata": {},
   "source": [
    "## 1.1 assert"
   ]
  },
  {
   "cell_type": "code",
   "execution_count": 8,
   "id": "71618c9b-b190-4c86-81c8-ca924b9b6caf",
   "metadata": {},
   "outputs": [
    {
     "name": "stdout",
     "output_type": "stream",
     "text": [
      "that's positive thinking\n",
      "keep it up\n"
     ]
    }
   ],
   "source": [
    "def stay_positive(number):\n",
    "    assert number>0, 'that\\'s not very positive...' # if number<0, an error is thrown (stops the rest of the code from running)\n",
    "    print('that\\'s positive thinking')\n",
    "\n",
    "stay_positive(2)\n",
    "print('keep it up') # not run if the stay_positive assert condition is met"
   ]
  },
  {
   "cell_type": "markdown",
   "id": "55486c78-6a0f-4fc9-a4fc-a93b7275d74f",
   "metadata": {},
   "source": [
    "the syntax for `assert`:\n",
    "- `assert condition, message`\n",
    "- `assert` is the command\n",
    "- `condition` is the condition, for which if it is `True`, it halts the entire program\n",
    "- `message` is the error message to be displayed\n",
    "\n",
    "`assert` is a more extreme version of a check to ensure that the code is running as intended, by allowing us to set a condition to stop it if it meets that condition"
   ]
  },
  {
   "attachments": {},
   "cell_type": "markdown",
   "id": "1e172c06",
   "metadata": {},
   "source": [
    "## 1.2 try-except"
   ]
  },
  {
   "cell_type": "code",
   "execution_count": 21,
   "id": "01c8a56b-31ca-4134-827a-f807188dc725",
   "metadata": {},
   "outputs": [
    {
     "name": "stdin",
     "output_type": "stream",
     "text": [
      "Give me a number:  433\n"
     ]
    },
    {
     "name": "stdout",
     "output_type": "stream",
     "text": [
      "try again...\n"
     ]
    }
   ],
   "source": [
    "number=input('Give me a number: ')\n",
    "try:\n",
    "    number=float(number)\n",
    "    if number == 42:\n",
    "        print('cracked the code...')\n",
    "    else:\n",
    "        print('try again...')\n",
    "except:\n",
    "    print('nope.')"
   ]
  },
  {
   "cell_type": "markdown",
   "id": "4586d572-79ab-4b20-929a-87661348ada7",
   "metadata": {},
   "source": [
    "`try` and `except` is a more elegant way of checking for exceptions and handling them in a way you can define  \n",
    "- normally, Python handles exceptions by stopping and providing its own error message\n",
    "- `try-except` can help to prevent the program from accepting unintended inputs and running anyway\n",
    "- `try` -- try this code (in the block) first\n",
    "- `except` -- if the code results in an exception, do this instead\n",
    "\n",
    "allows the program to continue running instead of stopping, instead giving a custom error that can be defined  \n",
    "use cases:\n",
    "- creating a file: `try-except` can check for existing files and overwrite them if desired\n",
    "- handling if server response is slow or negative"
   ]
  },
  {
   "attachments": {},
   "cell_type": "markdown",
   "id": "c998e21c",
   "metadata": {},
   "source": [
    "## 1.3 A simple suggestion"
   ]
  },
  {
   "cell_type": "markdown",
   "id": "ec684b71-0998-40bf-968b-aeba2fb24031",
   "metadata": {},
   "source": [
    "it is worth including signals (using `print()`) to indicate processes happening in the code within each cell  \n",
    "this can act as a check that your program is working as intended  \n",
    "however this slows down the program, which can later be optimised to speed it up"
   ]
  },
  {
   "attachments": {},
   "cell_type": "markdown",
   "id": "272cc514",
   "metadata": {},
   "source": [
    "# 2 Some loose ends"
   ]
  },
  {
   "attachments": {},
   "cell_type": "markdown",
   "id": "ec74f3fd",
   "metadata": {},
   "source": [
    "## 2.1 Positional, keyword and default arguments"
   ]
  },
  {
   "cell_type": "code",
   "execution_count": 37,
   "id": "4a1df4e3-7727-4f31-a5cb-08d43e7b8e9f",
   "metadata": {},
   "outputs": [
    {
     "name": "stdout",
     "output_type": "stream",
     "text": [
      "x is 1, y is 3, z is 2\n",
      "x is 3, y is 2, z is 1\n",
      "x is 1, y is 3, z is 2\n",
      "x is 2, y is 1, z is 3\n"
     ]
    }
   ],
   "source": [
    "def multiarg(x,y,z=3):\n",
    "    return f'x is {x}, y is {y}, z is {z}'\n",
    "\n",
    "print(multiarg(1, z=2, y=3))\n",
    "print(multiarg(z=1, y=2, x=3))\n",
    "print(multiarg(1,3,2))\n",
    "print(multiarg(2,1,z=3))"
   ]
  },
  {
   "cell_type": "code",
   "execution_count": 31,
   "id": "2ac81684-b9cf-405e-95d2-0791d76fa350",
   "metadata": {},
   "outputs": [
    {
     "ename": "TypeError",
     "evalue": "multiarg() got multiple values for argument 'y'",
     "output_type": "error",
     "traceback": [
      "\u001b[1;31m---------------------------------------------------------------------------\u001b[0m",
      "\u001b[1;31mTypeError\u001b[0m                                 Traceback (most recent call last)",
      "Cell \u001b[1;32mIn[31], line 1\u001b[0m\n\u001b[1;32m----> 1\u001b[0m \u001b[43mmultiarg\u001b[49m\u001b[43m(\u001b[49m\u001b[38;5;241;43m2\u001b[39;49m\u001b[43m,\u001b[49m\u001b[38;5;241;43m1\u001b[39;49m\u001b[43m,\u001b[49m\u001b[43my\u001b[49m\u001b[38;5;241;43m=\u001b[39;49m\u001b[38;5;241;43m1\u001b[39;49m\u001b[43m,\u001b[49m\u001b[43mz\u001b[49m\u001b[38;5;241;43m=\u001b[39;49m\u001b[38;5;241;43m3\u001b[39;49m\u001b[43m)\u001b[49m\n",
      "\u001b[1;31mTypeError\u001b[0m: multiarg() got multiple values for argument 'y'"
     ]
    }
   ],
   "source": [
    "multiarg(2,1,y=1,z=3)"
   ]
  },
  {
   "cell_type": "code",
   "execution_count": 34,
   "id": "c8c53ac7-4d97-44db-a1ed-df28c21f7f56",
   "metadata": {},
   "outputs": [
    {
     "ename": "SyntaxError",
     "evalue": "positional argument follows keyword argument (623047489.py, line 1)",
     "output_type": "error",
     "traceback": [
      "\u001b[1;36m  Cell \u001b[1;32mIn[34], line 1\u001b[1;36m\u001b[0m\n\u001b[1;33m    multiarg(2,y=1,3)\u001b[0m\n\u001b[1;37m                    ^\u001b[0m\n\u001b[1;31mSyntaxError\u001b[0m\u001b[1;31m:\u001b[0m positional argument follows keyword argument\n"
     ]
    }
   ],
   "source": [
    "multiarg(2,y=1,3)"
   ]
  },
  {
   "cell_type": "code",
   "execution_count": 35,
   "id": "b0cb4515-a17a-4682-8a2d-4c32489abb24",
   "metadata": {},
   "outputs": [
    {
     "ename": "SyntaxError",
     "evalue": "positional argument follows keyword argument (615241142.py, line 1)",
     "output_type": "error",
     "traceback": [
      "\u001b[1;36m  Cell \u001b[1;32mIn[35], line 1\u001b[1;36m\u001b[0m\n\u001b[1;33m    multiarg(x=1,2,z=3)\u001b[0m\n\u001b[1;37m                      ^\u001b[0m\n\u001b[1;31mSyntaxError\u001b[0m\u001b[1;31m:\u001b[0m positional argument follows keyword argument\n"
     ]
    }
   ],
   "source": [
    "multiarg(x=1,2,z=3)"
   ]
  },
  {
   "cell_type": "code",
   "execution_count": 38,
   "id": "9f1ace3a-5853-469f-9f9c-0dd1eda7319f",
   "metadata": {},
   "outputs": [
    {
     "data": {
      "text/plain": [
       "'x is 1, y is 2, z is 3'"
      ]
     },
     "execution_count": 38,
     "metadata": {},
     "output_type": "execute_result"
    }
   ],
   "source": [
    "multiarg(1,y=2)"
   ]
  },
  {
   "cell_type": "markdown",
   "id": "281051cf-19a1-47a7-b1a0-8ebf2a207dbf",
   "metadata": {},
   "source": [
    "**positional argument**: if none of the parameters before positional arguments are assigned to argument keywords, the default approach is to assign the parameters to the arguments in the function by position of the arguments provided  \n",
    "**keyword argument**: if the parameters are tagged to their keywords, they can be input in any sequence (improves readability)  \n",
    "**default argument**: makes an argument optional, and uses the default argument provided if no input is given\n",
    "\n",
    "a positional argument CANNOT follow a keyword argument, as it creates ambiguity that Python cannot resolve  \n",
    "however, a keyword argument CAN follow a positional argument, assuming there are sufficient expected arguments prior to the keyword argument  \n",
    "multiple parameters cannot be assigned to the same argument  \n",
    "breaking arguments into lines also increases readability while preserving functionality  \n",
    "try to think in a logical manner to expect any errors (e.g. from ambiguity)"
   ]
  },
  {
   "attachments": {},
   "cell_type": "markdown",
   "id": "4165e73e",
   "metadata": {},
   "source": [
    "## 2.2 Docstrings"
   ]
  },
  {
   "cell_type": "code",
   "execution_count": 48,
   "id": "9ec6a9fd-c346-4223-aac8-a679ae2100ff",
   "metadata": {},
   "outputs": [
    {
     "data": {
      "text/plain": [
       "\u001b[1;31mSignature:\u001b[0m \u001b[0mtesting\u001b[0m\u001b[1;33m(\u001b[0m\u001b[0moof\u001b[0m\u001b[1;33m)\u001b[0m\u001b[1;33m\u001b[0m\u001b[1;33m\u001b[0m\u001b[0m\n",
       "\u001b[1;31mDocstring:\u001b[0m this is a test function, try an argument!\n",
       "\u001b[1;31mFile:\u001b[0m      c:\\users\\daryl\\appdata\\local\\temp\\ipykernel_12592\\3103312458.py\n",
       "\u001b[1;31mType:\u001b[0m      function"
      ]
     },
     "metadata": {},
     "output_type": "display_data"
    }
   ],
   "source": [
    "def testing(oof):\n",
    "    '''\n",
    "    this is a test function, try an argument!\n",
    "    '''\n",
    "    return f'{oof}'\n",
    "\n",
    "?testing"
   ]
  },
  {
   "cell_type": "markdown",
   "id": "e6c63ac2-8a6d-4449-8475-990260902141",
   "metadata": {},
   "source": [
    "triple single-quote marks `'''` in separate lines can be put into a function to create a docstring that is shown when the function is called using `help()`  \n",
    "the text in between the 2 lines with `'''` will be the docstring  \n",
    "in Jupyter Notebook, `?(argument)` provides additional information such as the file location and type assigned to the docstring is given"
   ]
  },
  {
   "attachments": {},
   "cell_type": "markdown",
   "id": "fc0205f6",
   "metadata": {},
   "source": [
    "## 2.3 Function are first-class citizens"
   ]
  },
  {
   "cell_type": "code",
   "execution_count": 47,
   "id": "7a7c16f2-7a86-4029-bfa9-d392529bfc46",
   "metadata": {},
   "outputs": [
    {
     "data": {
      "text/plain": [
       "'hello and more'"
      ]
     },
     "execution_count": 47,
     "metadata": {},
     "output_type": "execute_result"
    }
   ],
   "source": [
    "def testing2(add):\n",
    "    return f'{add} and more'\n",
    "\n",
    "def printer(string, testing2):\n",
    "    return testing2(string)\n",
    "\n",
    "printer('hello', testing)"
   ]
  },
  {
   "cell_type": "markdown",
   "id": "0e91ec5f-bc5e-4cd0-bdb0-8328a168a2e5",
   "metadata": {},
   "source": [
    "functions can be passed as arguments to other functions. example for a trigonometry calculator `calc(angle, input_function)`\n",
    "- `angle` can be any number\n",
    "- `input_function` can be defined as a trigonometric function (e.g. `np.sin` or `np.cos`)\n",
    "- this allows the same function `calc` to work differently depending on the function defined in `input_function`\n",
    "- syntax point: when feeding functions as arguments, no brackets are needed (just feed the function directly)\n",
    "  - if the fed function is given its own argument, it will be run on the provided argument and therefore the overall function will not work as intended"
   ]
  },
  {
   "attachments": {},
   "cell_type": "markdown",
   "id": "41d542da",
   "metadata": {},
   "source": [
    "## 2.4 More about unpacking"
   ]
  },
  {
   "cell_type": "code",
   "execution_count": 54,
   "id": "a8d681c2-05ca-4bbf-b460-f61a51c49e9f",
   "metadata": {},
   "outputs": [
    {
     "data": {
      "text/plain": [
       "(4, 2, 0)"
      ]
     },
     "execution_count": 54,
     "metadata": {},
     "output_type": "execute_result"
    }
   ],
   "source": [
    "import numpy as np\n",
    "\n",
    "x,y,z=np.array([4,2,0])\n",
    "x,y,z"
   ]
  },
  {
   "cell_type": "code",
   "execution_count": 55,
   "id": "93cbbfc6-a544-4c13-baf4-e11787b622ea",
   "metadata": {},
   "outputs": [
    {
     "data": {
      "text/plain": [
       "('A', 'b', 'Cc')"
      ]
     },
     "execution_count": 55,
     "metadata": {},
     "output_type": "execute_result"
    }
   ],
   "source": [
    "import numpy as np\n",
    "\n",
    "x,y,z=['A','b','Cc']\n",
    "x,y,z"
   ]
  },
  {
   "cell_type": "code",
   "execution_count": 56,
   "id": "ec17fa73-d090-41da-b415-55dd5b9485bf",
   "metadata": {},
   "outputs": [
    {
     "data": {
      "text/plain": [
       "(1, 2, [3, 4, 5], 6, 7)"
      ]
     },
     "execution_count": 56,
     "metadata": {},
     "output_type": "execute_result"
    }
   ],
   "source": [
    "a,b,*c,d,e=[1,2,3,4,5,6,7]\n",
    "a,b,c,d,e"
   ]
  },
  {
   "cell_type": "code",
   "execution_count": 58,
   "id": "88dd163f-b261-4289-bb2a-75f93b23eff3",
   "metadata": {},
   "outputs": [
    {
     "data": {
      "text/plain": [
       "(1, 2, [3, 4, 5, 6], 7)"
      ]
     },
     "execution_count": 58,
     "metadata": {},
     "output_type": "execute_result"
    }
   ],
   "source": [
    "a,b,*c,d=np.array([1,2,3,4,5,6,7])\n",
    "a,b,c,d"
   ]
  },
  {
   "cell_type": "code",
   "execution_count": 65,
   "id": "4bd7b87f-bc4d-483e-b777-93cf19d645d4",
   "metadata": {},
   "outputs": [
    {
     "data": {
      "text/plain": [
       "(1, 7, 2)"
      ]
     },
     "execution_count": 65,
     "metadata": {},
     "output_type": "execute_result"
    }
   ],
   "source": [
    "a,b,*_,d=np.array([1,2,3,4,5,6,7])\n",
    "a,d,b"
   ]
  },
  {
   "cell_type": "code",
   "execution_count": 64,
   "id": "af6165cf-fe8e-47f0-bb25-4b27bb286b06",
   "metadata": {},
   "outputs": [
    {
     "ename": "ValueError",
     "evalue": "too many values to unpack (expected 5)",
     "output_type": "error",
     "traceback": [
      "\u001b[1;31m---------------------------------------------------------------------------\u001b[0m",
      "\u001b[1;31mValueError\u001b[0m                                Traceback (most recent call last)",
      "Cell \u001b[1;32mIn[64], line 1\u001b[0m\n\u001b[1;32m----> 1\u001b[0m a,b,c,d,f\u001b[38;5;241m=\u001b[39m[\u001b[38;5;241m1\u001b[39m,\u001b[38;5;241m2\u001b[39m,\u001b[38;5;241m3\u001b[39m,\u001b[38;5;241m4\u001b[39m,\u001b[38;5;241m5\u001b[39m,\u001b[38;5;241m6\u001b[39m,\u001b[38;5;241m7\u001b[39m,\u001b[38;5;241m8\u001b[39m,\u001b[38;5;241m9\u001b[39m,\u001b[38;5;241m10\u001b[39m]\n\u001b[0;32m      2\u001b[0m a,b,d,c,f\n",
      "\u001b[1;31mValueError\u001b[0m: too many values to unpack (expected 5)"
     ]
    }
   ],
   "source": [
    "a,b,c,d,f=[1,2,3,4,5,6,7,8,9,10]\n",
    "a,b,d,c,f"
   ]
  },
  {
   "cell_type": "markdown",
   "id": "3b64fb56-7892-410e-95de-33f0cd46d3ab",
   "metadata": {},
   "source": [
    "unpacking can directly assign values from lists and arrays to variables  \n",
    "- sufficient variables must be provided to unpack the list/array\n",
    "- alternatively, `*` can be given to assign all other variables to a given variable as a list\n",
    "- `*_` excludes all variables assigned to it\n",
    "- the `*` and `*_` work by positional argument, Python tries to assign the variables by position first then all other variables are attached to the `*` variable"
   ]
  },
  {
   "cell_type": "code",
   "execution_count": 1,
   "id": "0c653a6a-700d-4816-ba9f-97da90d4d45e",
   "metadata": {},
   "outputs": [],
   "source": [
    "import string"
   ]
  },
  {
   "cell_type": "code",
   "execution_count": 4,
   "id": "6e9d245b-29d6-429a-95c0-5754405ef37c",
   "metadata": {},
   "outputs": [
    {
     "name": "stdout",
     "output_type": "stream",
     "text": [
      "This is a palindrome!\n",
      "This is a palindrome!\n",
      "This is a palindrome!\n"
     ]
    }
   ],
   "source": [
    "def palindrome_check(text):\n",
    "    try:\n",
    "        stringer = str(text)\n",
    "        lowercase = stringer.lower()\n",
    "        intermediate = lowercase.maketrans('','',string.punctuation)\n",
    "        rawspaces = lowercase.translate(intermediate)\n",
    "        raw = rawspaces.replace(' ','')\n",
    "        if raw == raw[::-1]:\n",
    "            return 'This is a palindrome!'\n",
    "        else:\n",
    "            return 'This isn\\'t a palindrome!'\n",
    "    except:\n",
    "        return 'Invalid input...'\n",
    "\n",
    "print(palindrome_check('Did Hannah see bees? Hannah did.'))\n",
    "print(palindrome_check(123.21))\n",
    "print(palindrome_check('Level'))"
   ]
  },
  {
   "cell_type": "code",
   "execution_count": 7,
   "id": "6f5bd1d2-72dd-4c6c-af52-c66077445cb0",
   "metadata": {},
   "outputs": [
    {
     "name": "stdout",
     "output_type": "stream",
     "text": [
      "This is a palindrome!\n",
      "This is a palindrome!\n",
      "This is a palindrome!\n",
      "That's a blank.\n"
     ]
    }
   ],
   "source": [
    "# Updated version to account for blank entries\n",
    "def palindrome_check(text):\n",
    "    try:\n",
    "        stringer = str(text)\n",
    "        lowercase = stringer.lower()\n",
    "        intermediate = lowercase.maketrans('','',string.punctuation)\n",
    "        rawspaces = lowercase.translate(intermediate)\n",
    "        raw = rawspaces.replace(' ','')\n",
    "        if raw.isalnum() == True:\n",
    "            if raw == raw[::-1]:\n",
    "                return 'This is a palindrome!'\n",
    "            else:\n",
    "                return 'This isn\\'t a palindrome!'\n",
    "        else:\n",
    "            return 'That\\'s a blank.'\n",
    "    except:\n",
    "        return 'Invalid input...'\n",
    "\n",
    "print(palindrome_check('Did Hannah see bees? Hannah did.'))\n",
    "print(palindrome_check(123.21))\n",
    "print(palindrome_check('Level'))\n",
    "print(palindrome_check(''))"
   ]
  }
 ],
 "metadata": {
  "kernelspec": {
   "display_name": "Python 3 (ipykernel)",
   "language": "python",
   "name": "python3"
  },
  "language_info": {
   "codemirror_mode": {
    "name": "ipython",
    "version": 3
   },
   "file_extension": ".py",
   "mimetype": "text/x-python",
   "name": "python",
   "nbconvert_exporter": "python",
   "pygments_lexer": "ipython3",
   "version": "3.11.5"
  },
  "toc": {
   "base_numbering": 1,
   "nav_menu": {},
   "number_sections": true,
   "sideBar": true,
   "skip_h1_title": false,
   "title_cell": "Table of Contents",
   "title_sidebar": "Contents",
   "toc_cell": false,
   "toc_position": {},
   "toc_section_display": true,
   "toc_window_display": false
  },
  "vscode": {
   "interpreter": {
    "hash": "31f2aee4e71d21fbe5cf8b01ff0e069b9275f58929596ceb00d14d90e3e16cd6"
   }
  }
 },
 "nbformat": 4,
 "nbformat_minor": 5
}
