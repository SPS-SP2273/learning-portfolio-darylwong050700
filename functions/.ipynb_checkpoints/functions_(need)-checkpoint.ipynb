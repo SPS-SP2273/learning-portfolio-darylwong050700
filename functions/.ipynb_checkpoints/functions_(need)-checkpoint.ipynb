{
 "cells": [
  {
   "attachments": {},
   "cell_type": "markdown",
   "id": "123456",
   "metadata": {},
   "source": [
    "<div style=\"text-align:left;font-size:2em\"><span style=\"font-weight:bolder;font-size:1.25em\">SP2273 | Learning Portfolio</span><br><br><span style=\"font-weight:bold;color:darkred\">Functions (Need)</span></div>"
   ]
  },
  {
   "attachments": {},
   "cell_type": "markdown",
   "id": "88c5224a",
   "metadata": {},
   "source": [
    "# What to expect in this chapter"
   ]
  },
  {
   "cell_type": "markdown",
   "id": "2e12f442-7240-4a21-bd22-96fb266de5d0",
   "metadata": {},
   "source": [
    "functions can be defined by users or come inbuilt with Python (internal functions)"
   ]
  },
  {
   "cell_type": "code",
   "execution_count": 3,
   "id": "b5acb86a-080c-41c1-aa63-5915b6fbde0b",
   "metadata": {},
   "outputs": [],
   "source": [
    "import numpy as np"
   ]
  },
  {
   "attachments": {},
   "cell_type": "markdown",
   "id": "45d272cb",
   "metadata": {},
   "source": [
    "# 1 User-defined functions"
   ]
  },
  {
   "attachments": {},
   "cell_type": "markdown",
   "id": "ebc5188a",
   "metadata": {},
   "source": [
    "## 1.1 Named Functions"
   ]
  },
  {
   "cell_type": "markdown",
   "id": "07a8018d-847a-438e-954a-f5c31801b1ba",
   "metadata": {},
   "source": [
    "`def function(argument):` is used to define a user function\n",
    "- `function` can be replaced with the name of the intended function\n",
    "- `argument` should be replaced by the name of the intended input/variable\n",
    "- `def` is the keyword\n",
    "\n",
    "it can be good practice to assign the inputs to their arguments when calling functions, to ensure clarity when there are multiple arguments"
   ]
  },
  {
   "cell_type": "markdown",
   "id": "eec37741-bfb1-4222-8582-3285a2789614",
   "metadata": {},
   "source": [
    "when calling a function, the input provided in its argument will be used to execute the function  \n",
    "the input argument can also be manually defined as in `function(argument=input)`  \n",
    "functions can also be called from elsewhere using `import`"
   ]
  },
  {
   "attachments": {},
   "cell_type": "markdown",
   "id": "a77a909d",
   "metadata": {},
   "source": [
    "### Named functions that return"
   ]
  },
  {
   "cell_type": "code",
   "execution_count": 2,
   "id": "7170fb14-c5c7-480e-aee8-6797ca6c1f95",
   "metadata": {},
   "outputs": [
    {
     "name": "stdout",
     "output_type": "stream",
     "text": [
      "that's not a number.\n",
      "the square of 14 is 196.\n"
     ]
    }
   ],
   "source": [
    "def squarer(number):\n",
    "    if type(number) == int or type(number) == float:\n",
    "        return f'the square of {number} is {number**2}.'\n",
    "    else:\n",
    "        return 'that\\'s not a number.'\n",
    "\n",
    "print(squarer('string'))\n",
    "print(squarer(14))"
   ]
  },
  {
   "cell_type": "code",
   "execution_count": 23,
   "id": "674f1130-abb9-454a-8bf2-40a151b5a947",
   "metadata": {},
   "outputs": [
    {
     "name": "stdout",
     "output_type": "stream",
     "text": [
      "<class 'list'>\n"
     ]
    },
    {
     "data": {
      "text/plain": [
       "[1, 32456, 1972.235294117647]"
      ]
     },
     "execution_count": 23,
     "metadata": {},
     "output_type": "execute_result"
    }
   ],
   "source": [
    "def desc_stats(set):\n",
    "    set_array=np.array(set)\n",
    "    return [set_array.min(), set_array.max(), set_array.mean()]\n",
    "\n",
    "print(type(desc_stats([1,6,32456,54,3,6,3,65,75,2,4,77,23,532,213,6,2])))\n",
    "desc_stats([1,6,32456,54,3,6,3,65,75,2,4,77,23,532,213,6,2])"
   ]
  },
  {
   "cell_type": "markdown",
   "id": "a38a5e94-682d-404b-9d92-dc251923f51b",
   "metadata": {},
   "source": [
    "`return` outputs a string (if `''` is used), tuple (if a series of numbers delineated with `,`), list (if `[]` is used), or any data type as long as its formatted correctly that can be used for subsequent functions/code  \n",
    "- this is important for defined functions to keep the output for subsequent code\n",
    "- the output can be assigned to a variable in subsequent code as long as it is associated with the function (and its output)\n",
    "- `return` can only be used in functions\n",
    "\n",
    "`print()` only produces an output which cannot be used in subsequent code  \n",
    "- if any code results in no output, `print()` returns the keyword `None`"
   ]
  },
  {
   "attachments": {},
   "cell_type": "markdown",
   "id": "b657ebdb",
   "metadata": {},
   "source": [
    "### Named functions that don’t return"
   ]
  },
  {
   "cell_type": "code",
   "execution_count": 29,
   "id": "3028e618",
   "metadata": {},
   "outputs": [
    {
     "name": "stdout",
     "output_type": "stream",
     "text": [
      "\n"
     ]
    }
   ],
   "source": [
    "def thin_air(any):\n",
    "    print( )\n",
    "\n",
    "thin_air(2)"
   ]
  },
  {
   "attachments": {},
   "cell_type": "markdown",
   "id": "b31c3b6c",
   "metadata": {},
   "source": [
    "## 1.2 Anonymous functions"
   ]
  },
  {
   "cell_type": "code",
   "execution_count": 32,
   "id": "094d4649-b745-4973-8cb6-7182115e9aa5",
   "metadata": {},
   "outputs": [
    {
     "data": {
      "text/plain": [
       "'mickey what?'"
      ]
     },
     "execution_count": 32,
     "metadata": {},
     "output_type": "execute_result"
    }
   ],
   "source": [
    "false_lambda = lambda input: f'{input} what?'\n",
    "false_lambda('mickey')"
   ]
  },
  {
   "cell_type": "code",
   "execution_count": 33,
   "id": "62f393ef-8d2f-400a-9646-61a4c54a1eb7",
   "metadata": {},
   "outputs": [],
   "source": [
    "numbers=[[9, 0, -10],\n",
    "         [8, 1, -11],\n",
    "         [7, 2, -12],\n",
    "         [6, 3, -13],\n",
    "         [5, 4, -14],\n",
    "         [4, 5, -15],\n",
    "         [3, 6, -16],\n",
    "         [2, 7, -17],\n",
    "         [1, 8, -18],\n",
    "         [0, 9, -19]]"
   ]
  },
  {
   "cell_type": "code",
   "execution_count": 34,
   "id": "720fc341-8587-49c1-868b-81dcfffedb5b",
   "metadata": {},
   "outputs": [
    {
     "data": {
      "text/plain": [
       "[[0, 9, -19],\n",
       " [1, 8, -18],\n",
       " [2, 7, -17],\n",
       " [3, 6, -16],\n",
       " [4, 5, -15],\n",
       " [5, 4, -14],\n",
       " [6, 3, -13],\n",
       " [7, 2, -12],\n",
       " [8, 1, -11],\n",
       " [9, 0, -10]]"
      ]
     },
     "execution_count": 34,
     "metadata": {},
     "output_type": "execute_result"
    }
   ],
   "source": [
    "sorted(numbers)"
   ]
  },
  {
   "cell_type": "code",
   "execution_count": 39,
   "id": "275f5d42-5d19-469f-a424-e99a5bac1e5f",
   "metadata": {},
   "outputs": [
    {
     "data": {
      "text/plain": [
       "[[9, 0, -10],\n",
       " [8, 1, -11],\n",
       " [7, 2, -12],\n",
       " [6, 3, -13],\n",
       " [5, 4, -14],\n",
       " [4, 5, -15],\n",
       " [3, 6, -16],\n",
       " [2, 7, -17],\n",
       " [1, 8, -18],\n",
       " [0, 9, -19]]"
      ]
     },
     "execution_count": 39,
     "metadata": {},
     "output_type": "execute_result"
    }
   ],
   "source": [
    "sorted(numbers, key=lambda x:x[-1], reverse=True)"
   ]
  },
  {
   "cell_type": "code",
   "execution_count": 45,
   "id": "34b28fd8-7369-4c2a-bce6-5333cfd8c5c7",
   "metadata": {},
   "outputs": [
    {
     "data": {
      "text/plain": [
       "[[0, 9, -19],\n",
       " [1, 8, -18],\n",
       " [2, 7, -17],\n",
       " [3, 6, -16],\n",
       " [4, 5, -15],\n",
       " [5, 4, -14],\n",
       " [6, 3, -13],\n",
       " [7, 2, -12],\n",
       " [8, 1, -11],\n",
       " [9, 0, -10]]"
      ]
     },
     "execution_count": 45,
     "metadata": {},
     "output_type": "execute_result"
    }
   ],
   "source": [
    "sorted(numbers, key=lambda x: min(x))"
   ]
  },
  {
   "cell_type": "code",
   "execution_count": 38,
   "id": "a40213b3-e7cc-4b0f-b3d5-0ac73910f4ba",
   "metadata": {},
   "outputs": [
    {
     "name": "stdout",
     "output_type": "stream",
     "text": [
      "Help on built-in function sorted in module builtins:\n",
      "\n",
      "sorted(iterable, /, *, key=None, reverse=False)\n",
      "    Return a new list containing all items from the iterable in ascending order.\n",
      "    \n",
      "    A custom key function can be supplied to customize the sort order, and the\n",
      "    reverse flag can be set to request the result in descending order.\n",
      "\n"
     ]
    }
   ],
   "source": [
    "help(sorted)"
   ]
  },
  {
   "cell_type": "markdown",
   "id": "0efc954c-cc36-4afb-aa6e-08f561221df9",
   "metadata": {},
   "source": [
    "`function = lambda argument: code` creates a pseudo-anonymous function that can be executed subsequently  \n",
    "- `function`: name of the function\n",
    "- `lambda`: keyword\n",
    "- `argument`: input for the function\n",
    "- `code`: code to be performed on the function\n",
    "\n",
    "`sorted()` compares the entries in a list and sorts them in ascending order (0-9, A-Z) based on a specified index (0 by default)  \n",
    "a `key` can be specified to customise the sort order, in which a `lambda` function can be used to define the key  \n",
    "there is also the `reverse` argument that can be specified as `True` or `False`"
   ]
  },
  {
   "attachments": {},
   "cell_type": "markdown",
   "id": "eec6fb22",
   "metadata": {},
   "source": [
    "## 1.3 Optional arguments"
   ]
  },
  {
   "cell_type": "code",
   "execution_count": 51,
   "id": "f0f48445-63f6-45d8-8de7-0c12c2c37a1f",
   "metadata": {},
   "outputs": [
    {
     "data": {
      "text/plain": [
       "'HUH'"
      ]
     },
     "execution_count": 51,
     "metadata": {},
     "output_type": "execute_result"
    }
   ],
   "source": [
    "def sibling(name='HUH'):\n",
    "    if name == 'nian' or name == 'dusk' or name == 'ling' or name == 'chongyue' or name == 'shu':\n",
    "        return 'he is returning...'\n",
    "    else:\n",
    "        return name\n",
    "\n",
    "sibling()"
   ]
  },
  {
   "cell_type": "code",
   "execution_count": 52,
   "id": "c817613f-8270-4a26-8c13-7ac1cc208754",
   "metadata": {},
   "outputs": [
    {
     "name": "stdout",
     "output_type": "stream",
     "text": [
      "Help on built-in function print in module builtins:\n",
      "\n",
      "print(*args, sep=' ', end='\\n', file=None, flush=False)\n",
      "    Prints the values to a stream, or to sys.stdout by default.\n",
      "    \n",
      "    sep\n",
      "      string inserted between values, default a space.\n",
      "    end\n",
      "      string appended after the last value, default a newline.\n",
      "    file\n",
      "      a file-like object (stream); defaults to the current sys.stdout.\n",
      "    flush\n",
      "      whether to forcibly flush the stream.\n",
      "\n"
     ]
    }
   ],
   "source": [
    "help(print)"
   ]
  },
  {
   "cell_type": "code",
   "execution_count": 2,
   "id": "44f5bcdd-463b-4550-a6f6-db49636eecc7",
   "metadata": {},
   "outputs": [
    {
     "name": "stdout",
     "output_type": "stream",
     "text": [
      "a AND b AND c END"
     ]
    }
   ],
   "source": [
    "print('a', 'b', 'c', end=' END', sep=' AND ')"
   ]
  },
  {
   "cell_type": "markdown",
   "id": "7e19875a-b01f-46d1-9342-c9bdc7bc62aa",
   "metadata": {},
   "source": [
    "a default argument can be specified in the `def` line for the function to work without an input argument  \n",
    "`def function(argument=default_argument)`\n",
    "\n",
    "`print()` has 5 different arguments, 4 of which are optional (use `?print` to check the documentation for more info)  \n",
    "keyword arguments can be input by specifying the keyword followed by the intended argument/input  \n",
    "there is no fixed sequence to the arguments within a function, as long as the inputs are assigned to the correct argument"
   ]
  },
  {
   "attachments": {},
   "cell_type": "markdown",
   "id": "a882b8b7",
   "metadata": {},
   "source": [
    "## 1.4 The importance of functions?"
   ]
  },
  {
   "cell_type": "markdown",
   "id": "d7352f3d-35cd-4411-b473-72f28dc767ee",
   "metadata": {},
   "source": [
    "hiding repetitive sections of code within functions (abstraction) is a good way to make code easier to maintain  \n",
    "on the other hand, excessive abstraction makes it difficult to keep track of code  \n",
    "keep functions clean and simple, and designed to do 1 thing only"
   ]
  },
  {
   "attachments": {},
   "cell_type": "markdown",
   "id": "939df972",
   "metadata": {},
   "source": [
    "### An argument for functions"
   ]
  },
  {
   "cell_type": "code",
   "execution_count": null,
   "id": "ea2471e0",
   "metadata": {},
   "outputs": [],
   "source": [
    "\n",
    "# Your code here\n"
   ]
  },
  {
   "attachments": {},
   "cell_type": "markdown",
   "id": "7a4a6d6c",
   "metadata": {},
   "source": [
    "### A word of caution"
   ]
  },
  {
   "cell_type": "code",
   "execution_count": null,
   "id": "513382eb",
   "metadata": {},
   "outputs": [],
   "source": [
    "\n",
    "# Your code here\n"
   ]
  },
  {
   "cell_type": "markdown",
   "id": "05684b5a-4f00-4990-985a-622f9e007dfe",
   "metadata": {},
   "source": [
    "### Global vs Local variables"
   ]
  },
  {
   "cell_type": "code",
   "execution_count": 2,
   "id": "0fa44988-35ec-419d-adb1-e6369538a517",
   "metadata": {},
   "outputs": [
    {
     "ename": "NameError",
     "evalue": "name 'l_var' is not defined",
     "output_type": "error",
     "traceback": [
      "\u001b[1;31m---------------------------------------------------------------------------\u001b[0m",
      "\u001b[1;31mNameError\u001b[0m                                 Traceback (most recent call last)",
      "Cell \u001b[1;32mIn[2], line 6\u001b[0m\n\u001b[0;32m      4\u001b[0m     l_var\u001b[38;5;241m=\u001b[39mg_var\u001b[38;5;241m+\u001b[39m\u001b[38;5;241m7654\u001b[39m\n\u001b[0;32m      5\u001b[0m     \u001b[38;5;28;01mreturn\u001b[39;00m l_var\n\u001b[1;32m----> 6\u001b[0m \u001b[38;5;28mprint\u001b[39m(\u001b[43ml_var\u001b[49m)\n",
      "\u001b[1;31mNameError\u001b[0m: name 'l_var' is not defined"
     ]
    }
   ],
   "source": [
    "g_var=2345\n",
    "\n",
    "def testfunction1(input1):\n",
    "    l_var=g_var+7654\n",
    "    return l_var\n",
    "print(l_var)"
   ]
  },
  {
   "cell_type": "markdown",
   "id": "27686bb9-4306-455f-892c-c950377f6db9",
   "metadata": {},
   "source": [
    "Above code did not work as `l_var` is a **local variable** (variable defined only within the function `testfunction1`)  \n",
    "Therefore, it can only be called within the function itself."
   ]
  },
  {
   "cell_type": "code",
   "execution_count": 3,
   "id": "4313dbdd-3f9c-475b-b8ef-ead67dd47397",
   "metadata": {},
   "outputs": [
    {
     "name": "stdout",
     "output_type": "stream",
     "text": [
      "2345\n"
     ]
    }
   ],
   "source": [
    "print(g_var)"
   ]
  },
  {
   "cell_type": "markdown",
   "id": "da2eef4d-2ef4-4c9f-9040-05f89d8dc0b3",
   "metadata": {},
   "source": [
    "In contrast, the above code works as `g_var` is a **global variable** (variable defined within the code itself)  \n",
    "This can be called anywhere in the code with other functions (e.g. `print()`)"
   ]
  },
  {
   "cell_type": "code",
   "execution_count": 10,
   "id": "139ae2ac-1610-480c-91e2-f675a3bb1ebf",
   "metadata": {},
   "outputs": [
    {
     "data": {
      "text/plain": [
       "9999"
      ]
     },
     "execution_count": 10,
     "metadata": {},
     "output_type": "execute_result"
    }
   ],
   "source": [
    "g_var=2345\n",
    "\n",
    "def testfunction1(input1):\n",
    "    l_var=g_var+7654\n",
    "    return l_var\n",
    "\n",
    "testfunction1(1234)"
   ]
  },
  {
   "cell_type": "markdown",
   "id": "0bc95a17-e1d3-496d-bfd3-3c14523726e9",
   "metadata": {},
   "source": [
    "The above code works as we didn't attempt to call `l_var` beyond the function, and instead we only get the value of `l_var` as the output"
   ]
  },
  {
   "cell_type": "code",
   "execution_count": 11,
   "id": "1065da14-69f9-4c3b-b242-e9fd8247c723",
   "metadata": {},
   "outputs": [
    {
     "name": "stdout",
     "output_type": "stream",
     "text": [
      "7777 clears hello\n"
     ]
    },
    {
     "ename": "NameError",
     "evalue": "name 'l_var1' is not defined",
     "output_type": "error",
     "traceback": [
      "\u001b[1;31m---------------------------------------------------------------------------\u001b[0m",
      "\u001b[1;31mNameError\u001b[0m                                 Traceback (most recent call last)",
      "Cell \u001b[1;32mIn[11], line 11\u001b[0m\n\u001b[0;32m      8\u001b[0m     \u001b[38;5;28;01mreturn\u001b[39;00m \u001b[38;5;124mf\u001b[39m\u001b[38;5;124m\"\u001b[39m\u001b[38;5;132;01m{\u001b[39;00ml_var2\u001b[38;5;132;01m}\u001b[39;00m\u001b[38;5;124m clears \u001b[39m\u001b[38;5;132;01m{\u001b[39;00ml_var1\u001b[38;5;132;01m}\u001b[39;00m\u001b[38;5;124m\"\u001b[39m\n\u001b[0;32m     10\u001b[0m \u001b[38;5;28mprint\u001b[39m(testfunction1(\u001b[38;5;124m'\u001b[39m\u001b[38;5;124mhello\u001b[39m\u001b[38;5;124m'\u001b[39m))\n\u001b[1;32m---> 11\u001b[0m \u001b[38;5;28mprint\u001b[39m(\u001b[43mtestfunction2\u001b[49m\u001b[43m(\u001b[49m\u001b[38;5;124;43m'\u001b[39;49m\u001b[38;5;124;43mgoodbye\u001b[39;49m\u001b[38;5;124;43m'\u001b[39;49m\u001b[43m)\u001b[49m)\n",
      "Cell \u001b[1;32mIn[11], line 8\u001b[0m, in \u001b[0;36mtestfunction2\u001b[1;34m(input2)\u001b[0m\n\u001b[0;32m      6\u001b[0m \u001b[38;5;28;01mdef\u001b[39;00m \u001b[38;5;21mtestfunction2\u001b[39m(input2):\n\u001b[0;32m      7\u001b[0m     l_var2\u001b[38;5;241m=\u001b[39mg_var\u001b[38;5;241m+\u001b[39m\u001b[38;5;241m7654\u001b[39m\n\u001b[1;32m----> 8\u001b[0m     \u001b[38;5;28;01mreturn\u001b[39;00m \u001b[38;5;124mf\u001b[39m\u001b[38;5;124m\"\u001b[39m\u001b[38;5;132;01m{\u001b[39;00ml_var2\u001b[38;5;132;01m}\u001b[39;00m\u001b[38;5;124m clears \u001b[39m\u001b[38;5;132;01m{\u001b[39;00m\u001b[43ml_var1\u001b[49m\u001b[38;5;132;01m}\u001b[39;00m\u001b[38;5;124m\"\u001b[39m\n",
      "\u001b[1;31mNameError\u001b[0m: name 'l_var1' is not defined"
     ]
    }
   ],
   "source": [
    "g_var=2345\n",
    "\n",
    "def testfunction1(input1):\n",
    "    l_var1=g_var+5432\n",
    "    return f\"{l_var1} clears {input1}\"\n",
    "def testfunction2(input2):\n",
    "    l_var2=g_var+7654\n",
    "    return f\"{l_var2} clears {l_var1}\"\n",
    "\n",
    "print(testfunction1('hello'))\n",
    "print(testfunction2('goodbye'))"
   ]
  },
  {
   "cell_type": "markdown",
   "id": "e8a8420a-523a-41dd-aba4-71e979dd4733",
   "metadata": {},
   "source": [
    "As above, since the local variable `l_var1` was only defined in `testfunction1`, it cannot be called in another function"
   ]
  },
  {
   "cell_type": "code",
   "execution_count": 14,
   "id": "28375b67-d732-4338-8dcc-ae5bc3330141",
   "metadata": {},
   "outputs": [
    {
     "name": "stdout",
     "output_type": "stream",
     "text": [
      "eyjafjalla is from leithanien in Terra??\n",
      "muelsyse is from columbia in Terra??\n"
     ]
    }
   ],
   "source": [
    "world='Terra'\n",
    "\n",
    "def leithanien(input):\n",
    "    stringer = str(input)\n",
    "    return f\"{stringer} is from leithanien in {world}??\"\n",
    "def columbia(input2):\n",
    "    stringer = str(input2)\n",
    "    return f\"{stringer} is from columbia in {world}??\"\n",
    "\n",
    "print(leithanien('eyjafjalla'))\n",
    "print(columbia('muelsyse'))"
   ]
  },
  {
   "cell_type": "markdown",
   "id": "465ee8b3-2f45-4d5e-bdbb-e5c333d0caf7",
   "metadata": {},
   "source": [
    "the global variable `world` was called in 2 separate functions and worked  \n",
    "the local variable `stringer` can be used in 2 separate functions without any conflict since they 'exist' only within each function (kind of like their own little universe)"
   ]
  }
 ],
 "metadata": {
  "kernelspec": {
   "display_name": "Python 3 (ipykernel)",
   "language": "python",
   "name": "python3"
  },
  "language_info": {
   "codemirror_mode": {
    "name": "ipython",
    "version": 3
   },
   "file_extension": ".py",
   "mimetype": "text/x-python",
   "name": "python",
   "nbconvert_exporter": "python",
   "pygments_lexer": "ipython3",
   "version": "3.11.5"
  },
  "toc": {
   "base_numbering": 1,
   "nav_menu": {},
   "number_sections": true,
   "sideBar": true,
   "skip_h1_title": false,
   "title_cell": "Table of Contents",
   "title_sidebar": "Contents",
   "toc_cell": false,
   "toc_position": {},
   "toc_section_display": true,
   "toc_window_display": false
  },
  "vscode": {
   "interpreter": {
    "hash": "31f2aee4e71d21fbe5cf8b01ff0e069b9275f58929596ceb00d14d90e3e16cd6"
   }
  }
 },
 "nbformat": 4,
 "nbformat_minor": 5
}
