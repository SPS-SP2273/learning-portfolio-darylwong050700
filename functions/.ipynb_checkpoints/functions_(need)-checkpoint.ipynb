{
 "cells": [
  {
   "attachments": {},
   "cell_type": "markdown",
   "id": "123456",
   "metadata": {},
   "source": [
    "<div style=\"text-align:left;font-size:2em\"><span style=\"font-weight:bolder;font-size:1.25em\">SP2273 | Learning Portfolio</span><br><br><span style=\"font-weight:bold;color:darkred\">Functions (Need)</span></div>"
   ]
  },
  {
   "attachments": {},
   "cell_type": "markdown",
   "id": "88c5224a",
   "metadata": {},
   "source": [
    "# What to expect in this chapter"
   ]
  },
  {
   "cell_type": "markdown",
   "id": "2e12f442-7240-4a21-bd22-96fb266de5d0",
   "metadata": {},
   "source": [
    "functions can be defined by users or come inbuilt with Python (internal functions)"
   ]
  },
  {
   "attachments": {},
   "cell_type": "markdown",
   "id": "45d272cb",
   "metadata": {},
   "source": [
    "# 1 User-defined functions"
   ]
  },
  {
   "attachments": {},
   "cell_type": "markdown",
   "id": "ebc5188a",
   "metadata": {},
   "source": [
    "## 1.1 Named Functions"
   ]
  },
  {
   "cell_type": "markdown",
   "id": "07a8018d-847a-438e-954a-f5c31801b1ba",
   "metadata": {},
   "source": [
    "`def function(argument):` is used to define a user function\n",
    "- `function` can be replaced with the name of the intended function\n",
    "- `argument` should be replaced by the name of the intended input/variable\n",
    "- `def` is the keyword"
   ]
  },
  {
   "cell_type": "markdown",
   "id": "eec37741-bfb1-4222-8582-3285a2789614",
   "metadata": {},
   "source": [
    "when calling a function, the input provided in its argument will be used to execute the function  \n",
    "the input argument can also be manually defined as in `function(argument=input)`"
   ]
  },
  {
   "attachments": {},
   "cell_type": "markdown",
   "id": "a77a909d",
   "metadata": {},
   "source": [
    "### Named functions that return"
   ]
  },
  {
   "cell_type": "code",
   "execution_count": null,
   "id": "9802e833",
   "metadata": {},
   "outputs": [],
   "source": [
    "\n",
    "# Your code here\n"
   ]
  },
  {
   "cell_type": "markdown",
   "id": "a38a5e94-682d-404b-9d92-dc251923f51b",
   "metadata": {},
   "source": [
    "`return` outputs a string (if `''` is used), tuple (if a series of numbers delineated with `,`), list (if `[]` is used), or any data type as long as its formatted correectly that can be used for subsequent functions/code  \n",
    "- this is important for defined functions to keep the output for subsequent code\n",
    "- the output can be assigned to a variable in subsequent code as long as it is associated with the function (and its output)\n",
    "- `return` can only be used in functions\n",
    "\n",
    "`print()` only produces an output which cannot be used in subsequent code  \n",
    "- if any code results in no output, `print()` returns the keyword `None`"
   ]
  },
  {
   "attachments": {},
   "cell_type": "markdown",
   "id": "b657ebdb",
   "metadata": {},
   "source": [
    "### Named functions that don’t return"
   ]
  },
  {
   "cell_type": "code",
   "execution_count": null,
   "id": "3028e618",
   "metadata": {},
   "outputs": [],
   "source": [
    "\n",
    "# Your code here\n"
   ]
  },
  {
   "attachments": {},
   "cell_type": "markdown",
   "id": "b31c3b6c",
   "metadata": {},
   "source": [
    "## 1.2 Anonymous functions"
   ]
  },
  {
   "cell_type": "markdown",
   "id": "0efc954c-cc36-4afb-aa6e-08f561221df9",
   "metadata": {},
   "source": [
    "`function = lambda argument: code` creates a pseudo-anonymous function that can be executed subsequently  \n",
    "- `function`: name of the function\n",
    "- `lambda`: keyword\n",
    "- `argument`: input for the function\n",
    "- `code`: code to be performed on the function\n",
    "\n",
    "`sorted()` compares the entries in a list and sorts them in ascending order (0-9, A-Z) based on a specified index (0 by default)  \n",
    "to sort by another index within the entry, a lambda function within its argument can be used\n",
    "`sorted(list, argument=lambda variable:variable[index]`"
   ]
  },
  {
   "attachments": {},
   "cell_type": "markdown",
   "id": "eec6fb22",
   "metadata": {},
   "source": [
    "## 1.3 Optional arguments"
   ]
  },
  {
   "cell_type": "markdown",
   "id": "7e19875a-b01f-46d1-9342-c9bdc7bc62aa",
   "metadata": {},
   "source": [
    "a default argument can be specified in the `def` line for the function to work without an input argument  \n",
    "`def function(argument=default_argument)`\n",
    "\n",
    "`print()` has 5 different arguments, 4 of which are optional (use `?print` to check the documentation for more info)  \n",
    "keyword arguments can be input by specifying the keyword followed by the intended argument/input  \n",
    "there is no fixed sequence to the arguments within a function"
   ]
  },
  {
   "attachments": {},
   "cell_type": "markdown",
   "id": "a882b8b7",
   "metadata": {},
   "source": [
    "## 1.4 The importance of functions?"
   ]
  },
  {
   "cell_type": "markdown",
   "id": "d7352f3d-35cd-4411-b473-72f28dc767ee",
   "metadata": {},
   "source": [
    "hiding repetitive sections of code within functions (abstraction) is a good way to make code easier to maintain  \n",
    "on the other hand, excessive abstraction makes it difficult to keep track of code  \n",
    "keep functions clean and simple, and designed to do 1 thing only"
   ]
  },
  {
   "attachments": {},
   "cell_type": "markdown",
   "id": "939df972",
   "metadata": {},
   "source": [
    "### An argument for functions"
   ]
  },
  {
   "cell_type": "code",
   "execution_count": null,
   "id": "ea2471e0",
   "metadata": {},
   "outputs": [],
   "source": [
    "\n",
    "# Your code here\n"
   ]
  },
  {
   "attachments": {},
   "cell_type": "markdown",
   "id": "7a4a6d6c",
   "metadata": {},
   "source": [
    "### A word of caution"
   ]
  },
  {
   "cell_type": "code",
   "execution_count": null,
   "id": "513382eb",
   "metadata": {},
   "outputs": [],
   "source": [
    "\n",
    "# Your code here\n"
   ]
  }
 ],
 "metadata": {
  "kernelspec": {
   "display_name": "Python 3 (ipykernel)",
   "language": "python",
   "name": "python3"
  },
  "language_info": {
   "codemirror_mode": {
    "name": "ipython",
    "version": 3
   },
   "file_extension": ".py",
   "mimetype": "text/x-python",
   "name": "python",
   "nbconvert_exporter": "python",
   "pygments_lexer": "ipython3",
   "version": "3.11.5"
  },
  "toc": {
   "base_numbering": 1,
   "nav_menu": {},
   "number_sections": true,
   "sideBar": true,
   "skip_h1_title": false,
   "title_cell": "Table of Contents",
   "title_sidebar": "Contents",
   "toc_cell": false,
   "toc_position": {},
   "toc_section_display": true,
   "toc_window_display": false
  },
  "vscode": {
   "interpreter": {
    "hash": "31f2aee4e71d21fbe5cf8b01ff0e069b9275f58929596ceb00d14d90e3e16cd6"
   }
  }
 },
 "nbformat": 4,
 "nbformat_minor": 5
}
