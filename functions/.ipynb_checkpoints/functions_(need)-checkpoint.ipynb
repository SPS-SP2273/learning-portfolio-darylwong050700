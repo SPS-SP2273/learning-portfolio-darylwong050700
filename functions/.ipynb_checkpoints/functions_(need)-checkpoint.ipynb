{
 "cells": [
  {
   "attachments": {},
   "cell_type": "markdown",
   "id": "123456",
   "metadata": {},
   "source": [
    "<div style=\"text-align:left;font-size:2em\"><span style=\"font-weight:bolder;font-size:1.25em\">SP2273 | Learning Portfolio</span><br><br><span style=\"font-weight:bold;color:darkred\">Functions (Need)</span></div>"
   ]
  },
  {
   "attachments": {},
   "cell_type": "markdown",
   "id": "88c5224a",
   "metadata": {},
   "source": [
    "# What to expect in this chapter"
   ]
  },
  {
   "cell_type": "markdown",
   "id": "2e12f442-7240-4a21-bd22-96fb266de5d0",
   "metadata": {},
   "source": [
    "functions can be defined by users or come inbuilt with Python (internal functions)"
   ]
  },
  {
   "cell_type": "code",
   "execution_count": 15,
   "id": "b5acb86a-080c-41c1-aa63-5915b6fbde0b",
   "metadata": {},
   "outputs": [],
   "source": [
    "import numpy as np"
   ]
  },
  {
   "attachments": {},
   "cell_type": "markdown",
   "id": "45d272cb",
   "metadata": {},
   "source": [
    "# 1 User-defined functions"
   ]
  },
  {
   "attachments": {},
   "cell_type": "markdown",
   "id": "ebc5188a",
   "metadata": {},
   "source": [
    "## 1.1 Named Functions"
   ]
  },
  {
   "cell_type": "markdown",
   "id": "07a8018d-847a-438e-954a-f5c31801b1ba",
   "metadata": {},
   "source": [
    "`def function(argument):` is used to define a user function\n",
    "- `function` can be replaced with the name of the intended function\n",
    "- `argument` should be replaced by the name of the intended input/variable\n",
    "- `def` is the keyword\n",
    "\n",
    "it can be good practice to assign the inputs to their arguments when calling functions, to ensure clarity when there are multiple arguments"
   ]
  },
  {
   "cell_type": "markdown",
   "id": "eec37741-bfb1-4222-8582-3285a2789614",
   "metadata": {},
   "source": [
    "when calling a function, the input provided in its argument will be used to execute the function  \n",
    "the input argument can also be manually defined as in `function(argument=input)`  \n",
    "functions can also be called from elsewhere using `import`"
   ]
  },
  {
   "attachments": {},
   "cell_type": "markdown",
   "id": "a77a909d",
   "metadata": {},
   "source": [
    "### Named functions that return"
   ]
  },
  {
   "cell_type": "code",
   "execution_count": 13,
   "id": "7170fb14-c5c7-480e-aee8-6797ca6c1f95",
   "metadata": {},
   "outputs": [
    {
     "name": "stdout",
     "output_type": "stream",
     "text": [
      "that's not a number.\n",
      "the square of 14 is 196.\n"
     ]
    }
   ],
   "source": [
    "def squarer(number):\n",
    "    if type(number) == int or type(number) == float:\n",
    "        return f'the square of {number} is {number**2}.'\n",
    "    else:\n",
    "        return 'that\\'s not a number.'\n",
    "\n",
    "print(squarer('string'))\n",
    "print(squarer(14))"
   ]
  },
  {
   "cell_type": "code",
   "execution_count": 23,
   "id": "674f1130-abb9-454a-8bf2-40a151b5a947",
   "metadata": {},
   "outputs": [
    {
     "name": "stdout",
     "output_type": "stream",
     "text": [
      "<class 'list'>\n"
     ]
    },
    {
     "data": {
      "text/plain": [
       "[1, 32456, 1972.235294117647]"
      ]
     },
     "execution_count": 23,
     "metadata": {},
     "output_type": "execute_result"
    }
   ],
   "source": [
    "def desc_stats(set):\n",
    "    set_array=np.array(set)\n",
    "    return [set_array.min(), set_array.max(), set_array.mean()]\n",
    "\n",
    "print(type(desc_stats([1,6,32456,54,3,6,3,65,75,2,4,77,23,532,213,6,2])))\n",
    "desc_stats([1,6,32456,54,3,6,3,65,75,2,4,77,23,532,213,6,2])"
   ]
  },
  {
   "cell_type": "markdown",
   "id": "a38a5e94-682d-404b-9d92-dc251923f51b",
   "metadata": {},
   "source": [
    "`return` outputs a string (if `''` is used), tuple (if a series of numbers delineated with `,`), list (if `[]` is used), or any data type as long as its formatted correectly that can be used for subsequent functions/code  \n",
    "- this is important for defined functions to keep the output for subsequent code\n",
    "- the output can be assigned to a variable in subsequent code as long as it is associated with the function (and its output)\n",
    "- `return` can only be used in functions\n",
    "\n",
    "`print()` only produces an output which cannot be used in subsequent code  \n",
    "- if any code results in no output, `print()` returns the keyword `None`"
   ]
  },
  {
   "attachments": {},
   "cell_type": "markdown",
   "id": "b657ebdb",
   "metadata": {},
   "source": [
    "### Named functions that don’t return"
   ]
  },
  {
   "cell_type": "code",
   "execution_count": 29,
   "id": "3028e618",
   "metadata": {},
   "outputs": [
    {
     "name": "stdout",
     "output_type": "stream",
     "text": [
      "\n"
     ]
    }
   ],
   "source": [
    "def thin_air(any):\n",
    "    print( )\n",
    "\n",
    "thin_air(2)"
   ]
  },
  {
   "attachments": {},
   "cell_type": "markdown",
   "id": "b31c3b6c",
   "metadata": {},
   "source": [
    "## 1.2 Anonymous functions"
   ]
  },
  {
   "cell_type": "code",
   "execution_count": 32,
   "id": "094d4649-b745-4973-8cb6-7182115e9aa5",
   "metadata": {},
   "outputs": [
    {
     "data": {
      "text/plain": [
       "'mickey what?'"
      ]
     },
     "execution_count": 32,
     "metadata": {},
     "output_type": "execute_result"
    }
   ],
   "source": [
    "false_lambda = lambda input: f'{input} what?'\n",
    "false_lambda('mickey')"
   ]
  },
  {
   "cell_type": "code",
   "execution_count": 33,
   "id": "62f393ef-8d2f-400a-9646-61a4c54a1eb7",
   "metadata": {},
   "outputs": [],
   "source": [
    "numbers=[[9, 0, -10],\n",
    "         [8, 1, -11],\n",
    "         [7, 2, -12],\n",
    "         [6, 3, -13],\n",
    "         [5, 4, -14],\n",
    "         [4, 5, -15],\n",
    "         [3, 6, -16],\n",
    "         [2, 7, -17],\n",
    "         [1, 8, -18],\n",
    "         [0, 9, -19]]"
   ]
  },
  {
   "cell_type": "code",
   "execution_count": 34,
   "id": "720fc341-8587-49c1-868b-81dcfffedb5b",
   "metadata": {},
   "outputs": [
    {
     "data": {
      "text/plain": [
       "[[0, 9, -19],\n",
       " [1, 8, -18],\n",
       " [2, 7, -17],\n",
       " [3, 6, -16],\n",
       " [4, 5, -15],\n",
       " [5, 4, -14],\n",
       " [6, 3, -13],\n",
       " [7, 2, -12],\n",
       " [8, 1, -11],\n",
       " [9, 0, -10]]"
      ]
     },
     "execution_count": 34,
     "metadata": {},
     "output_type": "execute_result"
    }
   ],
   "source": [
    "sorted(numbers)"
   ]
  },
  {
   "cell_type": "code",
   "execution_count": 39,
   "id": "275f5d42-5d19-469f-a424-e99a5bac1e5f",
   "metadata": {},
   "outputs": [
    {
     "data": {
      "text/plain": [
       "[[9, 0, -10],\n",
       " [8, 1, -11],\n",
       " [7, 2, -12],\n",
       " [6, 3, -13],\n",
       " [5, 4, -14],\n",
       " [4, 5, -15],\n",
       " [3, 6, -16],\n",
       " [2, 7, -17],\n",
       " [1, 8, -18],\n",
       " [0, 9, -19]]"
      ]
     },
     "execution_count": 39,
     "metadata": {},
     "output_type": "execute_result"
    }
   ],
   "source": [
    "sorted(numbers, key=lambda x:x[-1], reverse=True)"
   ]
  },
  {
   "cell_type": "code",
   "execution_count": 45,
   "id": "34b28fd8-7369-4c2a-bce6-5333cfd8c5c7",
   "metadata": {},
   "outputs": [
    {
     "data": {
      "text/plain": [
       "[[0, 9, -19],\n",
       " [1, 8, -18],\n",
       " [2, 7, -17],\n",
       " [3, 6, -16],\n",
       " [4, 5, -15],\n",
       " [5, 4, -14],\n",
       " [6, 3, -13],\n",
       " [7, 2, -12],\n",
       " [8, 1, -11],\n",
       " [9, 0, -10]]"
      ]
     },
     "execution_count": 45,
     "metadata": {},
     "output_type": "execute_result"
    }
   ],
   "source": [
    "sorted(numbers, key=lambda x: min(x))"
   ]
  },
  {
   "cell_type": "code",
   "execution_count": 38,
   "id": "a40213b3-e7cc-4b0f-b3d5-0ac73910f4ba",
   "metadata": {},
   "outputs": [
    {
     "name": "stdout",
     "output_type": "stream",
     "text": [
      "Help on built-in function sorted in module builtins:\n",
      "\n",
      "sorted(iterable, /, *, key=None, reverse=False)\n",
      "    Return a new list containing all items from the iterable in ascending order.\n",
      "    \n",
      "    A custom key function can be supplied to customize the sort order, and the\n",
      "    reverse flag can be set to request the result in descending order.\n",
      "\n"
     ]
    }
   ],
   "source": [
    "help(sorted)"
   ]
  },
  {
   "cell_type": "markdown",
   "id": "0efc954c-cc36-4afb-aa6e-08f561221df9",
   "metadata": {},
   "source": [
    "`function = lambda argument: code` creates a pseudo-anonymous function that can be executed subsequently  \n",
    "- `function`: name of the function\n",
    "- `lambda`: keyword\n",
    "- `argument`: input for the function\n",
    "- `code`: code to be performed on the function\n",
    "\n",
    "`sorted()` compares the entries in a list and sorts them in ascending order (0-9, A-Z) based on a specified index (0 by default)  \n",
    "a `key` can be specified to customise the sort order, in which a `lambda` function can be used to define the key  \n",
    "there is also the `reverse` argument that can be specified as `True` or `False`"
   ]
  },
  {
   "attachments": {},
   "cell_type": "markdown",
   "id": "eec6fb22",
   "metadata": {},
   "source": [
    "## 1.3 Optional arguments"
   ]
  },
  {
   "cell_type": "code",
   "execution_count": 51,
   "id": "f0f48445-63f6-45d8-8de7-0c12c2c37a1f",
   "metadata": {},
   "outputs": [
    {
     "data": {
      "text/plain": [
       "'HUH'"
      ]
     },
     "execution_count": 51,
     "metadata": {},
     "output_type": "execute_result"
    }
   ],
   "source": [
    "def sibling(name='HUH'):\n",
    "    if name == 'nian' or name == 'dusk' or name == 'ling' or name == 'chongyue' or name == 'shu':\n",
    "        return 'he is returning...'\n",
    "    else:\n",
    "        return name\n",
    "\n",
    "sibling()"
   ]
  },
  {
   "cell_type": "code",
   "execution_count": 52,
   "id": "c817613f-8270-4a26-8c13-7ac1cc208754",
   "metadata": {},
   "outputs": [
    {
     "name": "stdout",
     "output_type": "stream",
     "text": [
      "Help on built-in function print in module builtins:\n",
      "\n",
      "print(*args, sep=' ', end='\\n', file=None, flush=False)\n",
      "    Prints the values to a stream, or to sys.stdout by default.\n",
      "    \n",
      "    sep\n",
      "      string inserted between values, default a space.\n",
      "    end\n",
      "      string appended after the last value, default a newline.\n",
      "    file\n",
      "      a file-like object (stream); defaults to the current sys.stdout.\n",
      "    flush\n",
      "      whether to forcibly flush the stream.\n",
      "\n"
     ]
    }
   ],
   "source": [
    "help(print)"
   ]
  },
  {
   "cell_type": "code",
   "execution_count": 2,
   "id": "44f5bcdd-463b-4550-a6f6-db49636eecc7",
   "metadata": {},
   "outputs": [
    {
     "name": "stdout",
     "output_type": "stream",
     "text": [
      "a AND b AND c END"
     ]
    }
   ],
   "source": [
    "print('a', 'b', 'c', end=' END', sep=' AND ')"
   ]
  },
  {
   "cell_type": "markdown",
   "id": "7e19875a-b01f-46d1-9342-c9bdc7bc62aa",
   "metadata": {},
   "source": [
    "a default argument can be specified in the `def` line for the function to work without an input argument  \n",
    "`def function(argument=default_argument)`\n",
    "\n",
    "`print()` has 5 different arguments, 4 of which are optional (use `?print` to check the documentation for more info)  \n",
    "keyword arguments can be input by specifying the keyword followed by the intended argument/input  \n",
    "there is no fixed sequence to the arguments within a function, as long as the inputs are assigned to the correct argument"
   ]
  },
  {
   "attachments": {},
   "cell_type": "markdown",
   "id": "a882b8b7",
   "metadata": {},
   "source": [
    "## 1.4 The importance of functions?"
   ]
  },
  {
   "cell_type": "markdown",
   "id": "d7352f3d-35cd-4411-b473-72f28dc767ee",
   "metadata": {},
   "source": [
    "hiding repetitive sections of code within functions (abstraction) is a good way to make code easier to maintain  \n",
    "on the other hand, excessive abstraction makes it difficult to keep track of code  \n",
    "keep functions clean and simple, and designed to do 1 thing only"
   ]
  },
  {
   "attachments": {},
   "cell_type": "markdown",
   "id": "939df972",
   "metadata": {},
   "source": [
    "### An argument for functions"
   ]
  },
  {
   "cell_type": "code",
   "execution_count": null,
   "id": "ea2471e0",
   "metadata": {},
   "outputs": [],
   "source": [
    "\n",
    "# Your code here\n"
   ]
  },
  {
   "attachments": {},
   "cell_type": "markdown",
   "id": "7a4a6d6c",
   "metadata": {},
   "source": [
    "### A word of caution"
   ]
  },
  {
   "cell_type": "code",
   "execution_count": null,
   "id": "513382eb",
   "metadata": {},
   "outputs": [],
   "source": [
    "\n",
    "# Your code here\n"
   ]
  }
 ],
 "metadata": {
  "kernelspec": {
   "display_name": "Python 3 (ipykernel)",
   "language": "python",
   "name": "python3"
  },
  "language_info": {
   "codemirror_mode": {
    "name": "ipython",
    "version": 3
   },
   "file_extension": ".py",
   "mimetype": "text/x-python",
   "name": "python",
   "nbconvert_exporter": "python",
   "pygments_lexer": "ipython3",
   "version": "3.11.5"
  },
  "toc": {
   "base_numbering": 1,
   "nav_menu": {},
   "number_sections": true,
   "sideBar": true,
   "skip_h1_title": false,
   "title_cell": "Table of Contents",
   "title_sidebar": "Contents",
   "toc_cell": false,
   "toc_position": {},
   "toc_section_display": true,
   "toc_window_display": false
  },
  "vscode": {
   "interpreter": {
    "hash": "31f2aee4e71d21fbe5cf8b01ff0e069b9275f58929596ceb00d14d90e3e16cd6"
   }
  }
 },
 "nbformat": 4,
 "nbformat_minor": 5
}
