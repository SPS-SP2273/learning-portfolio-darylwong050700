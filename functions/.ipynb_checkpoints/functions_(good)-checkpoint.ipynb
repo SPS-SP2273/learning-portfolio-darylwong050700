{
 "cells": [
  {
   "attachments": {},
   "cell_type": "markdown",
   "id": "123456",
   "metadata": {},
   "source": [
    "<div style=\"text-align:left;font-size:2em\"><span style=\"font-weight:bolder;font-size:1.25em\">SP2273 | Learning Portfolio</span><br><br><span style=\"font-weight:bold;color:darkred\">Functions (Good)</span></div>"
   ]
  },
  {
   "attachments": {},
   "cell_type": "markdown",
   "id": "c116f267",
   "metadata": {},
   "source": [
    "# What to expect in this chapter"
   ]
  },
  {
   "attachments": {},
   "cell_type": "markdown",
   "id": "a08027b9",
   "metadata": {},
   "source": [
    "# 1 Checks, balances, and contingencies"
   ]
  },
  {
   "cell_type": "markdown",
   "id": "2e5885d4-6f75-4ae2-a3b4-e82290205cd6",
   "metadata": {},
   "source": [
    "checks and balances help to ensure that inputs are free from errors, and to ensure that things are proceeding as planned"
   ]
  },
  {
   "attachments": {},
   "cell_type": "markdown",
   "id": "6321188a",
   "metadata": {},
   "source": [
    "## 1.1 assert"
   ]
  },
  {
   "cell_type": "markdown",
   "id": "55486c78-6a0f-4fc9-a4fc-a93b7275d74f",
   "metadata": {},
   "source": [
    "the syntax for `assert`:\n",
    "- `assert condition, message`\n",
    "- `assert` is the command\n",
    "- `condition` is the condition, for which if it is `True`, it halts the entire program\n",
    "- `message` is the error message to be displayed\n",
    "\n",
    "`assert` is a more extreme version of a check to ensure that the code is running as intended, by allowing us to set a condition to stop it if it meets that condition"
   ]
  },
  {
   "attachments": {},
   "cell_type": "markdown",
   "id": "1e172c06",
   "metadata": {},
   "source": [
    "## 1.2 try-except"
   ]
  },
  {
   "cell_type": "markdown",
   "id": "4586d572-79ab-4b20-929a-87661348ada7",
   "metadata": {},
   "source": [
    "`try` and `except` is a more elegant way of checking for exceptions and handling them in a way you can define  \n",
    "- normally, Python handles exceptions by stopping and providing its own error message\n",
    "- `try-except` can help to prevent the program from accepting unintended inputs and running anyway\n",
    "- `try` -- try this code (in the block) first\n",
    "- `except` -- if the code results in an exception, do this instead\n",
    "\n",
    "allows the program to continue running instead of stopping, instead giving a custom error that can be defined  \n",
    "use cases:\n",
    "- creating a file: `try-except` can check for existing files and overwrite them if desired\n",
    "- handling if server response is slow or negative"
   ]
  },
  {
   "attachments": {},
   "cell_type": "markdown",
   "id": "c998e21c",
   "metadata": {},
   "source": [
    "## 1.3 A simple suggestion"
   ]
  },
  {
   "cell_type": "markdown",
   "id": "ec684b71-0998-40bf-968b-aeba2fb24031",
   "metadata": {},
   "source": [
    "it is worth including signals (using `print()`) to indicate processes happening in the code within each cell  \n",
    "this can act as a check that your program is working as intended  \n",
    "however this slows down the program, which can later be optimised to speed it up"
   ]
  },
  {
   "attachments": {},
   "cell_type": "markdown",
   "id": "272cc514",
   "metadata": {},
   "source": [
    "# 2 Some loose ends"
   ]
  },
  {
   "attachments": {},
   "cell_type": "markdown",
   "id": "ec74f3fd",
   "metadata": {},
   "source": [
    "## 2.1 Positional, keyword and default arguments"
   ]
  },
  {
   "cell_type": "markdown",
   "id": "281051cf-19a1-47a7-b1a0-8ebf2a207dbf",
   "metadata": {},
   "source": [
    "**positional argument**: if none of the parameters before positional arguments are assigned to argument keywords, the default approach is to assign the parameters to the arguments in the function by position of the arguments provided  \n",
    "**keyword argument**: if the parameters are tagged to their keywords, they can be input in any sequence (improves readability)  \n",
    "**default argument**: makes an argument optional, and uses the default argument provided if no input is given\n",
    "\n",
    "a positional argument CANNOT follow a keyword argument, as it creates ambiguity that Python cannot resolve  \n",
    "however, a keyword argument CAN follow a positional argument, assuming there are sufficient expected arguments prior to the keyword argument  \n",
    "multiple parameters cannot be assigned to the same argument  \n",
    "breaking arguments into lines also increases readability while preserving functionality  \n",
    "try to think in a logical manner to expect any errors (e.g. from ambiguity)"
   ]
  },
  {
   "attachments": {},
   "cell_type": "markdown",
   "id": "4165e73e",
   "metadata": {},
   "source": [
    "## 2.2 Docstrings"
   ]
  },
  {
   "cell_type": "markdown",
   "id": "e6c63ac2-8a6d-4449-8475-990260902141",
   "metadata": {},
   "source": [
    "triple single-quote marks `'''` in separate lines can be put into a function to create a docstring that is shown when the function is called using `help()`  \n",
    "the text in between the 2 lines with `'''` will be the docstring  \n",
    "in Jupyter Notebook, `?(argument)` provides additional information such as the file location and type assigned to the docstring is given"
   ]
  },
  {
   "attachments": {},
   "cell_type": "markdown",
   "id": "fc0205f6",
   "metadata": {},
   "source": [
    "## 2.3 Function are first-class citizens"
   ]
  },
  {
   "cell_type": "markdown",
   "id": "0e91ec5f-bc5e-4cd0-bdb0-8328a168a2e5",
   "metadata": {},
   "source": [
    "functions can be passed as arguments to other functions. example for a trigonometry calculator `calc(angle, input_function)`\n",
    "- `angle` can be any number\n",
    "- `input_function` can be defined as a trigonometric function (e.g. `np.sin` or `np.cos`)\n",
    "- this allows the same function `calc` to work differently depending on the function defined in `input_function`\n",
    "- syntax point: when feeding functions as arguments, no brackets are needed (just feed the function directly)\n",
    "  - if the fed function is given its own argument, it will be run on the provided argument and therefore the overall function will not work as intended"
   ]
  },
  {
   "attachments": {},
   "cell_type": "markdown",
   "id": "41d542da",
   "metadata": {},
   "source": [
    "## 2.4 More about unpacking"
   ]
  },
  {
   "cell_type": "markdown",
   "id": "3b64fb56-7892-410e-95de-33f0cd46d3ab",
   "metadata": {},
   "source": [
    "unpacking can directly assign values from lists and arrays to variables  \n",
    "- sufficient variables must be provided to unpack the list/array\n",
    "- alternatively, `*` can be given to assign all other variables to a given variable as a list\n",
    "- the `*` works by positional argument, Python tries to assign the variables by position first then all other variables are attached to the `*` variable"
   ]
  }
 ],
 "metadata": {
  "kernelspec": {
   "display_name": "Python 3 (ipykernel)",
   "language": "python",
   "name": "python3"
  },
  "language_info": {
   "codemirror_mode": {
    "name": "ipython",
    "version": 3
   },
   "file_extension": ".py",
   "mimetype": "text/x-python",
   "name": "python",
   "nbconvert_exporter": "python",
   "pygments_lexer": "ipython3",
   "version": "3.11.5"
  },
  "toc": {
   "base_numbering": 1,
   "nav_menu": {},
   "number_sections": true,
   "sideBar": true,
   "skip_h1_title": false,
   "title_cell": "Table of Contents",
   "title_sidebar": "Contents",
   "toc_cell": false,
   "toc_position": {},
   "toc_section_display": true,
   "toc_window_display": false
  },
  "vscode": {
   "interpreter": {
    "hash": "31f2aee4e71d21fbe5cf8b01ff0e069b9275f58929596ceb00d14d90e3e16cd6"
   }
  }
 },
 "nbformat": 4,
 "nbformat_minor": 5
}
