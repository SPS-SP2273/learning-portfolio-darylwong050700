{
 "cells": [
  {
   "cell_type": "markdown",
   "id": "123456",
   "metadata": {},
   "source": [
    "<div style=\"text-align:left;font-size:2em\"><span style=\"font-weight:bolder;font-size:1.25em\">SP2273 | Learning Portfolio</span><br><br><span style=\"font-weight:bold;color:darkred\">Storing Data (Need)</span></div>"
   ]
  },
  {
   "cell_type": "code",
   "execution_count": 1,
   "id": "4d786cf0",
   "metadata": {},
   "outputs": [],
   "source": [
    "import numpy as np"
   ]
  },
  {
   "cell_type": "markdown",
   "id": "afdb9eba",
   "metadata": {},
   "source": [
    "# What to expect in this chapter"
   ]
  },
  {
   "cell_type": "markdown",
   "id": "af9d7aca",
   "metadata": {},
   "source": [
    "# 1 Lists, Arrays & Dictionaries"
   ]
  },
  {
   "cell_type": "markdown",
   "id": "ba25e7f6",
   "metadata": {},
   "source": [
    "## 1.1 Let’s compare"
   ]
  },
  {
   "cell_type": "code",
   "execution_count": 2,
   "id": "b2a92bb8-5142-49ca-b128-cade880bfc71",
   "metadata": {},
   "outputs": [],
   "source": [
    "py_casters=['Eyjafjalla', 'Goldenglow', 'Ceobe'] # Python list\n",
    "py_medics=['Shining', 'Nightingale', 'Kal\\'tsit']"
   ]
  },
  {
   "cell_type": "code",
   "execution_count": 4,
   "id": "a5459d5b-6600-40fc-a807-06215e7f5883",
   "metadata": {},
   "outputs": [],
   "source": [
    "np_casters=np.array(['Eyjafjalla', 'Goldenglow', 'Ceobe']) # NumPy arrays\n",
    "np_medics=np.array(['Shining', 'Nightingale', 'Kal\\'tsit'])"
   ]
  },
  {
   "cell_type": "code",
   "execution_count": 6,
   "id": "9ea8ea1e-802e-47f8-a205-3fc1a8f5a913",
   "metadata": {},
   "outputs": [],
   "source": [
    "operator_info= { # Dictionary\n",
    "    'Eyjafjalla' : 'Caster',\n",
    "    'Kal\\'tsit' : 'Medic',\n",
    "    'Archetto' : 'Sniper'\n",
    "}"
   ]
  },
  {
   "cell_type": "markdown",
   "id": "114eb944-5596-4f6b-be2c-488315b5a5fa",
   "metadata": {},
   "source": [
    "organising data affects how one thinks about it"
   ]
  },
  {
   "cell_type": "markdown",
   "id": "cfa28e91",
   "metadata": {},
   "source": [
    "## 1.2 Accessing data from a list (or array)"
   ]
  },
  {
   "cell_type": "code",
   "execution_count": 7,
   "id": "d96e9dac-7902-4788-875a-78644fdbb444",
   "metadata": {},
   "outputs": [
    {
     "data": {
      "text/plain": [
       "'Eyjafjalla'"
      ]
     },
     "execution_count": 7,
     "metadata": {},
     "output_type": "execute_result"
    }
   ],
   "source": [
    "py_casters[0]"
   ]
  },
  {
   "cell_type": "code",
   "execution_count": 8,
   "id": "135a7193-0fa3-4b90-bbf5-53c8a1967144",
   "metadata": {},
   "outputs": [
    {
     "data": {
      "text/plain": [
       "'Ceobe'"
      ]
     },
     "execution_count": 8,
     "metadata": {},
     "output_type": "execute_result"
    }
   ],
   "source": [
    "py_casters[2]"
   ]
  },
  {
   "cell_type": "code",
   "execution_count": 16,
   "id": "d8e5845b-b062-498c-a65d-a4103bbec962",
   "metadata": {},
   "outputs": [
    {
     "name": "stdout",
     "output_type": "stream",
     "text": [
      "Goldenglow is paired with Nightingale\n"
     ]
    }
   ],
   "source": [
    "x=1 # assigning variable to pull position-matched entries from both lists\n",
    "print(f\"{py_casters[x]} is paired with {py_medics[x]}\")"
   ]
  },
  {
   "cell_type": "code",
   "execution_count": 17,
   "id": "a751d003-5684-407c-ba28-eac1201cfe74",
   "metadata": {},
   "outputs": [
    {
     "data": {
      "text/plain": [
       "'Ceobe'"
      ]
     },
     "execution_count": 17,
     "metadata": {},
     "output_type": "execute_result"
    }
   ],
   "source": [
    "py_casters[-1] # negative indexing"
   ]
  },
  {
   "cell_type": "markdown",
   "id": "482cdc59-87a6-4850-a7d3-a95d8a521823",
   "metadata": {},
   "source": [
    "Python is **zero-indexed**, meaning lists and arrays are stored starting from position 0  \n",
    "variable can be assigned to match a position in the index  \n",
    "negative numbers (reverse indexing) can be used to pull data from the last entry (assigned position -1)"
   ]
  },
  {
   "cell_type": "markdown",
   "id": "b627a089",
   "metadata": {},
   "source": [
    "## 1.3 Accessing data from a dictionary"
   ]
  },
  {
   "cell_type": "code",
   "execution_count": 15,
   "id": "a6f7df9d-3e70-440d-8667-9d8275276676",
   "metadata": {},
   "outputs": [
    {
     "data": {
      "text/plain": [
       "'Caster'"
      ]
     },
     "execution_count": 15,
     "metadata": {},
     "output_type": "execute_result"
    }
   ],
   "source": [
    "operator_info[\"Eyjafjalla\"] # only keys can be used to get the value, not the other way around"
   ]
  },
  {
   "cell_type": "markdown",
   "id": "dad67dd2-4047-4301-9c95-68b58bab66cf",
   "metadata": {},
   "source": [
    "note that dictionaries have a `key : value` structure"
   ]
  },
  {
   "cell_type": "markdown",
   "id": "f862d15f",
   "metadata": {},
   "source": [
    "## 1.4 Higher dimensional lists"
   ]
  },
  {
   "cell_type": "code",
   "execution_count": 18,
   "id": "2d69638f-2087-492d-9b6c-0d97f58ea352",
   "metadata": {},
   "outputs": [],
   "source": [
    "py_operator_list=[[\"Eyja\",\"Medic\"],\n",
    "                  [\"Swire\",\"Specialist\"],\n",
    "                  [\"Mountain\",\"Guard\"]\n",
    "                 ]"
   ]
  },
  {
   "cell_type": "markdown",
   "id": "3d3570e3-0235-4489-9194-e728b40c4b8b",
   "metadata": {},
   "source": [
    "2D lists can be thought of as a \"list of lists\""
   ]
  },
  {
   "cell_type": "markdown",
   "id": "8bdf7e20",
   "metadata": {},
   "source": [
    "# 2 Lists vs. Arrays"
   ]
  },
  {
   "cell_type": "markdown",
   "id": "6a05c318",
   "metadata": {},
   "source": [
    "## 2.1 Size"
   ]
  },
  {
   "cell_type": "code",
   "execution_count": 19,
   "id": "909a18d0-5a3e-44cc-b098-cdb95eb4a265",
   "metadata": {},
   "outputs": [
    {
     "data": {
      "text/plain": [
       "3"
      ]
     },
     "execution_count": 19,
     "metadata": {},
     "output_type": "execute_result"
    }
   ],
   "source": [
    "len(py_operator_list)"
   ]
  },
  {
   "cell_type": "code",
   "execution_count": 20,
   "id": "c26c193e-a8f5-47c6-adbe-52d9837647ed",
   "metadata": {},
   "outputs": [],
   "source": [
    "np_array_oplist=np.array(py_operator_list)"
   ]
  },
  {
   "cell_type": "code",
   "execution_count": 22,
   "id": "d3cf9cda-0816-4556-b3fb-aa3d0b2ff941",
   "metadata": {},
   "outputs": [
    {
     "data": {
      "text/plain": [
       "3"
      ]
     },
     "execution_count": 22,
     "metadata": {},
     "output_type": "execute_result"
    }
   ],
   "source": [
    "len(np_array_oplist)"
   ]
  },
  {
   "cell_type": "code",
   "execution_count": 23,
   "id": "d04b4f48-b655-4d3c-a6b9-614565bffea9",
   "metadata": {},
   "outputs": [
    {
     "data": {
      "text/plain": [
       "(3, 2)"
      ]
     },
     "execution_count": 23,
     "metadata": {},
     "output_type": "execute_result"
    }
   ],
   "source": [
    "np_array_oplist.shape"
   ]
  },
  {
   "cell_type": "markdown",
   "id": "18d7875c-6961-4dc3-9e1b-ec8cc91e3054",
   "metadata": {},
   "source": [
    "`len()` gives the number of entries in a given list or array\n",
    "\n",
    "an array has the property `.shape` that describes the length of its entries"
   ]
  },
  {
   "cell_type": "markdown",
   "id": "872868c2",
   "metadata": {},
   "source": [
    "## 2.2 Arrays are fussy about type"
   ]
  },
  {
   "cell_type": "code",
   "execution_count": 25,
   "id": "f721d3bd-cfd1-4d83-b49b-9bba1033e595",
   "metadata": {},
   "outputs": [
    {
     "name": "stdout",
     "output_type": "stream",
     "text": [
      "['X', 'Y', 2]\n"
     ]
    }
   ],
   "source": [
    "py_numlist=['X', 'Y', 2]\n",
    "print(py_numlist)"
   ]
  },
  {
   "cell_type": "code",
   "execution_count": 26,
   "id": "0b2cd4fe-cd74-4d76-a49c-135c1f895ca9",
   "metadata": {},
   "outputs": [
    {
     "name": "stdout",
     "output_type": "stream",
     "text": [
      "['X' 'Y' '2']\n"
     ]
    }
   ],
   "source": [
    "np_numlist=np.array(['X','Y',2])\n",
    "print(np_numlist)"
   ]
  },
  {
   "cell_type": "markdown",
   "id": "3b52482b-9430-4e21-bcd3-f706bdea1120",
   "metadata": {},
   "source": [
    "numpy arrays can only hold a single type of data, while Python lists can hold a combination of data types  \n",
    "arrays will look for the type that can encapsulate all the data inside"
   ]
  },
  {
   "cell_type": "markdown",
   "id": "a6320095",
   "metadata": {},
   "source": [
    "## 2.3 Adding a number"
   ]
  },
  {
   "cell_type": "code",
   "execution_count": 28,
   "id": "e5d9d6e1-d7f4-4901-bb29-05a88468ce9a",
   "metadata": {},
   "outputs": [
    {
     "data": {
      "text/plain": [
       "array([11, 12, 13, 14, 15])"
      ]
     },
     "execution_count": 28,
     "metadata": {},
     "output_type": "execute_result"
    }
   ],
   "source": [
    "np_numlist=np.array([1,2,3,4,5])\n",
    "np_numlist + 10"
   ]
  },
  {
   "cell_type": "markdown",
   "id": "379de0fa-077c-4347-aa31-6abadcc081b1",
   "metadata": {},
   "source": [
    "10 can be added to every number on the array"
   ]
  },
  {
   "cell_type": "markdown",
   "id": "76d029e8",
   "metadata": {},
   "source": [
    "## 2.4 Adding another list"
   ]
  },
  {
   "cell_type": "markdown",
   "id": "0a399c15-be03-409b-a5a0-ea00f5ece2af",
   "metadata": {},
   "source": [
    "adding 2 lists produces a longer list  \n",
    "adding 2 arrays adds them together (better for math)"
   ]
  },
  {
   "cell_type": "markdown",
   "id": "18f95bbf",
   "metadata": {},
   "source": [
    "## 2.5 Multiplying by a Number"
   ]
  },
  {
   "cell_type": "markdown",
   "id": "2cbf73ca-2a2d-45a7-aac5-d8ef305556eb",
   "metadata": {},
   "source": [
    "multiplying a list doubles its entries in the same dimension  \n",
    "multiplying an array multiplies all its entries"
   ]
  },
  {
   "cell_type": "markdown",
   "id": "c7ad2daf",
   "metadata": {},
   "source": [
    "## 2.6 Squaring"
   ]
  },
  {
   "cell_type": "markdown",
   "id": "3f49e552-ae9c-4aea-9be7-e69e6b71705c",
   "metadata": {},
   "source": [
    "multiplying a list by a list (i.e. squaring it) does not work  \n",
    "squaring an array squares all its entries"
   ]
  },
  {
   "cell_type": "markdown",
   "id": "99a5ac21",
   "metadata": {},
   "source": [
    "## 2.7 Asking questions"
   ]
  },
  {
   "cell_type": "markdown",
   "id": "a3b3f0a3-7661-45f7-a6f1-f7b5f176a3c2",
   "metadata": {},
   "source": [
    "does not work for lists (or works in confusing ways)  \n",
    "asking questions to an array applies the question to all its entries, and gives a corresponding true/false output  \n",
    "`sum()` can also give the number of entries in an array that passes the test (by leveraging false = 0 and true = 1)"
   ]
  },
  {
   "cell_type": "markdown",
   "id": "35cbaee4",
   "metadata": {},
   "source": [
    "## 2.8 Mathematics"
   ]
  },
  {
   "cell_type": "markdown",
   "id": "55d7ed2a-cf7d-4d86-b100-6ec3550f09e0",
   "metadata": {},
   "source": [
    "functions like `sum()` only work in lists if all entries are the correct data type (int/float in this case)  \n",
    "arrays work with hidden functions (since numpy is optimised for math):  \n",
    "`.sum()` -- alternatively general Python `sum()` can be used, but the Numpy hidden function is *faster*  \n",
    "`.max()` -- `max()` in Python (lists cannot use the hidden array functions)  \n",
    "`.min()` -- `min()` in Python  \n",
    "arrays can also do `.mean()` and `.std()` for mean and standard deviation respectively"
   ]
  },
  {
   "cell_type": "markdown",
   "id": "1bc0bf50",
   "metadata": {},
   "source": [
    "# Exercises & Self-Assessment"
   ]
  },
  {
   "cell_type": "code",
   "execution_count": null,
   "id": "0552bc96",
   "metadata": {},
   "outputs": [],
   "source": [
    "\n",
    "\n",
    "\n",
    "# Your solution here\n",
    "\n",
    "\n"
   ]
  },
  {
   "cell_type": "markdown",
   "id": "38d56665",
   "metadata": {},
   "source": [
    "## Footnotes"
   ]
  }
 ],
 "metadata": {
  "kernelspec": {
   "display_name": "Python 3 (ipykernel)",
   "language": "python",
   "name": "python3"
  },
  "language_info": {
   "codemirror_mode": {
    "name": "ipython",
    "version": 3
   },
   "file_extension": ".py",
   "mimetype": "text/x-python",
   "name": "python",
   "nbconvert_exporter": "python",
   "pygments_lexer": "ipython3",
   "version": "3.11.5"
  },
  "toc": {
   "base_numbering": 1,
   "nav_menu": {},
   "number_sections": true,
   "sideBar": true,
   "skip_h1_title": false,
   "title_cell": "Table of Contents",
   "title_sidebar": "Contents",
   "toc_cell": false,
   "toc_position": {},
   "toc_section_display": true,
   "toc_window_display": false
  },
  "varInspector": {
   "cols": {
    "lenName": 16,
    "lenType": 16,
    "lenVar": 40
   },
   "kernels_config": {
    "python": {
     "delete_cmd_postfix": "",
     "delete_cmd_prefix": "del ",
     "library": "var_list.py",
     "varRefreshCmd": "print(var_dic_list())"
    },
    "r": {
     "delete_cmd_postfix": ") ",
     "delete_cmd_prefix": "rm(",
     "library": "var_list.r",
     "varRefreshCmd": "cat(var_dic_list()) "
    }
   },
   "types_to_exclude": [
    "module",
    "function",
    "builtin_function_or_method",
    "instance",
    "_Feature"
   ],
   "window_display": false
  },
  "vscode": {
   "interpreter": {
    "hash": "31f2aee4e71d21fbe5cf8b01ff0e069b9275f58929596ceb00d14d90e3e16cd6"
   }
  }
 },
 "nbformat": 4,
 "nbformat_minor": 5
}
