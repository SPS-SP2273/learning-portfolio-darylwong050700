{
 "cells": [
  {
   "attachments": {},
   "cell_type": "markdown",
   "id": "123456",
   "metadata": {},
   "source": [
    "<div style=\"text-align:left;font-size:2em\"><span style=\"font-weight:bolder;font-size:1.25em\">SP2273 | Learning Portfolio</span><br><br><span style=\"font-weight:bold;color:darkred\">Storing Data (Good)</span></div>"
   ]
  },
  {
   "cell_type": "code",
   "execution_count": 2,
   "id": "c88b3708-42de-4e23-9bdc-46053413fb9a",
   "metadata": {},
   "outputs": [],
   "source": [
    "import numpy as np"
   ]
  },
  {
   "attachments": {},
   "cell_type": "markdown",
   "id": "b811b0a0",
   "metadata": {},
   "source": [
    "# What to expect in this chapter"
   ]
  },
  {
   "attachments": {},
   "cell_type": "markdown",
   "id": "fcf925a0",
   "metadata": {},
   "source": [
    "# 1 Subsetting: Indexing and Slicing"
   ]
  },
  {
   "cell_type": "markdown",
   "id": "e3f15953-826b-449d-96fd-838897a78707",
   "metadata": {},
   "source": [
    "**subsetting**: selecting data in a list or array  \n",
    "**indexing**: a type of subsetting that selects a single data element  \n",
    "**slicing**: a type of subsetting that selects a range of data elements\n",
    "\n",
    "**ESC+Z**: shortcut to undo cell operation  \n",
    "`&` within `\\begin{align} and \\end{align}` can be used to align in Markdown (all `&` will align)"
   ]
  },
  {
   "attachments": {},
   "cell_type": "markdown",
   "id": "2dbb6e34",
   "metadata": {},
   "source": [
    "## 1.1 Lists & Arrays in 1D | Subsetting & Indexing"
   ]
  },
  {
   "cell_type": "code",
   "execution_count": 7,
   "id": "d729e2ba-7239-436e-8cc7-342d0386c04f",
   "metadata": {},
   "outputs": [
    {
     "data": {
      "text/plain": [
       "'Saria'"
      ]
     },
     "execution_count": 7,
     "metadata": {},
     "output_type": "execute_result"
    }
   ],
   "source": [
    "operator_list=[\"Eyjafjalla\", \"Saria\", \"Kal\\'tsit\", \"Shining\", \"Exusiai\",\n",
    "         \"Qiubai\", \"Horn\", \"Skadi\", \"Surtr\", \"Texas\"]\n",
    "operator_array=np.array(operator_list)\n",
    "\n",
    "operator_list[1]"
   ]
  },
  {
   "cell_type": "code",
   "execution_count": 3,
   "id": "2d9fefd2-6a70-4f7e-a26e-9f19eba2957c",
   "metadata": {},
   "outputs": [
    {
     "data": {
      "text/plain": [
       "'Texas'"
      ]
     },
     "execution_count": 3,
     "metadata": {},
     "output_type": "execute_result"
    }
   ],
   "source": [
    "operator_list[-1]"
   ]
  },
  {
   "cell_type": "code",
   "execution_count": 14,
   "id": "66bbb508-92ff-4525-bc62-f6478d80888b",
   "metadata": {},
   "outputs": [
    {
     "data": {
      "text/plain": [
       "array(['Eyjafjalla', 'Saria', \"Kal'tsit\", 'Shining'], dtype='<U10')"
      ]
     },
     "execution_count": 14,
     "metadata": {},
     "output_type": "execute_result"
    }
   ],
   "source": [
    "operator_array[0:4] # gives positions 1-4 (indexes 0-3)"
   ]
  },
  {
   "cell_type": "code",
   "execution_count": 15,
   "id": "c2e233d3-1265-40ed-8728-32f944417da9",
   "metadata": {},
   "outputs": [
    {
     "data": {
      "text/plain": [
       "array(['Saria', \"Kal'tsit\", 'Shining', 'Exusiai'], dtype='<U10')"
      ]
     },
     "execution_count": 15,
     "metadata": {},
     "output_type": "execute_result"
    }
   ],
   "source": [
    "operator_array[1:5] # gives positions 2-5 (indexes 1-4)"
   ]
  },
  {
   "cell_type": "code",
   "execution_count": 29,
   "id": "5acd57aa-fdd3-4df7-8d79-95b221bd5466",
   "metadata": {},
   "outputs": [
    {
     "data": {
      "text/plain": [
       "array(['Eyjafjalla', \"Kal'tsit\", 'Exusiai', 'Horn'], dtype='<U10')"
      ]
     },
     "execution_count": 29,
     "metadata": {},
     "output_type": "execute_result"
    }
   ],
   "source": [
    "operator_array[0:7:2] # gives positions 1-7 (indexes 0-6) in steps of 2 i.e. first and every other element"
   ]
  },
  {
   "cell_type": "code",
   "execution_count": 30,
   "id": "5905e047-f09c-41b8-a6d0-5a7f0764bc6e",
   "metadata": {},
   "outputs": [
    {
     "data": {
      "text/plain": [
       "['Eyjafjalla', 'Shining', 'Horn']"
      ]
     },
     "execution_count": 30,
     "metadata": {},
     "output_type": "execute_result"
    }
   ],
   "source": [
    "operator_list[0:7:3] # gives positions 1-7 (indexes 0-6) in steps of 3 i.e. first and every third element"
   ]
  },
  {
   "cell_type": "code",
   "execution_count": 17,
   "id": "97b5e2b4-b2cb-409f-8464-6e4d9beb9201",
   "metadata": {},
   "outputs": [
    {
     "data": {
      "text/plain": [
       "array(['Qiubai', 'Horn', 'Skadi', 'Surtr', 'Texas'], dtype='<U10')"
      ]
     },
     "execution_count": 17,
     "metadata": {},
     "output_type": "execute_result"
    }
   ],
   "source": [
    "operator_array[5:] # gives position 6 (index 5) to the end"
   ]
  },
  {
   "cell_type": "code",
   "execution_count": 18,
   "id": "37cba81c-975f-4cc2-9e3a-df781a91f41c",
   "metadata": {},
   "outputs": [
    {
     "data": {
      "text/plain": [
       "['Eyjafjalla', 'Saria', \"Kal'tsit\", 'Shining', 'Exusiai']"
      ]
     },
     "execution_count": 18,
     "metadata": {},
     "output_type": "execute_result"
    }
   ],
   "source": [
    "operator_list[:5] # gives position 1-5 (index 0-4)"
   ]
  },
  {
   "cell_type": "code",
   "execution_count": 21,
   "id": "07443022-dfa3-453d-9463-b5ffee188f5e",
   "metadata": {},
   "outputs": [
    {
     "data": {
      "text/plain": [
       "['Qiubai', 'Exusiai']"
      ]
     },
     "execution_count": 21,
     "metadata": {},
     "output_type": "execute_result"
    }
   ],
   "source": [
    "operator_list[5:3:-1] # gives position 5-6 (index 4-5) in reverse"
   ]
  },
  {
   "cell_type": "code",
   "execution_count": 9,
   "id": "fd83cec7-5968-4ba7-886c-1d1f18377510",
   "metadata": {},
   "outputs": [
    {
     "data": {
      "text/plain": [
       "['Qiubai', 'Exusiai', 'Shining', \"Kal'tsit\", 'Saria']"
      ]
     },
     "execution_count": 9,
     "metadata": {},
     "output_type": "execute_result"
    }
   ],
   "source": [
    "operator_list[5:0:-1]"
   ]
  },
  {
   "cell_type": "code",
   "execution_count": 22,
   "id": "b2186a51-0c38-4b30-9963-1824e1c5f45a",
   "metadata": {},
   "outputs": [
    {
     "data": {
      "text/plain": [
       "['Shining', 'Exusiai']"
      ]
     },
     "execution_count": 22,
     "metadata": {},
     "output_type": "execute_result"
    }
   ],
   "source": [
    "operator_list[3:5:1] # gives position 4-5 (index 3-4)"
   ]
  },
  {
   "cell_type": "code",
   "execution_count": 27,
   "id": "66ec8155-4762-4fff-a3be-29c1ea2a4ebe",
   "metadata": {},
   "outputs": [
    {
     "data": {
      "text/plain": [
       "['Texas',\n",
       " 'Surtr',\n",
       " 'Skadi',\n",
       " 'Horn',\n",
       " 'Qiubai',\n",
       " 'Exusiai',\n",
       " 'Shining',\n",
       " \"Kal'tsit\",\n",
       " 'Saria',\n",
       " 'Eyjafjalla']"
      ]
     },
     "execution_count": 27,
     "metadata": {},
     "output_type": "execute_result"
    }
   ],
   "source": [
    "operator_list[::-1] # reverses the list"
   ]
  },
  {
   "cell_type": "code",
   "execution_count": 34,
   "id": "e6d1e3a1-3e72-463e-9a86-4f84b7f3a5f9",
   "metadata": {},
   "outputs": [
    {
     "data": {
      "text/plain": [
       "['Eyjafjalla',\n",
       " 'Saria',\n",
       " \"Kal'tsit\",\n",
       " 'Shining',\n",
       " 'Exusiai',\n",
       " 'Qiubai',\n",
       " 'Horn',\n",
       " 'Skadi',\n",
       " 'Surtr',\n",
       " 'Texas']"
      ]
     },
     "execution_count": 34,
     "metadata": {},
     "output_type": "execute_result"
    }
   ],
   "source": [
    "operator_list[::1] # prints the list"
   ]
  },
  {
   "cell_type": "code",
   "execution_count": 35,
   "id": "723e1206-829b-4c11-8426-89d85863c31e",
   "metadata": {},
   "outputs": [
    {
     "data": {
      "text/plain": [
       "['Eyjafjalla', \"Kal'tsit\", 'Exusiai', 'Horn', 'Surtr']"
      ]
     },
     "execution_count": 35,
     "metadata": {},
     "output_type": "execute_result"
    }
   ],
   "source": [
    "operator_list[::2]"
   ]
  },
  {
   "cell_type": "markdown",
   "id": "dda13f91-1bcc-4119-9e71-8f3b5bdabefc",
   "metadata": {},
   "source": [
    "slicing operations on a list or array:  \n",
    "`[x:y:z]` for positive `z`  \n",
    "`x` is the lower index of the range to be sliced (default 'all' if blank)  \n",
    "`y-1` is the upper index of the range to be sliced (default 'all' if blank)  \n",
    "`z` represents special operands (index jumps, default 1 if blank)  \n",
    "- `z=1` : standard indexing\n",
    "- `z=-1` : reverse indexing\n",
    "- `z=2,3 etc.` : every z indexing (can be positive or negative)\n",
    "\n",
    "when `z` is negative, `-x` becomes the upper index of the range to be sliced (negative indexing),  \n",
    "and `y+1` becomes the lower index of the range to be sliced (positive indexing)"
   ]
  },
  {
   "cell_type": "markdown",
   "id": "9239f2c2-792c-40a6-a889-5ee477acab3c",
   "metadata": {},
   "source": [
    "i tried `[5:0:-1]` and could only access indices -5 to -9, but when i tried `[5::-1]` i could access indices -5 to -10. why is this so?"
   ]
  },
  {
   "cell_type": "markdown",
   "id": "6d9c61d6-a83c-494a-beb0-6ed3a6fa511b",
   "metadata": {},
   "source": [
    "subsetting: selecting a portion  \n",
    "slicing: selecting a range of indices   \n",
    "when slicing, only $(y-x)$ elements are given (which explains why it ends 1 before `y`)  \n",
    "blank endpoint = undefined endpoint, go to the end  \n",
    "if `0` is put then its a defined endpoint (and Python stops 1 before the endpoint)"
   ]
  },
  {
   "attachments": {},
   "cell_type": "markdown",
   "id": "574ba933",
   "metadata": {},
   "source": [
    "## 1.2 Arrays only | Subsetting by masking"
   ]
  },
  {
   "cell_type": "code",
   "execution_count": 3,
   "id": "c7b79a02-03f5-4420-be0e-68a301b8f7b9",
   "metadata": {},
   "outputs": [
    {
     "data": {
      "text/plain": [
       "array([4])"
      ]
     },
     "execution_count": 3,
     "metadata": {},
     "output_type": "execute_result"
    }
   ],
   "source": [
    "array1=np.array([1,2,3,4,5,6,7,8,9,10])\n",
    "mask1 = array1 == 4\n",
    "array1[mask1]"
   ]
  },
  {
   "cell_type": "code",
   "execution_count": 4,
   "id": "02b311fa-1a90-4dc0-bbd5-2b610bb1fc36",
   "metadata": {},
   "outputs": [
    {
     "data": {
      "text/plain": [
       "array([ 3,  4,  5,  6,  7,  8,  9, 10])"
      ]
     },
     "execution_count": 4,
     "metadata": {},
     "output_type": "execute_result"
    }
   ],
   "source": [
    "array1[array1 > 2] # mask applied directly to the array without creating an additional mask variable"
   ]
  },
  {
   "cell_type": "code",
   "execution_count": 59,
   "id": "91e54799-a666-4abf-a83e-2a1f3e0c0062",
   "metadata": {},
   "outputs": [
    {
     "data": {
      "text/plain": [
       "array([1, 2])"
      ]
     },
     "execution_count": 59,
     "metadata": {},
     "output_type": "execute_result"
    }
   ],
   "source": [
    "array1[~(array1>2)]"
   ]
  },
  {
   "cell_type": "code",
   "execution_count": 61,
   "id": "7c15edb6-7cdb-4ffd-82de-61076eaed9ef",
   "metadata": {},
   "outputs": [
    {
     "data": {
      "text/plain": [
       "array([3, 4])"
      ]
     },
     "execution_count": 61,
     "metadata": {},
     "output_type": "execute_result"
    }
   ],
   "source": [
    "array1[(array1>2) & (array1<5)]"
   ]
  },
  {
   "cell_type": "code",
   "execution_count": 62,
   "id": "9b7d2902-f4c1-4c3a-8dee-0de9c892dfec",
   "metadata": {},
   "outputs": [
    {
     "data": {
      "text/plain": [
       "array([ 1,  2,  3,  4,  5,  6,  7,  8,  9, 10])"
      ]
     },
     "execution_count": 62,
     "metadata": {},
     "output_type": "execute_result"
    }
   ],
   "source": [
    "array1[(array1>2) | (array1<8)]"
   ]
  },
  {
   "cell_type": "markdown",
   "id": "1735c8b2-4f0a-4f0f-a234-3c18c23003c5",
   "metadata": {},
   "source": [
    "numpy arrays can use masking to perform subsetting by filtering an array for a given condition  \n",
    "the mask will only show elements where the condition is **true**  \n",
    "using `~(mask)` (Bitwise NOT) will instead show elements where the condition is **false**  \n",
    "using `(mask)&(mask2)` (Bitwise AND, not `and`) allows for the use of 2 or more filters, and will return elements that are **true** for all masks  \n",
    "using `(mask)|(mask2)` (Bitwise OR, not `or`) returns elements that are true for **1 or both** masks  \n",
    "brackets are important to differentiate the masks clearly when using Bitwise operands\n",
    "\n",
    "masks are useful for storing `True` and `False`, and can be applied to multidimensional structures  \n",
    "multidimensional masks can be done as well"
   ]
  },
  {
   "attachments": {},
   "cell_type": "markdown",
   "id": "f0ef51f5",
   "metadata": {},
   "source": [
    "## 1.3 Lists & Arrays in 2D | Indexing & Slicing"
   ]
  },
  {
   "cell_type": "code",
   "execution_count": 5,
   "id": "e0611359-b7da-4783-a4ce-c2c33eb155e9",
   "metadata": {},
   "outputs": [],
   "source": [
    "list2 = [[1, \"A\"], [2, \"B\"], [3, \"C\"], [4, \"D\"],\n",
    "              [5, \"E\"], [6, \"F\"], [7, \"G\"], [8, \"H\"],\n",
    "              [9, \"I\"], [10, \"J\"]]\n",
    "\n",
    "array2 = np.array(list2)"
   ]
  },
  {
   "cell_type": "code",
   "execution_count": 67,
   "id": "466f049e-d1cc-4be5-abf7-70cd3f8caec6",
   "metadata": {},
   "outputs": [
    {
     "data": {
      "text/plain": [
       "[4, 'D']"
      ]
     },
     "execution_count": 67,
     "metadata": {},
     "output_type": "execute_result"
    }
   ],
   "source": [
    "list2[3] # index 3 from list2"
   ]
  },
  {
   "cell_type": "code",
   "execution_count": 66,
   "id": "52361bbd-7ca3-450a-bcc8-09f35f22994c",
   "metadata": {},
   "outputs": [
    {
     "data": {
      "text/plain": [
       "'D'"
      ]
     },
     "execution_count": 66,
     "metadata": {},
     "output_type": "execute_result"
    }
   ],
   "source": [
    "list2[3][1] # index 1 from index 3 of list2"
   ]
  },
  {
   "cell_type": "code",
   "execution_count": 11,
   "id": "e3ab9189-06b9-4060-90df-c7a753e84866",
   "metadata": {},
   "outputs": [
    {
     "data": {
      "text/plain": [
       "'7'"
      ]
     },
     "execution_count": 11,
     "metadata": {},
     "output_type": "execute_result"
    }
   ],
   "source": [
    "array2[6,0] # index 1 from index 6 of array2, note the different syntax and storing ints as strings (1 data type only)"
   ]
  },
  {
   "cell_type": "code",
   "execution_count": 74,
   "id": "a9667a32-f4f1-47ef-b592-370a559c9f97",
   "metadata": {},
   "outputs": [
    {
     "data": {
      "text/plain": [
       "[[1, 'A'], [2, 'B'], [3, 'C']]"
      ]
     },
     "execution_count": 74,
     "metadata": {},
     "output_type": "execute_result"
    }
   ],
   "source": [
    "list2[:3] # indexes 0-2 from list2"
   ]
  },
  {
   "cell_type": "code",
   "execution_count": 75,
   "id": "ff11c2d9-edfc-4739-aca4-ac5504f7796d",
   "metadata": {},
   "outputs": [
    {
     "data": {
      "text/plain": [
       "array([['1', 'A'],\n",
       "       ['2', 'B'],\n",
       "       ['3', 'C'],\n",
       "       ['4', 'D'],\n",
       "       ['5', 'E']], dtype='<U11')"
      ]
     },
     "execution_count": 75,
     "metadata": {},
     "output_type": "execute_result"
    }
   ],
   "source": [
    "array2[0:5] # indexes 0-4 from array2"
   ]
  },
  {
   "cell_type": "code",
   "execution_count": 76,
   "id": "c8d4535a-461a-47a9-8f7c-4ccf4eed32e5",
   "metadata": {},
   "outputs": [
    {
     "data": {
      "text/plain": [
       "[1, 'A']"
      ]
     },
     "execution_count": 76,
     "metadata": {},
     "output_type": "execute_result"
    }
   ],
   "source": [
    "list2[:3][0] # index 0 from indexes 0-3 from list2"
   ]
  },
  {
   "cell_type": "code",
   "execution_count": 80,
   "id": "7564fea5-2924-4164-9b13-61395ab61880",
   "metadata": {},
   "outputs": [
    {
     "data": {
      "text/plain": [
       "array(['F', 'E'], dtype='<U11')"
      ]
     },
     "execution_count": 80,
     "metadata": {},
     "output_type": "execute_result"
    }
   ],
   "source": [
    "array2[5:3:-1, 1] # index 1 from each of indexes 0-5 from array2"
   ]
  },
  {
   "cell_type": "code",
   "execution_count": 79,
   "id": "15033769-c998-4ea8-a3b8-f87e1e5a546f",
   "metadata": {},
   "outputs": [
    {
     "data": {
      "text/plain": [
       "array(['A', 'B', 'C', 'D', 'E', 'F', 'G', 'H', 'I', 'J'], dtype='<U11')"
      ]
     },
     "execution_count": 79,
     "metadata": {},
     "output_type": "execute_result"
    }
   ],
   "source": [
    "array2[:, 1] # index 1 from all indexes in array2"
   ]
  },
  {
   "cell_type": "markdown",
   "id": "0e9f074a-a848-43b1-8d60-d7806261b512",
   "metadata": {},
   "source": [
    "syntax for lists: `list[x:y:z][w]` pulls index w from indexes x to y-1 with index jump z from list  \n",
    "syntax for arrays: `array[x:y:z, w]` pulls index w from each of indexes x to y-1 with index jump z from array  \n",
    "(`x:y:z` syntax is similar obtaining a sliced list/array as above, `w` performs a second slice to the sliced list/array)"
   ]
  },
  {
   "attachments": {},
   "cell_type": "markdown",
   "id": "fffbec0b",
   "metadata": {},
   "source": [
    "## 1.4 Growing lists"
   ]
  },
  {
   "cell_type": "code",
   "execution_count": 82,
   "id": "1c8da540-5933-458d-a242-40ce78104ef7",
   "metadata": {},
   "outputs": [
    {
     "data": {
      "text/plain": [
       "[1, 2, 1, 2, 1, 2, 1, 2, 1, 2]"
      ]
     },
     "execution_count": 82,
     "metadata": {},
     "output_type": "execute_result"
    }
   ],
   "source": [
    "x=[1,2]*5\n",
    "x"
   ]
  },
  {
   "cell_type": "code",
   "execution_count": 91,
   "id": "b003c9b3-30b3-49d0-a929-3304a47c8416",
   "metadata": {},
   "outputs": [
    {
     "data": {
      "text/plain": [
       "list"
      ]
     },
     "execution_count": 91,
     "metadata": {},
     "output_type": "execute_result"
    }
   ],
   "source": [
    "x=[1,2,3]+[4,5]\n",
    "x*= 2\n",
    "x.append([2,2,2,2,2])\n",
    "type(x[10])"
   ]
  },
  {
   "cell_type": "code",
   "execution_count": 94,
   "id": "b5d0e06a-0ef2-4bce-97b1-cc57adaf3d62",
   "metadata": {},
   "outputs": [
    {
     "data": {
      "text/plain": [
       "[1, 2, 3, 4, 5, 6, 7, 8]"
      ]
     },
     "execution_count": 94,
     "metadata": {},
     "output_type": "execute_result"
    }
   ],
   "source": [
    "x=[1,2,3]+[4,5]\n",
    "x.extend([6,7,8])\n",
    "#x.extend(9,10)\n",
    "x"
   ]
  },
  {
   "cell_type": "markdown",
   "id": "6dfd60eb-d3c7-49f0-97e3-14c6d25422f1",
   "metadata": {},
   "source": [
    "lists can be multiplied by an integer to expand them (lists cannot be divided)  \n",
    "two lists can be added together, appending the second list to the first one (`.append()` is the **fastest**)  \n",
    "`.append()` can only take one argument (1 element) at a time. `.append()` can also add lists and strings as a single element  \n",
    "to append multiple elements use `.extend()`, it also takes a single argument but if a list is given it adds all list elements as individual elements\n",
    "\n",
    "`.append()` is used to add lists to lists (extends the appended entry to higher dimension)  \n",
    "if elements are to be added to the front of the list, addition can be done `[1,2,3]+x` instead (`.prepend()` is slow and discouraged)"
   ]
  },
  {
   "cell_type": "code",
   "execution_count": 17,
   "id": "fac1ccaa-48fa-4979-a114-e2b362c5517f",
   "metadata": {},
   "outputs": [
    {
     "name": "stdout",
     "output_type": "stream",
     "text": [
      "[1, 2, 2, 3]\n"
     ]
    }
   ],
   "source": [
    "x=[1,2,3]\n",
    "w=np.array(x)\n",
    "x.insert(1,2)\n",
    "print(x)"
   ]
  },
  {
   "cell_type": "markdown",
   "id": "f8c4d804-e12d-4dc2-af3b-4a448f992a84",
   "metadata": {},
   "source": [
    "`.insert(x,y)` can be used to insert elements at any position on the list or array:  \n",
    "`x` is the index in the new list where element `y` will be inserted"
   ]
  },
  {
   "attachments": {},
   "cell_type": "markdown",
   "id": "5623aa93",
   "metadata": {},
   "source": [
    "# Some loose ends"
   ]
  },
  {
   "attachments": {},
   "cell_type": "markdown",
   "id": "afc7f9cc",
   "metadata": {},
   "source": [
    "## 1.5 Tuples"
   ]
  },
  {
   "cell_type": "code",
   "execution_count": 102,
   "id": "515a1408-a99c-4a72-b7e8-e48982ebf049",
   "metadata": {},
   "outputs": [
    {
     "name": "stdout",
     "output_type": "stream",
     "text": [
      "2\n"
     ]
    }
   ],
   "source": [
    "a=(1,2,3)\n",
    "print(a[1])"
   ]
  },
  {
   "cell_type": "code",
   "execution_count": 104,
   "id": "c921cd0c-c9f9-43c8-a417-842580b1ad9f",
   "metadata": {},
   "outputs": [
    {
     "data": {
      "text/plain": [
       "(1, 2, 3, 1, 2, 3, 1, 2, 3)"
      ]
     },
     "execution_count": 104,
     "metadata": {},
     "output_type": "execute_result"
    }
   ],
   "source": [
    "b=(1,2,3)\n",
    "a+=b\n",
    "a"
   ]
  },
  {
   "cell_type": "code",
   "execution_count": 105,
   "id": "ac50131e-f4ad-47ff-8874-0747c6c1a700",
   "metadata": {},
   "outputs": [
    {
     "ename": "TypeError",
     "evalue": "'tuple' object does not support item assignment",
     "output_type": "error",
     "traceback": [
      "\u001b[1;31m---------------------------------------------------------------------------\u001b[0m",
      "\u001b[1;31mTypeError\u001b[0m                                 Traceback (most recent call last)",
      "Cell \u001b[1;32mIn[105], line 2\u001b[0m\n\u001b[0;32m      1\u001b[0m a\u001b[38;5;241m=\u001b[39m(\u001b[38;5;241m1\u001b[39m,\u001b[38;5;241m2\u001b[39m,\u001b[38;5;241m3\u001b[39m)\n\u001b[1;32m----> 2\u001b[0m \u001b[43ma\u001b[49m\u001b[43m[\u001b[49m\u001b[38;5;241;43m0\u001b[39;49m\u001b[43m]\u001b[49m\u001b[38;5;241m=\u001b[39m\u001b[38;5;241m3\u001b[39m\n",
      "\u001b[1;31mTypeError\u001b[0m: 'tuple' object does not support item assignment"
     ]
    }
   ],
   "source": [
    "a=(1,2,3)\n",
    "a[0]=3"
   ]
  },
  {
   "cell_type": "code",
   "execution_count": 100,
   "id": "217b2555-84b2-4384-ad1a-f6f705878f59",
   "metadata": {},
   "outputs": [
    {
     "data": {
      "text/plain": [
       "[2, 2, 3]"
      ]
     },
     "execution_count": 100,
     "metadata": {},
     "output_type": "execute_result"
    }
   ],
   "source": [
    "list3=[1,2,3]\n",
    "list3[0]+=1\n",
    "list3"
   ]
  },
  {
   "cell_type": "code",
   "execution_count": 101,
   "id": "dab07f70-d074-4451-a8bd-b894ba34ad9b",
   "metadata": {},
   "outputs": [
    {
     "data": {
      "text/plain": [
       "array([3, 2, 3])"
      ]
     },
     "execution_count": 101,
     "metadata": {},
     "output_type": "execute_result"
    }
   ],
   "source": [
    "array3=np.array(list3)\n",
    "array3[0]=3\n",
    "array3"
   ]
  },
  {
   "cell_type": "markdown",
   "id": "89d1f7fa-6f4a-4b79-8a2f-899883685d4f",
   "metadata": {},
   "source": [
    "adding 2 tuples together gives weird results  \n",
    "data in tuples cannot be modified (does not support item assignment)    \n",
    "data in lists and arrays can be modified by specifying the element and operand\n",
    "\n",
    "tuples are intended as failsafes against human error"
   ]
  },
  {
   "attachments": {},
   "cell_type": "markdown",
   "id": "19891fa2",
   "metadata": {},
   "source": [
    "## 1.6 Be VERY careful when copying"
   ]
  },
  {
   "cell_type": "code",
   "execution_count": 113,
   "id": "5d8265a0-0bb4-4ff9-acf5-e85372ecfce2",
   "metadata": {},
   "outputs": [
    {
     "name": "stdout",
     "output_type": "stream",
     "text": [
      "[1, 2, 3]\n",
      "[6, 2, 3]\n"
     ]
    }
   ],
   "source": [
    "x=[1,2,3]\n",
    "y=x\n",
    "print(y)\n",
    "x[0]+=5\n",
    "print(y)"
   ]
  },
  {
   "cell_type": "code",
   "execution_count": 114,
   "id": "d9711c04-53b7-42e0-aefd-54fd68966e19",
   "metadata": {},
   "outputs": [
    {
     "name": "stdout",
     "output_type": "stream",
     "text": [
      "[1, 2, 3]\n",
      "[1, 2, 3]\n"
     ]
    }
   ],
   "source": [
    "x=[1,2,3]\n",
    "y=x.copy()\n",
    "print(y)\n",
    "x[0]+=5\n",
    "print(y)"
   ]
  },
  {
   "cell_type": "markdown",
   "id": "f03310de-445d-42c6-bc33-88031659dcdb",
   "metadata": {},
   "source": [
    "when copying lists and arrays, use `.copy()` instead of simply assigning them to new variables  \n",
    "this is because lists and arrays are mutable, and changing one of the elements in a list/array will affect all the copies made with `=`\n",
    "\n",
    "all things in Python have an ID number, if directly assigning `y=x` both `y` and `x` will have the same ID number  \n",
    "if using `y=x.copy()` `y` and `x` will have different IDs (can be checked with `id(x)` and `id(y)`)"
   ]
  },
  {
   "attachments": {},
   "cell_type": "markdown",
   "id": "7d58cb7b",
   "metadata": {},
   "source": [
    "# Exercises & Self-Assessment"
   ]
  },
  {
   "cell_type": "code",
   "execution_count": null,
   "id": "8a8dc99d",
   "metadata": {},
   "outputs": [],
   "source": [
    "\n",
    "\n",
    "\n",
    "# Your solution here\n",
    "\n",
    "\n"
   ]
  },
  {
   "attachments": {},
   "cell_type": "markdown",
   "id": "70c18db8",
   "metadata": {},
   "source": [
    "## Footnotes"
   ]
  }
 ],
 "metadata": {
  "kernelspec": {
   "display_name": "Python 3 (ipykernel)",
   "language": "python",
   "name": "python3"
  },
  "language_info": {
   "codemirror_mode": {
    "name": "ipython",
    "version": 3
   },
   "file_extension": ".py",
   "mimetype": "text/x-python",
   "name": "python",
   "nbconvert_exporter": "python",
   "pygments_lexer": "ipython3",
   "version": "3.11.5"
  },
  "toc": {
   "base_numbering": 1,
   "nav_menu": {},
   "number_sections": true,
   "sideBar": true,
   "skip_h1_title": false,
   "title_cell": "Table of Contents",
   "title_sidebar": "Contents",
   "toc_cell": false,
   "toc_position": {},
   "toc_section_display": true,
   "toc_window_display": false
  },
  "vscode": {
   "interpreter": {
    "hash": "31f2aee4e71d21fbe5cf8b01ff0e069b9275f58929596ceb00d14d90e3e16cd6"
   }
  }
 },
 "nbformat": 4,
 "nbformat_minor": 5
}
